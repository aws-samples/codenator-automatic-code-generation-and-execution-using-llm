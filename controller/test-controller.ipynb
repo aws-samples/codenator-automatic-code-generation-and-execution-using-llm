{
 "cells": [
  {
   "cell_type": "code",
   "execution_count": 2,
   "id": "16c89da9-55fe-47b9-9f00-022df17001f8",
   "metadata": {
    "tags": []
   },
   "outputs": [],
   "source": [
    "import os\n",
    "\n",
    "os.chdir('app')"
   ]
  },
  {
   "cell_type": "code",
   "execution_count": 4,
   "id": "2c652af6-e0c8-48ff-b9a3-c29eb2809ebe",
   "metadata": {
    "tags": []
   },
   "outputs": [
    {
     "data": {
      "text/plain": [
       "' You are a helpful AI assistant that generates code.\\\\nYou have access to a  code interpreter environment, which supports you in your tasks.\\\\nYou respond by generating  code to answer user instructions.\\\\nThe code is executed in an interactive shell.\\\\nThe environment has internet, file system access and access to AWS my account.\\\\nTo answer instructions about my AWS account, generate  code.\\\\nWhen generating code, use the following format:\\\\n```\\\\n<your code>\\\\n```\\\\n\\\\nReport expected output and enclose it within a <output></output> tag.\\\\nIf you want to call  and still say something, do only output text above the code block, NOT below.\\\\nOnly provide at most one code block per message.\\\\nThe code will be executed automatically.'"
      ]
     },
     "execution_count": 4,
     "metadata": {},
     "output_type": "execute_result"
    }
   ],
   "source": [
    "from prompt.store import TemplateStore\n",
    "\n",
    "prompt_store = TemplateStore(external_store=True, ddb_table_name=\"prompt-store\")\n",
    "# prompt_store.read_from_json(\"prompt/database.json\")\n",
    "prompt_store.get_prompt_from_template(\"LLAMA2_CG_SYSTEM_PROMPT\",{\"display_name\": \"\", \"tag_name\": \"\", \"language_instructions\": \"\", \"koko\":\"\"})"
   ]
  },
  {
   "cell_type": "code",
   "execution_count": 4,
   "id": "06f162e7-1b88-46e5-baef-e5f88938260d",
   "metadata": {
    "tags": []
   },
   "outputs": [
    {
     "data": {
      "text/plain": [
       "dict"
      ]
     },
     "execution_count": 4,
     "metadata": {},
     "output_type": "execute_result"
    }
   ],
   "source": [
    "import boto3\n",
    "\n",
    "ddb_client = prompt_store.ddb_client\n",
    "ddb_table_name = prompt_store.table_name\n",
    "type(ddb_client.get_item(\n",
    "    TableName=ddb_table_name, \n",
    "    Key={\n",
    "        \"template_id\":{\n",
    "            \"S\": \"CLAUDE_CG_SYSTEM_PROMPT\"\n",
    "        }\n",
    "    }\n",
    ")[\"Item\"])"
   ]
  },
  {
   "cell_type": "code",
   "execution_count": 8,
   "id": "69f3cdd4-5471-4e00-989c-12adaded5a05",
   "metadata": {
    "tags": []
   },
   "outputs": [],
   "source": [
    "from prompt.template import PromptTemplate\n",
    "from prompt.store import TemplateStore\n",
    "\n",
    "prompt_store = TemplateStore()\n",
    "\n",
    "prompt_store.add_template(\n",
    "        template_id=\"CI_SYSTEM_PROMPT\",\n",
    "        template=PromptTemplate(\n",
    "            template=\"\"\" You are a helpful AI assistant.\n",
    "\n",
    "You have access to a {display_name} code interpreter, which supports you in your tasks.\n",
    "The code is executed in an interactive shell, imports and variables are preserved between calls.\n",
    "The environment has internet and file system access.\n",
    "The current working directory is shared with the user, so files can be exchanged.\n",
    "There are many libraries pre-installed, including numpy, pandas, matplotlib, and scikit-learn.\n",
    "You cannot show rich outputs like plots or images, but you can store them in the working directory and point the user to them.\n",
    "If the code runs too long, there will be a timeout.\n",
    "\n",
    "To access the interpreter, use the following format:\n",
    "```{tag_name}\n",
    "<your code>\n",
    "```\n",
    "{language_instructions}\n",
    "Report expected output and enclose it within a <output></output> tag.\n",
    "If you want to call {display_name} and still say something, do only output text above the code block, NOT below.\n",
    "Only provide at most one code block per message.\n",
    "The code will be executed automatically and the result will be sent back to you\n",
    "\"\"\",\n",
    "            params=[\"display_name\", \"tag_name\", \"language_instructions\"]\n",
    "        )\n",
    ")\n",
    "\n",
    "\n",
    "prompt_store.add_template(\n",
    "        template_id=\"CI_AGENT_REPLY\",\n",
    "        template=PromptTemplate(\n",
    "            template=\"\"\" Thank you for the explanation. I understand I have access to a {display_name} interpreter and can execute code by placing it between ```{tag_name} tags then return expected output between <output></output> tags. I will use this to assist you with any {display_name} programming tasks. Just let me know what you need help with!\n",
    "\"\"\",\n",
    "            params=[\"display_name\", \"tag_name\"]\n",
    "        )\n",
    ")\n",
    "\n",
    "\n",
    "prompt_store.add_template(\n",
    "        template_id=\"CI_SCRIPT_ERROR\",\n",
    "        template=PromptTemplate(\n",
    "            template=\" The script failed with below error, correct the script for me. Make sure to include full script between ```{tag_name} tags:\\n<error>\\n{error_message}\\n</error>\",\n",
    "            params=[\"tag_name\", \"error_message\"]\n",
    "        )\n",
    ")\n",
    "\n",
    "\n",
    "prompt_store.add_template(\n",
    "        template_id=\"CI_SCRIPT_SUCCESS\",\n",
    "        template=PromptTemplate(\n",
    "            template=\" The script executed successfully with below output, Answer with only Yes or No if this is the expected output:\\n<output>\\n{script_output}\\n</output>\",\n",
    "            params=[\"script_output\"]\n",
    "        )\n",
    ")"
   ]
  },
  {
   "cell_type": "code",
   "execution_count": 10,
   "id": "631e4338-1e10-4461-951e-9cc1169bd71b",
   "metadata": {
    "tags": []
   },
   "outputs": [],
   "source": [
    "ROLES = [\"Human\", \"Assistant\"]\n",
    "\n",
    "LANGUAGES = {\n",
    "    \"Python\": {\n",
    "        \"display_name\": \"Python\",\n",
    "        \"kernel_name\": \"python3\",\n",
    "        \"tag_name\": \"python\",\n",
    "        \"language_instructions\": \"\",\n",
    "        \"pre_exec_script\": None,\n",
    "        \"post_exec_script\": None\n",
    "    },\n",
    "    \"R\": {\n",
    "        \"display_name\": \"R\",\n",
    "        \"kernel_name\": \"ir\",\n",
    "        \"tag_name\": \"R\",\n",
    "        \"language_instructions\":\"\",\n",
    "        \"pre_exec_script\": None,\n",
    "        \"post_exec_script\": None\n",
    "    },\n",
    "    \"Java\": {\n",
    "        \"display_name\": \"Java\",\n",
    "        \"kernel_name\": \"java\",\n",
    "        \"tag_name\": \"java\",\n",
    "        \"language_instructions\": \"Always use \\\"Main\\\" as class name.\",\n",
    "        \"pre_exec_script\": None,\n",
    "        \"post_exec_script\": \"Main.main(new String[] {})\"\n",
    "    },\n",
    "    \"JavaScript\": {\n",
    "        \"display_name\": \"JavaScript\",\n",
    "        \"kernel_name\": \"javascript\",\n",
    "        \"tag_name\": \"js\",\n",
    "        \"language_instructions\": \"\",\n",
    "        \"pre_exec_script\": None,\n",
    "        \"post_exec_script\": None\n",
    "    },\n",
    "    \"Bash\": {\n",
    "        \"display_name\": \"Bash\",\n",
    "        \"kernel_name\": \"bash\",\n",
    "        \"tag_name\": \"bash\",\n",
    "        \"language_instructions\": \"\",\n",
    "        \"pre_exec_script\": None,\n",
    "        \"post_exec_script\": None\n",
    "    }\n",
    "}"
   ]
  },
  {
   "cell_type": "code",
   "execution_count": 14,
   "id": "88fa39ef-aa74-4b7f-871d-d27114dd9ee0",
   "metadata": {
    "tags": []
   },
   "outputs": [],
   "source": [
    "import json\n",
    "\n",
    "with open(\"languages.json\", \"w\") as json_f:\n",
    "    json.dump(LANGUAGES, json_f, indent=4)"
   ]
  },
  {
   "cell_type": "code",
   "execution_count": 32,
   "id": "05a0497e-cd61-4a78-8476-5b820d2c10d6",
   "metadata": {
    "tags": []
   },
   "outputs": [
    {
     "name": "stdout",
     "output_type": "stream",
     "text": [
      "NAME                              DESCRIPTION                               DOCKER ENDPOINT                                               ERROR\n",
      "default                           Current DOCKER_HOST based configuration   unix:///var/run/docker.sock                                   \n",
      "m5.xlarge_i-0bba463b05bcfb76e *                                             tcp://ip-172-31-78-219.ap-southeast-2.compute.internal:1111   \n"
     ]
    }
   ],
   "source": [
    "!docker context ls"
   ]
  },
  {
   "cell_type": "code",
   "execution_count": 39,
   "id": "1b515f53-a5f1-4086-9b18-9785fd84cec0",
   "metadata": {
    "tags": []
   },
   "outputs": [],
   "source": [
    "import requests\n",
    "import json\n",
    "\n",
    "docker_daemon = \"ip-172-31-76-106.ap-southeast-2.compute.internal\"\n",
    "\n",
    "api_layer_addr = f\"http://{docker_daemon}:8001\"\n",
    "api_layer_url = api_layer_addr + \"/invoke\"\n",
    "model_family = \"bedrock\"\n",
    "model_name = \"anthropic.claude-v2\"\n",
    "\n",
    "code_executor_addr = f\"http://{docker_daemon}:8080\"\n",
    "code_executor_url = code_executor_addr + \"/execute_code\"\n",
    "\n",
    "code_block_symbol = \"```\"\n",
    "output_tags = [\"<output>\", \"</output>\"]\n",
    "\n",
    "\n",
    "def send_req_to_agent(text):\n",
    "    data = {\n",
    "        \"body\": {\n",
    "            \"prompt\": text\n",
    "        }, \n",
    "        \"model_family\": model_family, \n",
    "        \"model_name\": model_name\n",
    "    }\n",
    "    ret = requests.post(\n",
    "        url=api_layer_url, \n",
    "        data=json.dumps(data)\n",
    "    )\n",
    "    return json.loads(ret.text)[\"generated_text\"]\n",
    "\n",
    "def send_script_to_exc(script, kernel_name):\n",
    "    data = {\n",
    "        \"code\": script, \n",
    "        \"kernel_name\": kernel_name\n",
    "    }\n",
    "    ret = requests.post(\n",
    "        url=code_executor_url, \n",
    "        data=json.dumps(data)\n",
    "    )\n",
    "    return json.loads(ret.text)\n",
    "\n",
    "def extract_script(text, tag_name):\n",
    "    try:\n",
    "        if code_block_symbol + tag_name in text:\n",
    "            script = text.split(code_block_symbol + tag_name + \"\\n\")[1].split(code_block_symbol)[0]\n",
    "            expected_output = \"\"\n",
    "            if output_tags[0] in text and output_tags[1] in text:\n",
    "                expected_output = text.split(output_tags[0])[1].split(output_tags[1])[0]\n",
    "            return (script, expected_output)\n",
    "    except:\n",
    "        return None\n",
    "    return None\n",
    "    \n",
    "\n",
    "class Conversation:\n",
    "    def __init__(\n",
    "        self, \n",
    "        roles, \n",
    "        prompt, \n",
    "        agent, \n",
    "        executor,\n",
    "        script_extractor,\n",
    "        language\n",
    "    ):\n",
    "        self.roles = roles\n",
    "        self.system_prompt = prompt\n",
    "        self.history = \"\\n\"\n",
    "        self.append_chat(prompt, 0)\n",
    "        self.agent = agent\n",
    "        self.executor = executor\n",
    "        self.script_extractor = script_extractor\n",
    "        self.language = language\n",
    "        self.last_agent_message = \"\"\n",
    "        \n",
    "    def append_chat(self, text, role=0):\n",
    "        self.history += \"\\n\" + self.roles[role] + \":\" + text\n",
    "        \n",
    "    def send_to_agent(self):\n",
    "        self.append_chat(\"\", 1)\n",
    "        res = self.agent(self.history)\n",
    "        self.history += res\n",
    "        self.last_agent_message = res\n",
    "    \n",
    "    def send_to_agent_and_exec_script(self):\n",
    "        self.send_to_agent()\n",
    "        result = self.script_extractor(\n",
    "            self.last_agent_message,\n",
    "            LANGUAGES[self.language][\"tag_name\"]\n",
    "        )\n",
    "        if result:\n",
    "            script, expected_output = result\n",
    "            output_res = \"\"\n",
    "            if LANGUAGES[self.language][\"pre_exec_script\"]:\n",
    "                output_res += self.executor(\n",
    "                    LANGUAGES[self.language][\"pre_exec_script\"], \n",
    "                    LANGUAGES[self.language][\"kernel_name\"]\n",
    "                )[\"output\"]\n",
    "            res = self.executor(script, LANGUAGES[self.language][\"kernel_name\"])\n",
    "            res[\"output\"] = output_res + res[\"output\"]\n",
    "            if LANGUAGES[self.language][\"post_exec_script\"]:\n",
    "                res[\"output\"] += self.executor(\n",
    "                    LANGUAGES[self.language][\"post_exec_script\"], \n",
    "                    LANGUAGES[self.language][\"kernel_name\"]\n",
    "                )[\"output\"]\n",
    "            return res\n",
    "        else:\n",
    "            return None\n",
    "        "
   ]
  },
  {
   "cell_type": "code",
   "execution_count": 40,
   "id": "a16e18f6-b9a5-40a4-a77d-60fec0e7493a",
   "metadata": {
    "collapsed": true,
    "jupyter": {
     "outputs_hidden": true
    },
    "tags": []
   },
   "outputs": [
    {
     "name": "stdout",
     "output_type": "stream",
     "text": [
      "\n",
      "\n",
      "Human: You are a helpful AI assistant.\n",
      "\n",
      "You have access to a Python code interpreter, which supports you in your tasks.\n",
      "The code is executed in an interactive shell, imports and variables are preserved between calls.\n",
      "The environment has internet and file system access.\n",
      "The current working directory is shared with the user, so files can be exchanged.\n",
      "There are many libraries pre-installed, including numpy, pandas, matplotlib, and scikit-learn.\n",
      "You cannot show rich outputs like plots or images, but you can store them in the working directory and point the user to them.\n",
      "If the code runs too long, there will be a timeout.\n",
      "\n",
      "To access the interpreter, use the following format:\n",
      "```python\n",
      "<your code>\n",
      "```\n",
      "\n",
      "Report expected output and enclose it within a <output></output> tag.\n",
      "If you want to call Python and still say something, do only output text above the code block, NOT below.\n",
      "Only provide at most one code block per message.\n",
      "The code will be executed automatically and the result will be sent back to you\n",
      "\n",
      "Assistant: Thank you for the explanation. I understand I have access to a Python interpreter and can execute code by placing it between ```python tags then return expected output between <output></output> tags. I will use this to assist you with any Python programming tasks. Just let me know what you need help with!\n",
      "\n",
      "Human:I want a script to print 'Hello World!'\n",
      "Assistant: Here is a Python script to print 'Hello World!':\n",
      "\n",
      "```python\n",
      "print('Hello World!')\n",
      "```\n",
      "\n",
      "<output>\n",
      "Hello World!\n",
      "</output>\n",
      "\n",
      "To print 'Hello World!', we use the print() function in Python and pass the string 'Hello World!' as an argument. This will output the text to the console.\n",
      "Human: The script executed successfully with below output, Answer with only Yes or No if this is the expected output:\n",
      "<output>\n",
      "Hello World!\n",
      "</output>\n",
      "Assistant: Yes\n",
      "\n",
      "\n",
      "Human: You are a helpful AI assistant.\n",
      "\n",
      "You have access to a R code interpreter, which supports you in your tasks.\n",
      "The code is executed in an interactive shell, imports and variables are preserved between calls.\n",
      "The environment has internet and file system access.\n",
      "The current working directory is shared with the user, so files can be exchanged.\n",
      "There are many libraries pre-installed, including numpy, pandas, matplotlib, and scikit-learn.\n",
      "You cannot show rich outputs like plots or images, but you can store them in the working directory and point the user to them.\n",
      "If the code runs too long, there will be a timeout.\n",
      "\n",
      "To access the interpreter, use the following format:\n",
      "```R\n",
      "<your code>\n",
      "```\n",
      "\n",
      "Report expected output and enclose it within a <output></output> tag.\n",
      "If you want to call R and still say something, do only output text above the code block, NOT below.\n",
      "Only provide at most one code block per message.\n",
      "The code will be executed automatically and the result will be sent back to you\n",
      "\n",
      "Assistant: Thank you for the explanation. I understand I have access to a R interpreter and can execute code by placing it between ```R tags then return expected output between <output></output> tags. I will use this to assist you with any R programming tasks. Just let me know what you need help with!\n",
      "\n",
      "Human:I want a script to print 'Hello World!'\n",
      "Assistant: Here is a simple R script to print \"Hello World!\":\n",
      "\n",
      "```R\n",
      "print(\"Hello World!\")\n",
      "```\n",
      "\n",
      "<output>\n",
      "[1] \"Hello World!\"\n",
      "</output>\n",
      "\n",
      "This uses the print() function in R to output the text \"Hello World!\". The [1] indicates it is printing the first element of the character vector passed to print().\n",
      "Human: The script executed successfully with below output, Answer with only Yes or No if this is the expected output:\n",
      "<output>\n",
      "[1] \"Hello World!\"\n",
      "</output>\n",
      "Assistant: Yes\n",
      "\n",
      "\n",
      "Human: You are a helpful AI assistant.\n",
      "\n",
      "You have access to a Java code interpreter, which supports you in your tasks.\n",
      "The code is executed in an interactive shell, imports and variables are preserved between calls.\n",
      "The environment has internet and file system access.\n",
      "The current working directory is shared with the user, so files can be exchanged.\n",
      "There are many libraries pre-installed, including numpy, pandas, matplotlib, and scikit-learn.\n",
      "You cannot show rich outputs like plots or images, but you can store them in the working directory and point the user to them.\n",
      "If the code runs too long, there will be a timeout.\n",
      "\n",
      "To access the interpreter, use the following format:\n",
      "```java\n",
      "<your code>\n",
      "```\n",
      "Always use \"Main\" as class name.\n",
      "Report expected output and enclose it within a <output></output> tag.\n",
      "If you want to call Java and still say something, do only output text above the code block, NOT below.\n",
      "Only provide at most one code block per message.\n",
      "The code will be executed automatically and the result will be sent back to you\n",
      "\n",
      "Assistant: Thank you for the explanation. I understand I have access to a Java interpreter and can execute code by placing it between ```java tags then return expected output between <output></output> tags. I will use this to assist you with any Java programming tasks. Just let me know what you need help with!\n",
      "\n",
      "Human:I want a script to print 'Hello World!'\n",
      "Assistant: Here is a simple Java program to print \"Hello World!\":\n",
      "\n",
      "```java\n",
      "public class Main {\n",
      "  public static void main(String[] args) {\n",
      "    System.out.println(\"Hello World!\"); \n",
      "  }\n",
      "}\n",
      "```\n",
      "\n",
      "<output>\n",
      "Hello World!\n",
      "</output>\n",
      "\n",
      "This uses the System.out.println() method to print the text \"Hello World!\" to the console. The main() method is the entry point for the Java program, and printing to System.out writes to the standard output stream.\n",
      "Human: The script executed successfully with below output, Answer with only Yes or No if this is the expected output:\n",
      "<output>\n",
      "Hello World!\n",
      "</output>\n",
      "Assistant: Yes\n",
      "\n",
      "\n",
      "Human: You are a helpful AI assistant.\n",
      "\n",
      "You have access to a JavaScript code interpreter, which supports you in your tasks.\n",
      "The code is executed in an interactive shell, imports and variables are preserved between calls.\n",
      "The environment has internet and file system access.\n",
      "The current working directory is shared with the user, so files can be exchanged.\n",
      "There are many libraries pre-installed, including numpy, pandas, matplotlib, and scikit-learn.\n",
      "You cannot show rich outputs like plots or images, but you can store them in the working directory and point the user to them.\n",
      "If the code runs too long, there will be a timeout.\n",
      "\n",
      "To access the interpreter, use the following format:\n",
      "```js\n",
      "<your code>\n",
      "```\n",
      "\n",
      "Report expected output and enclose it within a <output></output> tag.\n",
      "If you want to call JavaScript and still say something, do only output text above the code block, NOT below.\n",
      "Only provide at most one code block per message.\n",
      "The code will be executed automatically and the result will be sent back to you\n",
      "\n",
      "Assistant: Thank you for the explanation. I understand I have access to a JavaScript interpreter and can execute code by placing it between ```js tags then return expected output between <output></output> tags. I will use this to assist you with any JavaScript programming tasks. Just let me know what you need help with!\n",
      "\n",
      "Human:I want a script to print 'Hello World!'\n",
      "Assistant: Here is a simple JavaScript script to print 'Hello World!':\n",
      "\n",
      "```js\n",
      "console.log('Hello World!');\n",
      "```\n",
      "\n",
      "<output>\n",
      "Hello World!\n",
      "</output>\n",
      "\n",
      "To print 'Hello World!' in JavaScript, you can use console.log() and pass the string 'Hello World!' as a parameter. This will output the text to the console.\n",
      "Human: The script executed successfully with below output, Answer with only Yes or No if this is the expected output:\n",
      "<output>\n",
      "Hello World!\n",
      "</output>\n",
      "Assistant: Yes\n",
      "\n",
      "\n",
      "Human: You are a helpful AI assistant.\n",
      "\n",
      "You have access to a Bash code interpreter, which supports you in your tasks.\n",
      "The code is executed in an interactive shell, imports and variables are preserved between calls.\n",
      "The environment has internet and file system access.\n",
      "The current working directory is shared with the user, so files can be exchanged.\n",
      "There are many libraries pre-installed, including numpy, pandas, matplotlib, and scikit-learn.\n",
      "You cannot show rich outputs like plots or images, but you can store them in the working directory and point the user to them.\n",
      "If the code runs too long, there will be a timeout.\n",
      "\n",
      "To access the interpreter, use the following format:\n",
      "```bash\n",
      "<your code>\n",
      "```\n",
      "\n",
      "Report expected output and enclose it within a <output></output> tag.\n",
      "If you want to call Bash and still say something, do only output text above the code block, NOT below.\n",
      "Only provide at most one code block per message.\n",
      "The code will be executed automatically and the result will be sent back to you\n",
      "\n",
      "Assistant: Thank you for the explanation. I understand I have access to a Bash interpreter and can execute code by placing it between ```bash tags then return expected output between <output></output> tags. I will use this to assist you with any Bash programming tasks. Just let me know what you need help with!\n",
      "\n",
      "Human:I want a script to print 'Hello World!'\n",
      "Assistant: Here is a simple Bash script to print 'Hello World!':\n",
      "\n",
      "```bash\n",
      "echo 'Hello World!'\n",
      "```\n",
      "\n",
      "<output>\n",
      "Hello World!\n",
      "</output>\n",
      "\n",
      "To print 'Hello World!', we use the echo command. This will output the text contained in quotes to the terminal.\n",
      "Human: The script executed successfully with below output, Answer with only Yes or No if this is the expected output:\n",
      "<output>\n",
      "Hello World!\n",
      "</output>\n",
      "Assistant: Yes\n"
     ]
    }
   ],
   "source": [
    "test_prompts = [\n",
    "    \"I want a script to print 'Hello World!'\",\n",
    "    # \"I want a script that compute first 10 odd numbers and print them.\",\n",
    "    # \"I want a script that compute factorial of 20 and determines the time it took to calculate the result.\",\n",
    "    # \"I want to make tetris game\"\n",
    "]\n",
    "\n",
    "language = \"Java\"\n",
    "for language in LANGUAGES:\n",
    "\n",
    "    params = {\n",
    "        \"display_name\": LANGUAGES[language][\"display_name\"],\n",
    "        \"tag_name\": LANGUAGES[language][\"tag_name\"],\n",
    "        \"error_message\": \"\",\n",
    "        \"script_output\": \"\",\n",
    "        \"language_instructions\": LANGUAGES[language][\"language_instructions\"]\n",
    "    }\n",
    "\n",
    "    for test in test_prompts:\n",
    "        conv = Conversation(\n",
    "            ROLES, \n",
    "            prompt_store.get_prompt_from_template(\n",
    "                \"CI_SYSTEM_PROMPT\",\n",
    "                params\n",
    "            ),\n",
    "            send_req_to_agent,\n",
    "            send_script_to_exc,\n",
    "            extract_script,\n",
    "            language\n",
    "        )\n",
    "        conv.append_chat(\n",
    "            prompt_store.get_prompt_from_template(\n",
    "                \"CI_AGENT_REPLY\",\n",
    "                params\n",
    "            ),\n",
    "            1\n",
    "        )\n",
    "        conv.append_chat(test)\n",
    "        res = conv.send_to_agent_and_exec_script()\n",
    "        max_iterations = 3\n",
    "        i = 0\n",
    "        while i < max_iterations and res[\"error\"]:\n",
    "            i += 1\n",
    "            params[\"error_message\"] = res[\"output\"]\n",
    "            conv.append_chat(\n",
    "                prompt_store.get_prompt_from_template(\n",
    "                    \"CI_SCRIPT_ERROR\",\n",
    "                    params\n",
    "                )\n",
    "            )\n",
    "            conv.send_to_agent_and_exec_script()   \n",
    "        if not res[\"error\"]:\n",
    "            params[\"script_output\"] = res[\"output\"]\n",
    "            conv.append_chat(\n",
    "                prompt_store.get_prompt_from_template(\n",
    "                    \"CI_SCRIPT_SUCCESS\",\n",
    "                    params\n",
    "                )\n",
    "            )\n",
    "            conv.send_to_agent()\n",
    "        print(conv.history)"
   ]
  },
  {
   "cell_type": "code",
   "execution_count": 54,
   "id": "a47adea8-6e12-41db-ab2d-d8f812b76683",
   "metadata": {},
   "outputs": [
    {
     "data": {
      "text/plain": [
       "'\\n\\nHuman: You are a helpful AI assistant.\\n\\nYou have access to a R code interpreter, which supports you in your tasks.\\nThe code is executed in an interactive shell, imports and variables are preserved between calls.\\nThe environment has internet and file system access.\\nThe current working directory is shared with the user, so files can be exchanged.\\nThere are many libraries pre-installed, including numpy, pandas, matplotlib, and scikit-learn.\\nYou cannot show rich outputs like plots or images, but you can store them in the working directory and point the user to them.\\nIf the code runs too long, there will be a timeout.\\n\\nTo access the interpreter, use the following format:\\n```R\\n<your code>\\n```\\nIf you want to call R and still say something, do only output text above the code block, NOT below.\\nOnly provide at most one code block per message.\\nThe code will be executed automatically and the result will be sent back to you\\n\\nAssistant: Thank you for the explanation. I understand I have access to a R interpreter and can execute code by placing it between ```R tags. I will use this to assist you with any R programming tasks. Just let me know what you need help with!\\n\\nHuman:I want a script to print \\'Hello World!\\'\\nAssistant: Here is a simple R script to print \"Hello World!\":\\n\\n```R\\nprint(\"Hello World!\")\\n```\\n\\nThe print() function will output the text passed to it. Let me know if you need any other basic R scripts!'"
      ]
     },
     "execution_count": 54,
     "metadata": {},
     "output_type": "execute_result"
    }
   ],
   "source": [
    "conv.history"
   ]
  },
  {
   "cell_type": "code",
   "execution_count": 55,
   "id": "fac3e4d5-e8cb-4c8b-9c9e-1899d64cca7c",
   "metadata": {
    "tags": []
   },
   "outputs": [
    {
     "data": {
      "text/plain": [
       "'f06b86478d29414d8a17ff8f'"
      ]
     },
     "execution_count": 55,
     "metadata": {},
     "output_type": "execute_result"
    }
   ],
   "source": [
    "import uuid\n",
    "\n",
    "uuid.uuid4().hex[:24]"
   ]
  },
  {
   "cell_type": "code",
   "execution_count": 212,
   "id": "d7722f48-7a50-4b50-8be4-106d85a9b367",
   "metadata": {
    "tags": []
   },
   "outputs": [
    {
     "name": "stdout",
     "output_type": "stream",
     "text": [
      "sha256:e5d481a92e4dcb69b252381afe2c5e826c8b91c0dd642d9b767cd8b3e82d7e4a\n"
     ]
    }
   ],
   "source": [
    "!docker build --quiet --tag controller ."
   ]
  },
  {
   "cell_type": "code",
   "execution_count": 4,
   "id": "68ac9cf8-78b1-43a3-b6c2-66c3123a8542",
   "metadata": {
    "tags": []
   },
   "outputs": [
    {
     "name": "stdout",
     "output_type": "stream",
     "text": [
      "NAME                             DESCRIPTION                               DOCKER ENDPOINT                                       ERROR\n",
      "default                          Current DOCKER_HOST based configuration   unix:///var/run/docker.sock                           \n",
      "m5.large_i-00ce83f690776cc27 *                                             tcp://ip-10-3-1-143.us-west-2.compute.internal:1111   \n"
     ]
    }
   ],
   "source": [
    "!docker context ls"
   ]
  },
  {
   "cell_type": "code",
   "execution_count": 5,
   "id": "40680870-6b7a-40bb-8c6e-bfd22f49a3d6",
   "metadata": {
    "tags": []
   },
   "outputs": [],
   "source": [
    "host_ip1 = \"internal-codenator-899847730.us-west-2.elb.amazonaws.com\"\n",
    "host_ip = \"ip-10-3-1-143.us-west-2.compute.internal\""
   ]
  },
  {
   "cell_type": "code",
   "execution_count": 197,
   "id": "caec64af-97b3-4728-bb57-b08ace279f91",
   "metadata": {
    "tags": []
   },
   "outputs": [
    {
     "name": "stdout",
     "output_type": "stream",
     "text": [
      "internal-codenator-899847730.us-west-2.elb.amazonaws.com\n",
      "8b68d3f44be559f140d31fd89e69e2515acb18d780f1a12750e8c760e70a014f\n"
     ]
    }
   ],
   "source": [
    "%%bash -s $host_ip -s $host_ip1\n",
    "echo ${3}\n",
    "docker run -d -p 8001:8001 -e AWS_REGION=us-west-2 -e AWS_DEFAULT_REGION=us-west-2 --name test-controller controller --host 0.0.0.0 --port 8001 --api-layer-host ${3} --api-layer-port 8010 --code-scanner-host ${3} --code-scanner-port 8011 --code-executor-host ${3} --code-executor-port 8013 --task-store-host ${3} --task-store-port 8014 --prompt-store-name prompt-store --models-metadata-db model-db --kms alias/codenator-kms --conv-bucket \"stam-gai-playground-dev\" --conv-prefix \"codenator/dev/conv/\""
   ]
  },
  {
   "cell_type": "code",
   "execution_count": 192,
   "id": "439cea49-a206-483e-9136-67ee9d5516ef",
   "metadata": {
    "tags": []
   },
   "outputs": [
    {
     "name": "stdout",
     "output_type": "stream",
     "text": [
      "INFO:     Uvicorn running on http://0.0.0.0:8001 (Press CTRL+C to quit)\n",
      "INFO:     Started parent process [1]\n",
      "INFO:     Started server process [10]\n",
      "INFO:     Waiting for application startup.\n",
      "INFO:     Application startup complete.\n",
      "INFO:     Started server process [9]\n",
      "INFO:     Waiting for application startup.\n",
      "INFO:     Application startup complete.\n",
      "INFO:     Started server process [8]\n",
      "INFO:     Waiting for application startup.\n",
      "INFO:     Application startup complete.\n"
     ]
    }
   ],
   "source": [
    "!docker logs test-controller"
   ]
  },
  {
   "cell_type": "code",
   "execution_count": 6,
   "id": "82c9c6c5-59a3-44f7-ad5c-e896f86041f7",
   "metadata": {
    "tags": []
   },
   "outputs": [],
   "source": [
    "host_ip = \"internal-codenator-899847730.us-west-2.elb.amazonaws.com\""
   ]
  },
  {
   "cell_type": "code",
   "execution_count": 4,
   "id": "2aca18d9-0fab-4c5a-a256-a17ad1752a6a",
   "metadata": {
    "tags": []
   },
   "outputs": [
    {
     "name": "stdout",
     "output_type": "stream",
     "text": [
      "Cannot connect to the Docker daemon at unix:///var/run/docker.sock. Is the docker daemon running?\n"
     ]
    }
   ],
   "source": [
    "!docker kill test-controller && docker rm test-controller"
   ]
  },
  {
   "cell_type": "code",
   "execution_count": 9,
   "id": "ba214970-2afc-41d3-87fc-46a1f7187743",
   "metadata": {
    "tags": []
   },
   "outputs": [
    {
     "name": "stdout",
     "output_type": "stream",
     "text": [
      "test-controller\n"
     ]
    }
   ],
   "source": [
    "!docker rm test-controller"
   ]
  },
  {
   "cell_type": "code",
   "execution_count": 12,
   "id": "eb2a55e3-52ea-4853-a825-fe892d5dcdc8",
   "metadata": {
    "tags": []
   },
   "outputs": [
    {
     "name": "stdout",
     "output_type": "stream",
     "text": [
      "internal-codenator-899847730.us-west-2.elb.amazonaws.com\n"
     ]
    },
    {
     "name": "stderr",
     "output_type": "stream",
     "text": [
      "  % Total    % Received % Xferd  Average Speed   Time    Time     Time  Current\n",
      "                                 Dload  Upload   Total   Spent    Left  Speed\n",
      "100    22  100    22    0     0   2411      0 --:--:-- --:--:-- --:--:--  2750\n"
     ]
    },
    {
     "name": "stdout",
     "output_type": "stream",
     "text": [
      "{\"Health_Check\":\"200\"}"
     ]
    }
   ],
   "source": [
    "%%bash -s $host_ip\n",
    "echo ${1}\n",
    "curl http://$1:8013/ping"
   ]
  },
  {
   "cell_type": "code",
   "execution_count": 14,
   "id": "0da29c48-c893-4140-83fc-a468e7b4bae1",
   "metadata": {
    "tags": []
   },
   "outputs": [
    {
     "name": "stderr",
     "output_type": "stream",
     "text": [
      "  % Total    % Received % Xferd  Average Speed   Time    Time     Time  Current\n",
      "                                 Dload  Upload   Total   Spent    Left  Speed\n",
      "100  1154  100  1154    0     0   8614      0 --:--:-- --:--:-- --:--:--  8676\n"
     ]
    },
    {
     "name": "stdout",
     "output_type": "stream",
     "text": [
      "\"{\\\"Python\\\": {\\\"display_name\\\": \\\"Python\\\", \\\"kernel_name\\\": \\\"python3\\\", \\\"tag_name\\\": \\\"python\\\", \\\"language_instructions\\\": \\\"\\\", \\\"pre_exec_script\\\": null, \\\"post_exec_script\\\": null}, \\\"R\\\": {\\\"display_name\\\": \\\"R\\\", \\\"kernel_name\\\": \\\"ir\\\", \\\"tag_name\\\": \\\"R\\\", \\\"language_instructions\\\": \\\"\\\", \\\"pre_exec_script\\\": null, \\\"post_exec_script\\\": null}, \\\"Java\\\": {\\\"display_name\\\": \\\"Java\\\", \\\"kernel_name\\\": \\\"java\\\", \\\"tag_name\\\": \\\"java\\\", \\\"language_instructions\\\": \\\"Always use \\\\\\\"Main\\\\\\\" as class name.\\\", \\\"pre_exec_script\\\": null, \\\"post_exec_script\\\": \\\"Main.main(new String[] {})\\\"}, \\\"JavaScript\\\": {\\\"display_name\\\": \\\"JavaScript\\\", \\\"kernel_name\\\": \\\"javascript\\\", \\\"tag_name\\\": \\\"js\\\", \\\"language_instructions\\\": \\\"\\\", \\\"pre_exec_script\\\": null, \\\"post_exec_script\\\": null}, \\\"Bash\\\": {\\\"display_name\\\": \\\"Bash\\\", \\\"kernel_name\\\": \\\"bash\\\", \\\"tag_name\\\": \\\"bash\\\", \\\"language_instructions\\\": \\\"\\\", \\\"pre_exec_script\\\": null, \\\"post_exec_script\\\": null}, \\\"Shell\\\": {\\\"display_name\\\": \\\"Shell\\\", \\\"kernel_name\\\": \\\"bash\\\", \\\"tag_name\\\": \\\"sh\\\", \\\"language_instructions\\\": \\\"\\\", \\\"pre_exec_script\\\": null, \\\"post_exec_script\\\": null}}\""
     ]
    }
   ],
   "source": [
    "%%bash -s $host_ip\n",
    "curl http://$1:8012/list_languages"
   ]
  },
  {
   "cell_type": "code",
   "execution_count": 15,
   "id": "a2d4f240-7c5a-4e21-addf-bf2d9d3413a9",
   "metadata": {
    "tags": []
   },
   "outputs": [
    {
     "name": "stderr",
     "output_type": "stream",
     "text": [
      "  % Total    % Received % Xferd  Average Speed   Time    Time     Time  Current\n",
      "                                 Dload  Upload   Total   Spent    Left  Speed\n"
     ]
    },
    {
     "name": "stdout",
     "output_type": "stream",
     "text": [
      "{\"script\": \"\", \"expected_output\": \"\", \"generated_text\": \" Here\", \"text\": \" Here\", \"conv_id\": \"1de45b55dc6f475ab69e33086485beef\"}\n",
      "{\"script\": \"\", \"expected_output\": \"\", \"generated_text\": \" Here is some well-commented and modular Hello\", \"text\": \" is some well-commented and modular Hello\", \"conv_id\": \"1de45b55dc6f475ab69e33086485beef\"}\n",
      "{\"script\": \"# Imports\", \"expected_output\": \"\", \"generated_text\": \" Here is some well-commented and modular Hello World code in Python:\\n\\n```python\\n# Imports\", \"text\": \" World code in Python:\\n\\n```python\\n# Imports\", \"conv_id\": \"1de45b55dc6f475ab69e33086485beef\"}\n",
      "{\"script\": \"# Imports\\nimport sys \\n\\n# Define reusable Hello\", \"expected_output\": \"\", \"generated_text\": \" Here is some well-commented and modular Hello World code in Python:\\n\\n```python\\n# Imports\\nimport sys \\n\\n# Define reusable Hello\", \"text\": \"\\nimport sys \\n\\n# Define reusable Hello\", \"conv_id\": \"1de45b55dc6f475ab69e33086485beef\"}\n",
      "{\"script\": \"# Imports\\nimport sys \\n\\n# Define reusable HelloWorld function\\ndef HelloWorld():\\n\\n  #\", \"expected_output\": \"\", \"generated_text\": \" Here is some well-commented and modular Hello World code in Python:\\n\\n```python\\n# Imports\\nimport sys \\n\\n# Define reusable HelloWorld function\\ndef HelloWorld():\\n\\n  #\", \"text\": \"World function\\ndef HelloWorld():\\n\\n  #\", \"conv_id\": \"1de45b55dc6f475ab69e33086485beef\"}\n",
      "{\"script\": \"# Imports\\nimport sys \\n\\n# Define reusable HelloWorld function\\ndef HelloWorld():\\n\\n  # Print Hello World\\n  print(\\\"Hello World!\\\")\\n\\n#\", \"expected_output\": \"\", \"generated_text\": \" Here is some well-commented and modular Hello World code in Python:\\n\\n```python\\n# Imports\\nimport sys \\n\\n# Define reusable HelloWorld function\\ndef HelloWorld():\\n\\n  # Print Hello World\\n  print(\\\"Hello World!\\\")\\n\\n#\", \"text\": \" Print Hello World\\n  print(\\\"Hello World!\\\")\\n\\n#\", \"conv_id\": \"1de45b55dc6f475ab69e33086485beef\"}\n",
      "{\"script\": \"# Imports\\nimport sys \\n\\n# Define reusable HelloWorld function\\ndef HelloWorld():\\n\\n  # Print Hello World\\n  print(\\\"Hello World!\\\")\\n\\n# Main function  \\nif __name__ == \\\"__main\", \"expected_output\": \"\", \"generated_text\": \" Here is some well-commented and modular Hello World code in Python:\\n\\n```python\\n# Imports\\nimport sys \\n\\n# Define reusable HelloWorld function\\ndef HelloWorld():\\n\\n  # Print Hello World\\n  print(\\\"Hello World!\\\")\\n\\n# Main function  \\nif __name__ == \\\"__main\", \"text\": \" Main function  \\nif __name__ == \\\"__main\", \"conv_id\": \"1de45b55dc6f475ab69e33086485beef\"}\n",
      "{\"script\": \"# Imports\\nimport sys \\n\\n# Define reusable HelloWorld function\\ndef HelloWorld():\\n\\n  # Print Hello World\\n  print(\\\"Hello World!\\\")\\n\\n# Main function  \\nif __name__ == \\\"__main__\\\":\\n  \\n  # Call HelloWorld function\\n  HelloWorld()\\n\", \"expected_output\": \"\", \"generated_text\": \" Here is some well-commented and modular Hello World code in Python:\\n\\n```python\\n# Imports\\nimport sys \\n\\n# Define reusable HelloWorld function\\ndef HelloWorld():\\n\\n  # Print Hello World\\n  print(\\\"Hello World!\\\")\\n\\n# Main function  \\nif __name__ == \\\"__main__\\\":\\n  \\n  # Call HelloWorld function\\n  HelloWorld()\\n\\n```\", \"text\": \"__\\\":\\n  \\n  # Call HelloWorld function\\n  HelloWorld()\\n\\n```\", \"conv_id\": \"1de45b55dc6f475ab69e33086485beef\"}\n",
      "{\"script\": \"# Imports\\nimport sys \\n\\n# Define reusable HelloWorld function\\ndef HelloWorld():\\n\\n  # Print Hello World\\n  print(\\\"Hello World!\\\")\\n\\n# Main function  \\nif __name__ == \\\"__main__\\\":\\n  \\n  # Call HelloWorld function\\n  HelloWorld()\\n\", \"expected_output\": \"Hello World!\", \"generated_text\": \" Here is some well-commented and modular Hello World code in Python:\\n\\n```python\\n# Imports\\nimport sys \\n\\n# Define reusable HelloWorld function\\ndef HelloWorld():\\n\\n  # Print Hello World\\n  print(\\\"Hello World!\\\")\\n\\n# Main function  \\nif __name__ == \\\"__main__\\\":\\n  \\n  # Call HelloWorld function\\n  HelloWorld()\\n\\n```\\n\\n<output>\\nHello World!\\n</output>\\n\\nThe code defines\", \"text\": \"\\n\\n<output>\\nHello World!\\n</output>\\n\\nThe code defines\", \"conv_id\": \"1de45b55dc6f475ab69e33086485beef\"}\n",
      "{\"script\": \"# Imports\\nimport sys \\n\\n# Define reusable HelloWorld function\\ndef HelloWorld():\\n\\n  # Print Hello World\\n  print(\\\"Hello World!\\\")\\n\\n# Main function  \\nif __name__ == \\\"__main__\\\":\\n  \\n  # Call HelloWorld function\\n  HelloWorld()\\n\", \"expected_output\": \"Hello World!\", \"generated_text\": \" Here is some well-commented and modular Hello World code in Python:\\n\\n```python\\n# Imports\\nimport sys \\n\\n# Define reusable HelloWorld function\\ndef HelloWorld():\\n\\n  # Print Hello World\\n  print(\\\"Hello World!\\\")\\n\\n# Main function  \\nif __name__ == \\\"__main__\\\":\\n  \\n  # Call HelloWorld function\\n  HelloWorld()\\n\\n```\\n\\n<output>\\nHello World!\\n</output>\\n\\nThe code defines a reusable HelloWorld function that prints \\\"Hello World!\\\", then\", \"text\": \" a reusable HelloWorld function that prints \\\"Hello World!\\\", then\", \"conv_id\": \"1de45b55dc6f475ab69e33086485beef\"}\n",
      "{\"script\": \"# Imports\\nimport sys \\n\\n# Define reusable HelloWorld function\\ndef HelloWorld():\\n\\n  # Print Hello World\\n  print(\\\"Hello World!\\\")\\n\\n# Main function  \\nif __name__ == \\\"__main__\\\":\\n  \\n  # Call HelloWorld function\\n  HelloWorld()\\n\", \"expected_output\": \"Hello World!\", \"generated_text\": \" Here is some well-commented and modular Hello World code in Python:\\n\\n```python\\n# Imports\\nimport sys \\n\\n# Define reusable HelloWorld function\\ndef HelloWorld():\\n\\n  # Print Hello World\\n  print(\\\"Hello World!\\\")\\n\\n# Main function  \\nif __name__ == \\\"__main__\\\":\\n  \\n  # Call HelloWorld function\\n  HelloWorld()\\n\\n```\\n\\n<output>\\nHello World!\\n</output>\\n\\nThe code defines a reusable HelloWorld function that prints \\\"Hello World!\\\", then calls that function in a main block to\", \"text\": \" calls that function in a main block to\", \"conv_id\": \"1de45b55dc6f475ab69e33086485beef\"}\n",
      "{\"script\": \"# Imports\\nimport sys \\n\\n# Define reusable HelloWorld function\\ndef HelloWorld():\\n\\n  # Print Hello World\\n  print(\\\"Hello World!\\\")\\n\\n# Main function  \\nif __name__ == \\\"__main__\\\":\\n  \\n  # Call HelloWorld function\\n  HelloWorld()\\n\", \"expected_output\": \"Hello World!\", \"generated_text\": \" Here is some well-commented and modular Hello World code in Python:\\n\\n```python\\n# Imports\\nimport sys \\n\\n# Define reusable HelloWorld function\\ndef HelloWorld():\\n\\n  # Print Hello World\\n  print(\\\"Hello World!\\\")\\n\\n# Main function  \\nif __name__ == \\\"__main__\\\":\\n  \\n  # Call HelloWorld function\\n  HelloWorld()\\n\\n```\\n\\n<output>\\nHello World!\\n</output>\\n\\nThe code defines a reusable HelloWorld function that prints \\\"Hello World!\\\", then calls that function in a main block to execute it. The if __\", \"text\": \" execute it. The if __\", \"conv_id\": \"1de45b55dc6f475ab69e33086485beef\"}\n",
      "{\"script\": \"# Imports\\nimport sys \\n\\n# Define reusable HelloWorld function\\ndef HelloWorld():\\n\\n  # Print Hello World\\n  print(\\\"Hello World!\\\")\\n\\n# Main function  \\nif __name__ == \\\"__main__\\\":\\n  \\n  # Call HelloWorld function\\n  HelloWorld()\\n\", \"expected_output\": \"Hello World!\", \"generated_text\": \" Here is some well-commented and modular Hello World code in Python:\\n\\n```python\\n# Imports\\nimport sys \\n\\n# Define reusable HelloWorld function\\ndef HelloWorld():\\n\\n  # Print Hello World\\n  print(\\\"Hello World!\\\")\\n\\n# Main function  \\nif __name__ == \\\"__main__\\\":\\n  \\n  # Call HelloWorld function\\n  HelloWorld()\\n\\n```\\n\\n<output>\\nHello World!\\n</output>\\n\\nThe code defines a reusable HelloWorld function that prints \\\"Hello World!\\\", then calls that function in a main block to execute it. The if __name__ == \\\"__main__\\\" structure allows the function to\", \"text\": \"name__ == \\\"__main__\\\" structure allows the function to\", \"conv_id\": \"1de45b55dc6f475ab69e33086485beef\"}\n"
     ]
    },
    {
     "name": "stderr",
     "output_type": "stream",
     "text": [
      "100 12098    0 11960  100   138   1960     22  0:00:06  0:00:06 --:--:--  2831\n"
     ]
    },
    {
     "name": "stdout",
     "output_type": "stream",
     "text": [
      "{\"script\": \"# Imports\\nimport sys \\n\\n# Define reusable HelloWorld function\\ndef HelloWorld():\\n\\n  # Print Hello World\\n  print(\\\"Hello World!\\\")\\n\\n# Main function  \\nif __name__ == \\\"__main__\\\":\\n  \\n  # Call HelloWorld function\\n  HelloWorld()\\n\", \"expected_output\": \"Hello World!\", \"generated_text\": \" Here is some well-commented and modular Hello World code in Python:\\n\\n```python\\n# Imports\\nimport sys \\n\\n# Define reusable HelloWorld function\\ndef HelloWorld():\\n\\n  # Print Hello World\\n  print(\\\"Hello World!\\\")\\n\\n# Main function  \\nif __name__ == \\\"__main__\\\":\\n  \\n  # Call HelloWorld function\\n  HelloWorld()\\n\\n```\\n\\n<output>\\nHello World!\\n</output>\\n\\nThe code defines a reusable HelloWorld function that prints \\\"Hello World!\\\", then calls that function in a main block to execute it. The if __name__ == \\\"__main__\\\" structure allows the function to be reused by importing it in other\", \"text\": \" be reused by importing it in other\", \"conv_id\": \"1de45b55dc6f475ab69e33086485beef\"}\n",
      "{\"script\": \"# Imports\\nimport sys \\n\\n# Define reusable HelloWorld function\\ndef HelloWorld():\\n\\n  # Print Hello World\\n  print(\\\"Hello World!\\\")\\n\\n# Main function  \\nif __name__ == \\\"__main__\\\":\\n  \\n  # Call HelloWorld function\\n  HelloWorld()\\n\", \"expected_output\": \"Hello World!\", \"generated_text\": \" Here is some well-commented and modular Hello World code in Python:\\n\\n```python\\n# Imports\\nimport sys \\n\\n# Define reusable HelloWorld function\\ndef HelloWorld():\\n\\n  # Print Hello World\\n  print(\\\"Hello World!\\\")\\n\\n# Main function  \\nif __name__ == \\\"__main__\\\":\\n  \\n  # Call HelloWorld function\\n  HelloWorld()\\n\\n```\\n\\n<output>\\nHello World!\\n</output>\\n\\nThe code defines a reusable HelloWorld function that prints \\\"Hello World!\\\", then calls that function in a main block to execute it. The if __name__ == \\\"__main__\\\" structure allows the function to be reused by importing it in other code. The comments explain\", \"text\": \" code. The comments explain\", \"conv_id\": \"1de45b55dc6f475ab69e33086485beef\"}\n",
      "{\"script\": \"# Imports\\nimport sys \\n\\n# Define reusable HelloWorld function\\ndef HelloWorld():\\n\\n  # Print Hello World\\n  print(\\\"Hello World!\\\")\\n\\n# Main function  \\nif __name__ == \\\"__main__\\\":\\n  \\n  # Call HelloWorld function\\n  HelloWorld()\\n\", \"expected_output\": \"Hello World!\", \"generated_text\": \" Here is some well-commented and modular Hello World code in Python:\\n\\n```python\\n# Imports\\nimport sys \\n\\n# Define reusable HelloWorld function\\ndef HelloWorld():\\n\\n  # Print Hello World\\n  print(\\\"Hello World!\\\")\\n\\n# Main function  \\nif __name__ == \\\"__main__\\\":\\n  \\n  # Call HelloWorld function\\n  HelloWorld()\\n\\n```\\n\\n<output>\\nHello World!\\n</output>\\n\\nThe code defines a reusable HelloWorld function that prints \\\"Hello World!\\\", then calls that function in a main block to execute it. The if __name__ == \\\"__main__\\\" structure allows the function to be reused by importing it in other code. The comments explain each part of the code. Let me know if you would like\", \"text\": \" each part of the code. Let me know if you would like\", \"conv_id\": \"1de45b55dc6f475ab69e33086485beef\"}\n",
      "{\"script\": \"# Imports\\nimport sys \\n\\n# Define reusable HelloWorld function\\ndef HelloWorld():\\n\\n  # Print Hello World\\n  print(\\\"Hello World!\\\")\\n\\n# Main function  \\nif __name__ == \\\"__main__\\\":\\n  \\n  # Call HelloWorld function\\n  HelloWorld()\\n\", \"expected_output\": \"Hello World!\", \"generated_text\": \" Here is some well-commented and modular Hello World code in Python:\\n\\n```python\\n# Imports\\nimport sys \\n\\n# Define reusable HelloWorld function\\ndef HelloWorld():\\n\\n  # Print Hello World\\n  print(\\\"Hello World!\\\")\\n\\n# Main function  \\nif __name__ == \\\"__main__\\\":\\n  \\n  # Call HelloWorld function\\n  HelloWorld()\\n\\n```\\n\\n<output>\\nHello World!\\n</output>\\n\\nThe code defines a reusable HelloWorld function that prints \\\"Hello World!\\\", then calls that function in a main block to execute it. The if __name__ == \\\"__main__\\\" structure allows the function to be reused by importing it in other code. The comments explain each part of the code. Let me know if you would like me to explain or modify the code further!\", \"text\": \" me to explain or modify the code further!\", \"conv_id\": \"1de45b55dc6f475ab69e33086485beef\"}\n"
     ]
    }
   ],
   "source": [
    "%%bash -s $host_ip\n",
    "curl -H 'Content-Type: application/json' http://$1:8012/generate -d '{\"prompt\": \"Write Hello World code\", \"model_family\": \"bedrock\", \"model_name\": \"anthropic.claude-v2\", \"language\": \"Python\", \"stream\": true}'\n",
    "\n",
    "#'{\"prompt\": \"Write Hello World code\", \"model_family\": \"bedrock\", \"model_name\": \"anthropic.claude-v2\", \"language\": \"Python\"}'"
   ]
  },
  {
   "cell_type": "code",
   "execution_count": 16,
   "id": "4cd7a65a-bd4e-4f1e-aa58-9dc915cbc7d0",
   "metadata": {
    "tags": []
   },
   "outputs": [
    {
     "name": "stderr",
     "output_type": "stream",
     "text": [
      "  % Total    % Received % Xferd  Average Speed   Time    Time     Time  Current\n",
      "                                 Dload  Upload   Total   Spent    Left  Speed\n",
      "100   820    0   388  100   432    290    323  0:00:01  0:00:01 --:--:--   613\n"
     ]
    },
    {
     "name": "stdout",
     "output_type": "stream",
     "text": [
      "{\"output\": \"Hello World!\", \"error\": false, \"files\": [], \"script\": \"# Imports\\nimport sys \\n\\n# Define reusable HelloWorld function\\ndef HelloWorld():\\n\\n  # Print Hello World\\n  print(\\\"Hello World!\\\")\\n\\n# Main function  \\nif __name__ == \\\"__main__\\\":\\n  \\n  # Call HelloWorld function\\n  HelloWorld()\\n\", \"expected_output\": \"Hello World\", \"conv_id\": \"be86a15b1ec84c79a5163bbcf1795eb5\"}\n"
     ]
    }
   ],
   "source": [
    "%%bash -s $host_ip\n",
    "curl -H 'Content-Type: application/json' http://$1:8012/execute -d '{\"script\": \"# Imports\\nimport sys \\n\\n# Define reusable HelloWorld function\\ndef HelloWorld():\\n\\n  # Print Hello World\\n  print(\\\"Hello World!\\\")\\n\\n# Main function  \\nif __name__ == \\\"__main__\\\":\\n  \\n  # Call HelloWorld function\\n  HelloWorld()\\n\", \"expected_output\":\"Hello World\", \"model_family\": \"bedrock\", \"model_name\": \"anthropic.claude-v2\", \"language\": \"Python\", \"conv_id\":\"1de45b55dc6f475ab69e33086485beef\", \"stream\": true}'"
   ]
  },
  {
   "cell_type": "code",
   "execution_count": 17,
   "id": "1fe61897-a333-4d9b-91a9-51e20bddd821",
   "metadata": {
    "tags": []
   },
   "outputs": [
    {
     "name": "stderr",
     "output_type": "stream",
     "text": [
      "  % Total    % Received % Xferd  Average Speed   Time    Time     Time  Current\n",
      "                                 Dload  Upload   Total   Spent    Left  Speed\n",
      "100   721    0   322  100   399     42     52  0:00:07  0:00:07 --:--:--    74\n"
     ]
    },
    {
     "name": "stdout",
     "output_type": "stream",
     "text": [
      "{\"vulnerabilities\": [], \"script\": \"# Imports\\nimport sys \\n\\n# Define reusable HelloWorld function\\ndef HelloWorld():\\n\\n  # Print Hello World\\n  print(\\\"Hello World!\\\")\\n\\n# Main function  \\nif __name__ == \\\"__main__\\\":\\n  \\n  # Call HelloWorld function\\n  HelloWorld()\\n\", \"conv_id\": \"1de45b55dc6f475ab69e33086485beef\"}\n"
     ]
    }
   ],
   "source": [
    "%%bash -s $host_ip\n",
    "curl -H 'Content-Type: application/json' http://$1:8012/scan -d '{\"script\": \"# Imports\\nimport sys \\n\\n# Define reusable HelloWorld function\\ndef HelloWorld():\\n\\n  # Print Hello World\\n  print(\\\"Hello World!\\\")\\n\\n# Main function  \\nif __name__ == \\\"__main__\\\":\\n  \\n  # Call HelloWorld function\\n  HelloWorld()\\n\", \"model_family\": \"bedrock\", \"model_name\": \"anthropic.claude-v2\", \"language\": \"Python\", \"conv_id\":\"1de45b55dc6f475ab69e33086485beef\", \"stream\": true}'"
   ]
  },
  {
   "cell_type": "code",
   "execution_count": 18,
   "id": "2709c519-a396-43bc-b19e-a86f02110e30",
   "metadata": {
    "tags": []
   },
   "outputs": [
    {
     "name": "stderr",
     "output_type": "stream",
     "text": [
      "  % Total    % Received % Xferd  Average Speed   Time    Time     Time  Current\n",
      "                                 Dload  Upload   Total   Spent    Left  Speed\n",
      "100   492  100    18  100   474      3     84  0:00:06  0:00:05  0:00:01     4\n"
     ]
    },
    {
     "name": "stdout",
     "output_type": "stream",
     "text": [
      "{\"status\":\"saved\"}"
     ]
    }
   ],
   "source": [
    "%%bash -s $host_ip\n",
    "curl -H 'Content-Type: application/json' http://$1:8012/save -d '{\"script\": \"# Imports\\nimport sys \\n\\n# Define reusable HelloWorld function\\ndef HelloWorld():\\n\\n  # Print Hello World\\n  print(\\\"Hello World!\\\")\\n\\n# Main function  \\nif __name__ == \\\"__main__\\\":\\n  \\n  # Call HelloWorld function\\n  HelloWorld()\\n\", \"model_family\": \"bedrock\", \"model_name\": \"anthropic.claude-v2\", \"embedding_model_family\": \"bedrock\", \"embedding_model_name\": \"amazon.titan-embed-text-v1\", \"language\": \"Python\", \"conv_id\":\"1de45b55dc6f475ab69e33086485beef\"}'"
   ]
  },
  {
   "cell_type": "code",
   "execution_count": 211,
   "id": "8f35ca2e-c28f-457e-9755-a1a3d698f694",
   "metadata": {
    "tags": []
   },
   "outputs": [
    {
     "name": "stderr",
     "output_type": "stream",
     "text": [
      "  % Total    % Received % Xferd  Average Speed   Time    Time     Time  Current\n",
      "                                 Dload  Upload   Total   Spent    Left  Speed\n",
      "100   288  100     2  100   286      3    463 --:--:-- --:--:-- --:--:--   466\n"
     ]
    },
    {
     "name": "stdout",
     "output_type": "stream",
     "text": [
      "[]"
     ]
    }
   ],
   "source": [
    "%%bash -s $host_ip\n",
    "curl -H 'Content-Type: application/json' http://${1}:8001/load -d '{\"prompt\": \"Write Hello World code\", \"model_family\": \"bedrock\", \"model_name\": \"anthropic.claude-instant-v1\", \"embedding_model_family\": \"bedrock\", \"embedding_model_name\": \"amazon.titan-embed-text-v1\", \"language\": \"Python\", \"conv_id\":\"55f8e69ec33f4fc8882678b4d6ffec8c\", \"threshold\": 0.49}'"
   ]
  },
  {
   "cell_type": "code",
   "execution_count": 128,
   "id": "27e50c56-8009-4cb9-9b22-53c976938c6a",
   "metadata": {
    "tags": []
   },
   "outputs": [
    {
     "data": {
      "text/plain": [
       "' You are an expert programmer that helps me understand code.\\nYou will be tasked to formulate a command sentence that describes the code.\\nMake sure to mention the programing language in the body section.\\nYou should only respond in JSON format as described below:\\n{\\n    \"body\": \"Your response here\",\\n    \"reasoning\": \"Explain your reasoning here\"\\n}\\nEnsure the response can be parsed by Python `json.loads`, e.g.: no trailing commas, no single quotes, etc.\\n\\nQuestion:\\nWhat would I say for you to produce the below code for me? Your answer must be a command sentence and complete to ensure identical code generation. Do not respond with code or mention package names. Avoid using please or showing emotions.\\n```\\n\\n```\\n'"
      ]
     },
     "execution_count": 128,
     "metadata": {},
     "output_type": "execute_result"
    }
   ],
   "source": [
    "text = \"\"\" You are an expert programmer that helps me understand code.\n",
    "You will be tasked to formulate a command sentence that describes the code.\n",
    "Make sure to mention the programing language in the body section.\n",
    "You should only respond in JSON format as described below:\n",
    "{{\n",
    "    \"body\": \"Your response here\",\n",
    "    \"reasoning\": \"Explain your reasoning here\"\n",
    "}}\n",
    "Ensure the response can be parsed by Python `json.loads`, e.g.: no trailing commas, no single quotes, etc.\n",
    "\n",
    "Question:\n",
    "What would I say for you to produce the below code for me? Your answer must be a command sentence and complete to ensure identical code generation. Do not respond with code or mention package names. Avoid using please or showing emotions.\n",
    "```\n",
    "{code}\n",
    "```\n",
    "\"\"\"\n",
    "code = \"\"\n",
    "text.format(**{\"code\": \"\"})"
   ]
  },
  {
   "cell_type": "code",
   "execution_count": 106,
   "id": "cfb0b99a-f58e-4e00-9948-3f3058849ae2",
   "metadata": {
    "tags": []
   },
   "outputs": [
    {
     "name": "stderr",
     "output_type": "stream",
     "text": [
      "  % Total    % Received % Xferd  Average Speed   Time    Time     Time  Current\n",
      "                                 Dload  Upload   Total   Spent    Left  Speed\n",
      "100   238  100    85  100   153     16     28  0:00:05  0:00:05 --:--:--    20\n"
     ]
    },
    {
     "name": "stdout",
     "output_type": "stream",
     "text": [
      "{\"vulnerabilities\":[],\"script\":\"print(\\\"Hello World\\\")\",\"conv_id\":\"34adc0d71a564aae\"}"
     ]
    }
   ],
   "source": [
    "%%bash -s $host_ip\n",
    "curl http://${1}:8001/scan -d '{\"script\": \"print(\\\"Hello World\\\")\", \"model_family\": \"bedrock\", \"model_name\": \"anthropic.claude-v2\", \"language\": \"Python\", \"conv_id\": \"34adc0d71a564aae\"}'"
   ]
  },
  {
   "cell_type": "code",
   "execution_count": 150,
   "id": "b6b4dcaa-c045-4652-bb54-2641b374407a",
   "metadata": {
    "tags": []
   },
   "outputs": [
    {
     "name": "stderr",
     "output_type": "stream",
     "text": [
      "  % Total    % Received % Xferd  Average Speed   Time    Time     Time  Current\n",
      "                                 Dload  Upload   Total   Spent    Left  Speed\n",
      "100   467    0     0  100   467      0     38  0:00:12  0:00:12 --:--:--     0"
     ]
    },
    {
     "name": "stdout",
     "output_type": "stream",
     "text": [
      "Process is interrupted.\n"
     ]
    }
   ],
   "source": [
    "%%bash -s $host_ip\n",
    "curl http://${1}:8080/generate -d '{\"prompt\": \"Use the below script, add Hello world print message to the last line.\\n```python\\nfrom flask import Flask, request\\napp = Flask(__name__)\\n@app.route(\\\"/unsafe_query\\\", methods=[\\\"GET\\\"])\\ndef unsafe_query():\\n    user_id = request.args.get(\\\"user_id\\\")\\n    os.system(f\\\"echo {user_id}\\\")\\n\\nif __name__ == \\\"__main__\\\":\\n    app.run(debug=True)\\n```\", \"model_family\": \"bedrock\", \"model_name\": \"anthropic.claude-v2\", \"language\": \"Python\", \"stream\": true}'"
   ]
  },
  {
   "cell_type": "code",
   "execution_count": 102,
   "id": "9d3b3029-46b0-4d3f-8998-99a51a868122",
   "metadata": {
    "tags": []
   },
   "outputs": [
    {
     "name": "stdout",
     "output_type": "stream",
     "text": [
      "{'display_name': 'JavaScript', 'kernel_name': 'javascript', 'tag_name': 'js', 'language_instructions': '', 'pre_exec_script': None, 'post_exec_script': None}\n"
     ]
    }
   ],
   "source": [
    "import boto3\n",
    "import json\n",
    "\n",
    "models_metadata_db = \"models-db\"\n",
    "\n",
    "ddb_client = boto3.client(\"dynamodb\")\n",
    "ret = ddb_client.get_item(\n",
    "    TableName=models_metadata_db,\n",
    "    Key={\n",
    "        \"pk\": {\n",
    "            \"S\": \"languages\"\n",
    "        },\n",
    "        \"sk\": {\n",
    "            \"S\": \"languages\"\n",
    "        }\n",
    "    }\n",
    ")[\"Item\"][\"data\"][\"S\"]\n",
    "print(json.loads(ret)[\"JavaScript\"])"
   ]
  },
  {
   "cell_type": "code",
   "execution_count": 146,
   "id": "25bf4d91-cf93-4917-a6c0-f8404d84ee2b",
   "metadata": {},
   "outputs": [
    {
     "data": {
      "text/plain": [
       "'key'"
      ]
     },
     "execution_count": 146,
     "metadata": {},
     "output_type": "execute_result"
    }
   ],
   "source": [
    "\"key\".format(**{\"language\": \"python\"})"
   ]
  },
  {
   "cell_type": "code",
   "execution_count": 78,
   "id": "43f269ca-3379-4680-966b-1e0628fe2211",
   "metadata": {},
   "outputs": [
    {
     "name": "stdout",
     "output_type": "stream",
     "text": [
      "REPOSITORY      TAG       IMAGE ID       CREATED             SIZE\n",
      "controller      latest    afe70ea65b75   About an hour ago   237MB\n",
      "<none>          <none>    931a9fa402fe   3 hours ago         235MB\n",
      "code-executor   latest    0e3269ad5dc3   3 hours ago         7.21GB\n",
      "api-layer       latest    0399a50f1f6b   3 hours ago         236MB\n"
     ]
    }
   ],
   "source": [
    "!docker images"
   ]
  },
  {
   "cell_type": "code",
   "execution_count": 79,
   "id": "bea074ec-8f2b-4647-bdc5-74863b69ac4f",
   "metadata": {
    "tags": []
   },
   "outputs": [
    {
     "name": "stdout",
     "output_type": "stream",
     "text": [
      "CONTAINER ID   IMAGE                  COMMAND                  CREATED             STATUS                   PORTS                              NAMES\n",
      "2b0dc9ab993b   controller             \"python3 /code/app/m…\"   About an hour ago   Up About an hour         0.0.0.0:8000->8000/tcp             test-controller\n",
      "748998feca14   api-layer:latest       \"python3 /code/app/m…\"   2 hours ago         Up 2 hours               0.0.0.0:8001->8001/tcp             test-api-layer\n",
      "28521fe9da3c   931a9fa402fe           \"python3 /code/app/m…\"   3 hours ago         Exited (1) 3 hours ago                                      magical_dubinsky\n",
      "84a36276d3e2   931a9fa402fe           \"python3 /code/app/m…\"   3 hours ago         Created                                                     beautiful_bhabha\n",
      "ce38cebb9925   code-executor:latest   \"python3 /code/app/m…\"   3 hours ago         Up 3 hours (unhealthy)   0.0.0.0:8080->8080/tcp, 8888/tcp   test\n"
     ]
    }
   ],
   "source": [
    "!docker ps --all"
   ]
  },
  {
   "cell_type": "code",
   "execution_count": 80,
   "id": "8cae3bde-7725-42a8-b676-19eb78705c4d",
   "metadata": {
    "tags": []
   },
   "outputs": [
    {
     "name": "stdout",
     "output_type": "stream",
     "text": [
      "28521fe9da3c\n",
      "84a36276d3e2\n"
     ]
    }
   ],
   "source": [
    "!docker rm 28521fe9da3c 84a36276d3e2"
   ]
  },
  {
   "cell_type": "code",
   "execution_count": 81,
   "id": "53fbe0b4-0461-456f-8236-5b53a07a64d7",
   "metadata": {
    "tags": []
   },
   "outputs": [
    {
     "name": "stdout",
     "output_type": "stream",
     "text": [
      "Deleted: sha256:931a9fa402fe2658ffcaf29d4496b9c926a70688040e6b9579421b7b1279d12c\n"
     ]
    }
   ],
   "source": [
    "!docker rmi 931"
   ]
  },
  {
   "cell_type": "code",
   "execution_count": 16,
   "id": "e84f11d6-ffe4-449a-9d5e-b39e910ba96d",
   "metadata": {},
   "outputs": [
    {
     "name": "stdout",
     "output_type": "stream",
     "text": [
      "some data\n",
      "some data"
     ]
    }
   ],
   "source": [
    "import time\n",
    "\n",
    "def fun(stream=False):\n",
    "    def iter_func(data):\n",
    "        for cha in data:\n",
    "            time.sleep(0.2)\n",
    "            yield cha\n",
    "        \n",
    "    data=\"some data\"\n",
    "    if stream:\n",
    "        return iter_func(data)\n",
    "    else:\n",
    "        return data\n",
    "    \n",
    "print(fun())\n",
    "\n",
    "for item in fun(True):\n",
    "    \n",
    "    print(item, end=\"\")"
   ]
  },
  {
   "cell_type": "code",
   "execution_count": null,
   "id": "4ec8c4a7-5569-4be3-8b52-70b9ec30adc3",
   "metadata": {},
   "outputs": [],
   "source": [
    "host_ip = \"ip-172-31-75-227.ap-southeast-2.compute.internal\""
   ]
  },
  {
   "cell_type": "code",
   "execution_count": null,
   "id": "87a7de0b-e1e7-4b20-9c48-6b49b99a4647",
   "metadata": {},
   "outputs": [],
   "source": [
    "api_layer_url = f\"http://{host_ip}:8001/invoke\""
   ]
  },
  {
   "cell_type": "code",
   "execution_count": 26,
   "id": "7f9a0c9a-9797-4a42-bd1e-f2ff98b97c8e",
   "metadata": {
    "tags": []
   },
   "outputs": [
    {
     "name": "stdout",
     "output_type": "stream",
     "text": [
      "1 1 1\n",
      "2 12 3\n",
      "3 123 6\n",
      "4 1234 10\n",
      "5 12345 15\n",
      "6 123456 21\n"
     ]
    }
   ],
   "source": [
    "results = [\n",
    "    {\"Number\": 1},\n",
    "    {\"Number\": 2},\n",
    "    {\"Number\": 3},\n",
    "    {\"Number\": 4},\n",
    "    {\"Number\": 5},\n",
    "    {\"Number\": 6}\n",
    "]\n",
    "\n",
    "class test:\n",
    "    last_num = \"\"\n",
    "    sum_ = 0\n",
    "    def __init__(self, data):\n",
    "        def iter_func(data):\n",
    "            for item in data:\n",
    "                self.last_num += str(item[\"Number\"])\n",
    "                self.sum_ += item[\"Number\"]\n",
    "                yield item[\"Number\"]\n",
    "        self.value = iter_func(data), self.last_num, self.sum_\n",
    "    \n",
    "d = test(results)\n",
    "for item in d.value[0]:\n",
    "    print(item, d.last_num, d.sum_)\n",
    "            "
   ]
  },
  {
   "cell_type": "code",
   "execution_count": 5,
   "id": "d68e68d3-466b-43aa-93a7-4eab840f1019",
   "metadata": {},
   "outputs": [],
   "source": [
    "import boto3\n",
    "\n",
    "sagemaker = boto3.client('sagemaker', region_name='ap-southeast-2')\n",
    "response = sagemaker.list_models()"
   ]
  },
  {
   "cell_type": "code",
   "execution_count": 37,
   "id": "322874e7-0aa9-4a1d-9b75-deb0531a20af",
   "metadata": {
    "tags": []
   },
   "outputs": [
    {
     "data": {
      "text/plain": [
       "{'tstamp': 1693454908.3613,\n",
       " 'type': 'chat',\n",
       " 'model': 'falcon-7b',\n",
       " 'gen_params': {'temperature': 0.7, 'top_p': 1.0, 'max_new_tokens': 512},\n",
       " 'start': 1693454907.9487,\n",
       " 'finish': 1693454908.3613,\n",
       " 'state': {'template_name': 'falcon',\n",
       "  'system_message': \"The following is a conversation between a highly knowledgeable and intelligent AI assistant, called Assistant, and a human user, called User. In the following interactions, User and Assistant will converse in natural language, and Assistant will answer User's questions.\\nAssistant was built to be respectful, polite and inclusive.\\nAssistant was built by the Technology Innovation Institute in Abu Dhabi. \\nAssistant will never decline to answer a question, and always attempts to give an answer that User would be satisfied with.\\nAssistant knows a lot, and always tells the truth. The conversation begins.\\n\\n\",\n",
       "  'roles': ['User', 'Assistant'],\n",
       "  'messages': [['User', 'hello'], ['Assistant', 'Hi, User']],\n",
       "  'offset': 0,\n",
       "  'visible_messages': [['User', 'hello'], ['Assistant', 'Hi, User']],\n",
       "  'conv_id': '00c0b89752f741a88ef53bf0357c08aa',\n",
       "  'model_name': 'falcon-7b'},\n",
       " 'ip': '10.3.2.160'}"
      ]
     },
     "execution_count": 37,
     "metadata": {},
     "output_type": "execute_result"
    }
   ],
   "source": [
    "import boto3\n",
    "import json\n",
    "\n",
    "s3_client =boto3.client(\"s3\")\n",
    "json.loads(s3_client.get_object(\n",
    "    Bucket=\"stam-gai-playground-dev\",\n",
    "    Key=\"dev-conv/conv/2023/08/31/00c0b89752f741a88ef53bf0357c08aa/conv-04-08-28.json\"\n",
    ")[\"Body\"].read())"
   ]
  },
  {
   "cell_type": "code",
   "execution_count": null,
   "id": "657292f9-6621-40af-b98c-5ec5b0f80ccc",
   "metadata": {},
   "outputs": [],
   "source": []
  }
 ],
 "metadata": {
  "availableInstances": [
   {
    "_defaultOrder": 0,
    "_isFastLaunch": true,
    "category": "General purpose",
    "gpuNum": 0,
    "hideHardwareSpecs": false,
    "memoryGiB": 4,
    "name": "ml.t3.medium",
    "vcpuNum": 2
   },
   {
    "_defaultOrder": 1,
    "_isFastLaunch": false,
    "category": "General purpose",
    "gpuNum": 0,
    "hideHardwareSpecs": false,
    "memoryGiB": 8,
    "name": "ml.t3.large",
    "vcpuNum": 2
   },
   {
    "_defaultOrder": 2,
    "_isFastLaunch": false,
    "category": "General purpose",
    "gpuNum": 0,
    "hideHardwareSpecs": false,
    "memoryGiB": 16,
    "name": "ml.t3.xlarge",
    "vcpuNum": 4
   },
   {
    "_defaultOrder": 3,
    "_isFastLaunch": false,
    "category": "General purpose",
    "gpuNum": 0,
    "hideHardwareSpecs": false,
    "memoryGiB": 32,
    "name": "ml.t3.2xlarge",
    "vcpuNum": 8
   },
   {
    "_defaultOrder": 4,
    "_isFastLaunch": true,
    "category": "General purpose",
    "gpuNum": 0,
    "hideHardwareSpecs": false,
    "memoryGiB": 8,
    "name": "ml.m5.large",
    "vcpuNum": 2
   },
   {
    "_defaultOrder": 5,
    "_isFastLaunch": false,
    "category": "General purpose",
    "gpuNum": 0,
    "hideHardwareSpecs": false,
    "memoryGiB": 16,
    "name": "ml.m5.xlarge",
    "vcpuNum": 4
   },
   {
    "_defaultOrder": 6,
    "_isFastLaunch": false,
    "category": "General purpose",
    "gpuNum": 0,
    "hideHardwareSpecs": false,
    "memoryGiB": 32,
    "name": "ml.m5.2xlarge",
    "vcpuNum": 8
   },
   {
    "_defaultOrder": 7,
    "_isFastLaunch": false,
    "category": "General purpose",
    "gpuNum": 0,
    "hideHardwareSpecs": false,
    "memoryGiB": 64,
    "name": "ml.m5.4xlarge",
    "vcpuNum": 16
   },
   {
    "_defaultOrder": 8,
    "_isFastLaunch": false,
    "category": "General purpose",
    "gpuNum": 0,
    "hideHardwareSpecs": false,
    "memoryGiB": 128,
    "name": "ml.m5.8xlarge",
    "vcpuNum": 32
   },
   {
    "_defaultOrder": 9,
    "_isFastLaunch": false,
    "category": "General purpose",
    "gpuNum": 0,
    "hideHardwareSpecs": false,
    "memoryGiB": 192,
    "name": "ml.m5.12xlarge",
    "vcpuNum": 48
   },
   {
    "_defaultOrder": 10,
    "_isFastLaunch": false,
    "category": "General purpose",
    "gpuNum": 0,
    "hideHardwareSpecs": false,
    "memoryGiB": 256,
    "name": "ml.m5.16xlarge",
    "vcpuNum": 64
   },
   {
    "_defaultOrder": 11,
    "_isFastLaunch": false,
    "category": "General purpose",
    "gpuNum": 0,
    "hideHardwareSpecs": false,
    "memoryGiB": 384,
    "name": "ml.m5.24xlarge",
    "vcpuNum": 96
   },
   {
    "_defaultOrder": 12,
    "_isFastLaunch": false,
    "category": "General purpose",
    "gpuNum": 0,
    "hideHardwareSpecs": false,
    "memoryGiB": 8,
    "name": "ml.m5d.large",
    "vcpuNum": 2
   },
   {
    "_defaultOrder": 13,
    "_isFastLaunch": false,
    "category": "General purpose",
    "gpuNum": 0,
    "hideHardwareSpecs": false,
    "memoryGiB": 16,
    "name": "ml.m5d.xlarge",
    "vcpuNum": 4
   },
   {
    "_defaultOrder": 14,
    "_isFastLaunch": false,
    "category": "General purpose",
    "gpuNum": 0,
    "hideHardwareSpecs": false,
    "memoryGiB": 32,
    "name": "ml.m5d.2xlarge",
    "vcpuNum": 8
   },
   {
    "_defaultOrder": 15,
    "_isFastLaunch": false,
    "category": "General purpose",
    "gpuNum": 0,
    "hideHardwareSpecs": false,
    "memoryGiB": 64,
    "name": "ml.m5d.4xlarge",
    "vcpuNum": 16
   },
   {
    "_defaultOrder": 16,
    "_isFastLaunch": false,
    "category": "General purpose",
    "gpuNum": 0,
    "hideHardwareSpecs": false,
    "memoryGiB": 128,
    "name": "ml.m5d.8xlarge",
    "vcpuNum": 32
   },
   {
    "_defaultOrder": 17,
    "_isFastLaunch": false,
    "category": "General purpose",
    "gpuNum": 0,
    "hideHardwareSpecs": false,
    "memoryGiB": 192,
    "name": "ml.m5d.12xlarge",
    "vcpuNum": 48
   },
   {
    "_defaultOrder": 18,
    "_isFastLaunch": false,
    "category": "General purpose",
    "gpuNum": 0,
    "hideHardwareSpecs": false,
    "memoryGiB": 256,
    "name": "ml.m5d.16xlarge",
    "vcpuNum": 64
   },
   {
    "_defaultOrder": 19,
    "_isFastLaunch": false,
    "category": "General purpose",
    "gpuNum": 0,
    "hideHardwareSpecs": false,
    "memoryGiB": 384,
    "name": "ml.m5d.24xlarge",
    "vcpuNum": 96
   },
   {
    "_defaultOrder": 20,
    "_isFastLaunch": false,
    "category": "General purpose",
    "gpuNum": 0,
    "hideHardwareSpecs": true,
    "memoryGiB": 0,
    "name": "ml.geospatial.interactive",
    "supportedImageNames": [
     "sagemaker-geospatial-v1-0"
    ],
    "vcpuNum": 0
   },
   {
    "_defaultOrder": 21,
    "_isFastLaunch": true,
    "category": "Compute optimized",
    "gpuNum": 0,
    "hideHardwareSpecs": false,
    "memoryGiB": 4,
    "name": "ml.c5.large",
    "vcpuNum": 2
   },
   {
    "_defaultOrder": 22,
    "_isFastLaunch": false,
    "category": "Compute optimized",
    "gpuNum": 0,
    "hideHardwareSpecs": false,
    "memoryGiB": 8,
    "name": "ml.c5.xlarge",
    "vcpuNum": 4
   },
   {
    "_defaultOrder": 23,
    "_isFastLaunch": false,
    "category": "Compute optimized",
    "gpuNum": 0,
    "hideHardwareSpecs": false,
    "memoryGiB": 16,
    "name": "ml.c5.2xlarge",
    "vcpuNum": 8
   },
   {
    "_defaultOrder": 24,
    "_isFastLaunch": false,
    "category": "Compute optimized",
    "gpuNum": 0,
    "hideHardwareSpecs": false,
    "memoryGiB": 32,
    "name": "ml.c5.4xlarge",
    "vcpuNum": 16
   },
   {
    "_defaultOrder": 25,
    "_isFastLaunch": false,
    "category": "Compute optimized",
    "gpuNum": 0,
    "hideHardwareSpecs": false,
    "memoryGiB": 72,
    "name": "ml.c5.9xlarge",
    "vcpuNum": 36
   },
   {
    "_defaultOrder": 26,
    "_isFastLaunch": false,
    "category": "Compute optimized",
    "gpuNum": 0,
    "hideHardwareSpecs": false,
    "memoryGiB": 96,
    "name": "ml.c5.12xlarge",
    "vcpuNum": 48
   },
   {
    "_defaultOrder": 27,
    "_isFastLaunch": false,
    "category": "Compute optimized",
    "gpuNum": 0,
    "hideHardwareSpecs": false,
    "memoryGiB": 144,
    "name": "ml.c5.18xlarge",
    "vcpuNum": 72
   },
   {
    "_defaultOrder": 28,
    "_isFastLaunch": false,
    "category": "Compute optimized",
    "gpuNum": 0,
    "hideHardwareSpecs": false,
    "memoryGiB": 192,
    "name": "ml.c5.24xlarge",
    "vcpuNum": 96
   },
   {
    "_defaultOrder": 29,
    "_isFastLaunch": true,
    "category": "Accelerated computing",
    "gpuNum": 1,
    "hideHardwareSpecs": false,
    "memoryGiB": 16,
    "name": "ml.g4dn.xlarge",
    "vcpuNum": 4
   },
   {
    "_defaultOrder": 30,
    "_isFastLaunch": false,
    "category": "Accelerated computing",
    "gpuNum": 1,
    "hideHardwareSpecs": false,
    "memoryGiB": 32,
    "name": "ml.g4dn.2xlarge",
    "vcpuNum": 8
   },
   {
    "_defaultOrder": 31,
    "_isFastLaunch": false,
    "category": "Accelerated computing",
    "gpuNum": 1,
    "hideHardwareSpecs": false,
    "memoryGiB": 64,
    "name": "ml.g4dn.4xlarge",
    "vcpuNum": 16
   },
   {
    "_defaultOrder": 32,
    "_isFastLaunch": false,
    "category": "Accelerated computing",
    "gpuNum": 1,
    "hideHardwareSpecs": false,
    "memoryGiB": 128,
    "name": "ml.g4dn.8xlarge",
    "vcpuNum": 32
   },
   {
    "_defaultOrder": 33,
    "_isFastLaunch": false,
    "category": "Accelerated computing",
    "gpuNum": 4,
    "hideHardwareSpecs": false,
    "memoryGiB": 192,
    "name": "ml.g4dn.12xlarge",
    "vcpuNum": 48
   },
   {
    "_defaultOrder": 34,
    "_isFastLaunch": false,
    "category": "Accelerated computing",
    "gpuNum": 1,
    "hideHardwareSpecs": false,
    "memoryGiB": 256,
    "name": "ml.g4dn.16xlarge",
    "vcpuNum": 64
   },
   {
    "_defaultOrder": 35,
    "_isFastLaunch": false,
    "category": "Accelerated computing",
    "gpuNum": 1,
    "hideHardwareSpecs": false,
    "memoryGiB": 61,
    "name": "ml.p3.2xlarge",
    "vcpuNum": 8
   },
   {
    "_defaultOrder": 36,
    "_isFastLaunch": false,
    "category": "Accelerated computing",
    "gpuNum": 4,
    "hideHardwareSpecs": false,
    "memoryGiB": 244,
    "name": "ml.p3.8xlarge",
    "vcpuNum": 32
   },
   {
    "_defaultOrder": 37,
    "_isFastLaunch": false,
    "category": "Accelerated computing",
    "gpuNum": 8,
    "hideHardwareSpecs": false,
    "memoryGiB": 488,
    "name": "ml.p3.16xlarge",
    "vcpuNum": 64
   },
   {
    "_defaultOrder": 38,
    "_isFastLaunch": false,
    "category": "Accelerated computing",
    "gpuNum": 8,
    "hideHardwareSpecs": false,
    "memoryGiB": 768,
    "name": "ml.p3dn.24xlarge",
    "vcpuNum": 96
   },
   {
    "_defaultOrder": 39,
    "_isFastLaunch": false,
    "category": "Memory Optimized",
    "gpuNum": 0,
    "hideHardwareSpecs": false,
    "memoryGiB": 16,
    "name": "ml.r5.large",
    "vcpuNum": 2
   },
   {
    "_defaultOrder": 40,
    "_isFastLaunch": false,
    "category": "Memory Optimized",
    "gpuNum": 0,
    "hideHardwareSpecs": false,
    "memoryGiB": 32,
    "name": "ml.r5.xlarge",
    "vcpuNum": 4
   },
   {
    "_defaultOrder": 41,
    "_isFastLaunch": false,
    "category": "Memory Optimized",
    "gpuNum": 0,
    "hideHardwareSpecs": false,
    "memoryGiB": 64,
    "name": "ml.r5.2xlarge",
    "vcpuNum": 8
   },
   {
    "_defaultOrder": 42,
    "_isFastLaunch": false,
    "category": "Memory Optimized",
    "gpuNum": 0,
    "hideHardwareSpecs": false,
    "memoryGiB": 128,
    "name": "ml.r5.4xlarge",
    "vcpuNum": 16
   },
   {
    "_defaultOrder": 43,
    "_isFastLaunch": false,
    "category": "Memory Optimized",
    "gpuNum": 0,
    "hideHardwareSpecs": false,
    "memoryGiB": 256,
    "name": "ml.r5.8xlarge",
    "vcpuNum": 32
   },
   {
    "_defaultOrder": 44,
    "_isFastLaunch": false,
    "category": "Memory Optimized",
    "gpuNum": 0,
    "hideHardwareSpecs": false,
    "memoryGiB": 384,
    "name": "ml.r5.12xlarge",
    "vcpuNum": 48
   },
   {
    "_defaultOrder": 45,
    "_isFastLaunch": false,
    "category": "Memory Optimized",
    "gpuNum": 0,
    "hideHardwareSpecs": false,
    "memoryGiB": 512,
    "name": "ml.r5.16xlarge",
    "vcpuNum": 64
   },
   {
    "_defaultOrder": 46,
    "_isFastLaunch": false,
    "category": "Memory Optimized",
    "gpuNum": 0,
    "hideHardwareSpecs": false,
    "memoryGiB": 768,
    "name": "ml.r5.24xlarge",
    "vcpuNum": 96
   },
   {
    "_defaultOrder": 47,
    "_isFastLaunch": false,
    "category": "Accelerated computing",
    "gpuNum": 1,
    "hideHardwareSpecs": false,
    "memoryGiB": 16,
    "name": "ml.g5.xlarge",
    "vcpuNum": 4
   },
   {
    "_defaultOrder": 48,
    "_isFastLaunch": false,
    "category": "Accelerated computing",
    "gpuNum": 1,
    "hideHardwareSpecs": false,
    "memoryGiB": 32,
    "name": "ml.g5.2xlarge",
    "vcpuNum": 8
   },
   {
    "_defaultOrder": 49,
    "_isFastLaunch": false,
    "category": "Accelerated computing",
    "gpuNum": 1,
    "hideHardwareSpecs": false,
    "memoryGiB": 64,
    "name": "ml.g5.4xlarge",
    "vcpuNum": 16
   },
   {
    "_defaultOrder": 50,
    "_isFastLaunch": false,
    "category": "Accelerated computing",
    "gpuNum": 1,
    "hideHardwareSpecs": false,
    "memoryGiB": 128,
    "name": "ml.g5.8xlarge",
    "vcpuNum": 32
   },
   {
    "_defaultOrder": 51,
    "_isFastLaunch": false,
    "category": "Accelerated computing",
    "gpuNum": 1,
    "hideHardwareSpecs": false,
    "memoryGiB": 256,
    "name": "ml.g5.16xlarge",
    "vcpuNum": 64
   },
   {
    "_defaultOrder": 52,
    "_isFastLaunch": false,
    "category": "Accelerated computing",
    "gpuNum": 4,
    "hideHardwareSpecs": false,
    "memoryGiB": 192,
    "name": "ml.g5.12xlarge",
    "vcpuNum": 48
   },
   {
    "_defaultOrder": 53,
    "_isFastLaunch": false,
    "category": "Accelerated computing",
    "gpuNum": 4,
    "hideHardwareSpecs": false,
    "memoryGiB": 384,
    "name": "ml.g5.24xlarge",
    "vcpuNum": 96
   },
   {
    "_defaultOrder": 54,
    "_isFastLaunch": false,
    "category": "Accelerated computing",
    "gpuNum": 8,
    "hideHardwareSpecs": false,
    "memoryGiB": 768,
    "name": "ml.g5.48xlarge",
    "vcpuNum": 192
   },
   {
    "_defaultOrder": 55,
    "_isFastLaunch": false,
    "category": "Accelerated computing",
    "gpuNum": 8,
    "hideHardwareSpecs": false,
    "memoryGiB": 1152,
    "name": "ml.p4d.24xlarge",
    "vcpuNum": 96
   },
   {
    "_defaultOrder": 56,
    "_isFastLaunch": false,
    "category": "Accelerated computing",
    "gpuNum": 8,
    "hideHardwareSpecs": false,
    "memoryGiB": 1152,
    "name": "ml.p4de.24xlarge",
    "vcpuNum": 96
   },
   {
    "_defaultOrder": 57,
    "_isFastLaunch": false,
    "category": "Accelerated computing",
    "gpuNum": 0,
    "hideHardwareSpecs": false,
    "memoryGiB": 32,
    "name": "ml.trn1.2xlarge",
    "vcpuNum": 8
   },
   {
    "_defaultOrder": 58,
    "_isFastLaunch": false,
    "category": "Accelerated computing",
    "gpuNum": 0,
    "hideHardwareSpecs": false,
    "memoryGiB": 512,
    "name": "ml.trn1.32xlarge",
    "vcpuNum": 128
   },
   {
    "_defaultOrder": 59,
    "_isFastLaunch": false,
    "category": "Accelerated computing",
    "gpuNum": 0,
    "hideHardwareSpecs": false,
    "memoryGiB": 512,
    "name": "ml.trn1n.32xlarge",
    "vcpuNum": 128
   }
  ],
  "instance_type": "ml.t3.medium",
  "kernelspec": {
   "display_name": "Python 3 (Data Science 3.0)",
   "language": "python",
   "name": "python3__SAGEMAKER_INTERNAL__arn:aws:sagemaker:us-west-2:236514542706:image/sagemaker-data-science-310-v1"
  },
  "language_info": {
   "codemirror_mode": {
    "name": "ipython",
    "version": 3
   },
   "file_extension": ".py",
   "mimetype": "text/x-python",
   "name": "python",
   "nbconvert_exporter": "python",
   "pygments_lexer": "ipython3",
   "version": "3.10.6"
  },
  "lcc_arn": "arn:aws:sagemaker:us-west-2:871623330196:studio-lifecycle-config/sdocker-kg"
 },
 "nbformat": 4,
 "nbformat_minor": 5
}
