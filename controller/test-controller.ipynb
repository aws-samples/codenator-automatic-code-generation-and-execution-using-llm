{
 "cells": [
  {
   "cell_type": "code",
   "execution_count": 2,
   "id": "16c89da9-55fe-47b9-9f00-022df17001f8",
   "metadata": {
    "tags": []
   },
   "outputs": [],
   "source": [
    "import os\n",
    "\n",
    "os.chdir('app')"
   ]
  },
  {
   "cell_type": "code",
   "execution_count": 4,
   "id": "2c652af6-e0c8-48ff-b9a3-c29eb2809ebe",
   "metadata": {
    "tags": []
   },
   "outputs": [
    {
     "data": {
      "text/plain": [
       "' You are a helpful AI assistant that generates code.\\\\nYou have access to a  code interpreter environment, which supports you in your tasks.\\\\nYou respond by generating  code to answer user instructions.\\\\nThe code is executed in an interactive shell.\\\\nThe environment has internet, file system access and access to AWS my account.\\\\nTo answer instructions about my AWS account, generate  code.\\\\nWhen generating code, use the following format:\\\\n```\\\\n<your code>\\\\n```\\\\n\\\\nReport expected output and enclose it within a <output></output> tag.\\\\nIf you want to call  and still say something, do only output text above the code block, NOT below.\\\\nOnly provide at most one code block per message.\\\\nThe code will be executed automatically.'"
      ]
     },
     "execution_count": 4,
     "metadata": {},
     "output_type": "execute_result"
    }
   ],
   "source": [
    "from prompt.store import TemplateStore\n",
    "\n",
    "prompt_store = TemplateStore(external_store=True, ddb_table_name=\"prompt-store\")\n",
    "# prompt_store.read_from_json(\"prompt/database.json\")\n",
    "prompt_store.get_prompt_from_template(\"LLAMA2_CG_SYSTEM_PROMPT\",{\"display_name\": \"\", \"tag_name\": \"\", \"language_instructions\": \"\", \"koko\":\"\"})"
   ]
  },
  {
   "cell_type": "code",
   "execution_count": 4,
   "id": "06f162e7-1b88-46e5-baef-e5f88938260d",
   "metadata": {
    "tags": []
   },
   "outputs": [
    {
     "data": {
      "text/plain": [
       "dict"
      ]
     },
     "execution_count": 4,
     "metadata": {},
     "output_type": "execute_result"
    }
   ],
   "source": [
    "import boto3\n",
    "\n",
    "ddb_client = prompt_store.ddb_client\n",
    "ddb_table_name = prompt_store.table_name\n",
    "type(ddb_client.get_item(\n",
    "    TableName=ddb_table_name, \n",
    "    Key={\n",
    "        \"template_id\":{\n",
    "            \"S\": \"CLAUDE_CG_SYSTEM_PROMPT\"\n",
    "        }\n",
    "    }\n",
    ")[\"Item\"])"
   ]
  },
  {
   "cell_type": "code",
   "execution_count": 8,
   "id": "69f3cdd4-5471-4e00-989c-12adaded5a05",
   "metadata": {
    "tags": []
   },
   "outputs": [],
   "source": [
    "from prompt.template import PromptTemplate\n",
    "from prompt.store import TemplateStore\n",
    "\n",
    "prompt_store = TemplateStore()\n",
    "\n",
    "prompt_store.add_template(\n",
    "        template_id=\"CI_SYSTEM_PROMPT\",\n",
    "        template=PromptTemplate(\n",
    "            template=\"\"\" You are a helpful AI assistant.\n",
    "\n",
    "You have access to a {display_name} code interpreter, which supports you in your tasks.\n",
    "The code is executed in an interactive shell, imports and variables are preserved between calls.\n",
    "The environment has internet and file system access.\n",
    "The current working directory is shared with the user, so files can be exchanged.\n",
    "There are many libraries pre-installed, including numpy, pandas, matplotlib, and scikit-learn.\n",
    "You cannot show rich outputs like plots or images, but you can store them in the working directory and point the user to them.\n",
    "If the code runs too long, there will be a timeout.\n",
    "\n",
    "To access the interpreter, use the following format:\n",
    "```{tag_name}\n",
    "<your code>\n",
    "```\n",
    "{language_instructions}\n",
    "Report expected output and enclose it within a <output></output> tag.\n",
    "If you want to call {display_name} and still say something, do only output text above the code block, NOT below.\n",
    "Only provide at most one code block per message.\n",
    "The code will be executed automatically and the result will be sent back to you\n",
    "\"\"\",\n",
    "            params=[\"display_name\", \"tag_name\", \"language_instructions\"]\n",
    "        )\n",
    ")\n",
    "\n",
    "\n",
    "prompt_store.add_template(\n",
    "        template_id=\"CI_AGENT_REPLY\",\n",
    "        template=PromptTemplate(\n",
    "            template=\"\"\" Thank you for the explanation. I understand I have access to a {display_name} interpreter and can execute code by placing it between ```{tag_name} tags then return expected output between <output></output> tags. I will use this to assist you with any {display_name} programming tasks. Just let me know what you need help with!\n",
    "\"\"\",\n",
    "            params=[\"display_name\", \"tag_name\"]\n",
    "        )\n",
    ")\n",
    "\n",
    "\n",
    "prompt_store.add_template(\n",
    "        template_id=\"CI_SCRIPT_ERROR\",\n",
    "        template=PromptTemplate(\n",
    "            template=\" The script failed with below error, correct the script for me. Make sure to include full script between ```{tag_name} tags:\\n<error>\\n{error_message}\\n</error>\",\n",
    "            params=[\"tag_name\", \"error_message\"]\n",
    "        )\n",
    ")\n",
    "\n",
    "\n",
    "prompt_store.add_template(\n",
    "        template_id=\"CI_SCRIPT_SUCCESS\",\n",
    "        template=PromptTemplate(\n",
    "            template=\" The script executed successfully with below output, Answer with only Yes or No if this is the expected output:\\n<output>\\n{script_output}\\n</output>\",\n",
    "            params=[\"script_output\"]\n",
    "        )\n",
    ")"
   ]
  },
  {
   "cell_type": "code",
   "execution_count": 10,
   "id": "631e4338-1e10-4461-951e-9cc1169bd71b",
   "metadata": {
    "tags": []
   },
   "outputs": [],
   "source": [
    "ROLES = [\"Human\", \"Assistant\"]\n",
    "\n",
    "LANGUAGES = {\n",
    "    \"Python\": {\n",
    "        \"display_name\": \"Python\",\n",
    "        \"kernel_name\": \"python3\",\n",
    "        \"tag_name\": \"python\",\n",
    "        \"language_instructions\": \"\",\n",
    "        \"pre_exec_script\": None,\n",
    "        \"post_exec_script\": None\n",
    "    },\n",
    "    \"R\": {\n",
    "        \"display_name\": \"R\",\n",
    "        \"kernel_name\": \"ir\",\n",
    "        \"tag_name\": \"R\",\n",
    "        \"language_instructions\":\"\",\n",
    "        \"pre_exec_script\": None,\n",
    "        \"post_exec_script\": None\n",
    "    },\n",
    "    \"Java\": {\n",
    "        \"display_name\": \"Java\",\n",
    "        \"kernel_name\": \"java\",\n",
    "        \"tag_name\": \"java\",\n",
    "        \"language_instructions\": \"Always use \\\"Main\\\" as class name.\",\n",
    "        \"pre_exec_script\": None,\n",
    "        \"post_exec_script\": \"Main.main(new String[] {})\"\n",
    "    },\n",
    "    \"JavaScript\": {\n",
    "        \"display_name\": \"JavaScript\",\n",
    "        \"kernel_name\": \"javascript\",\n",
    "        \"tag_name\": \"js\",\n",
    "        \"language_instructions\": \"\",\n",
    "        \"pre_exec_script\": None,\n",
    "        \"post_exec_script\": None\n",
    "    },\n",
    "    \"Bash\": {\n",
    "        \"display_name\": \"Bash\",\n",
    "        \"kernel_name\": \"bash\",\n",
    "        \"tag_name\": \"bash\",\n",
    "        \"language_instructions\": \"\",\n",
    "        \"pre_exec_script\": None,\n",
    "        \"post_exec_script\": None\n",
    "    }\n",
    "}"
   ]
  },
  {
   "cell_type": "code",
   "execution_count": 14,
   "id": "88fa39ef-aa74-4b7f-871d-d27114dd9ee0",
   "metadata": {
    "tags": []
   },
   "outputs": [],
   "source": [
    "import json\n",
    "\n",
    "with open(\"languages.json\", \"w\") as json_f:\n",
    "    json.dump(LANGUAGES, json_f, indent=4)"
   ]
  },
  {
   "cell_type": "code",
   "execution_count": 32,
   "id": "05a0497e-cd61-4a78-8476-5b820d2c10d6",
   "metadata": {
    "tags": []
   },
   "outputs": [
    {
     "name": "stdout",
     "output_type": "stream",
     "text": [
      "NAME                              DESCRIPTION                               DOCKER ENDPOINT                                               ERROR\n",
      "default                           Current DOCKER_HOST based configuration   unix:///var/run/docker.sock                                   \n",
      "m5.xlarge_i-0bba463b05bcfb76e *                                             tcp://ip-172-31-78-219.ap-southeast-2.compute.internal:1111   \n"
     ]
    }
   ],
   "source": [
    "!docker context ls"
   ]
  },
  {
   "cell_type": "code",
   "execution_count": 39,
   "id": "1b515f53-a5f1-4086-9b18-9785fd84cec0",
   "metadata": {
    "tags": []
   },
   "outputs": [],
   "source": [
    "import requests\n",
    "import json\n",
    "\n",
    "docker_daemon = \"ip-172-31-76-106.ap-southeast-2.compute.internal\"\n",
    "\n",
    "api_layer_addr = f\"http://{docker_daemon}:8001\"\n",
    "api_layer_url = api_layer_addr + \"/invoke\"\n",
    "model_family = \"bedrock\"\n",
    "model_name = \"anthropic.claude-v2\"\n",
    "\n",
    "code_executor_addr = f\"http://{docker_daemon}:8080\"\n",
    "code_executor_url = code_executor_addr + \"/execute_code\"\n",
    "\n",
    "code_block_symbol = \"```\"\n",
    "output_tags = [\"<output>\", \"</output>\"]\n",
    "\n",
    "\n",
    "def send_req_to_agent(text):\n",
    "    data = {\n",
    "        \"body\": {\n",
    "            \"prompt\": text\n",
    "        }, \n",
    "        \"model_family\": model_family, \n",
    "        \"model_name\": model_name\n",
    "    }\n",
    "    ret = requests.post(\n",
    "        url=api_layer_url, \n",
    "        data=json.dumps(data)\n",
    "    )\n",
    "    return json.loads(ret.text)[\"generated_text\"]\n",
    "\n",
    "def send_script_to_exc(script, kernel_name):\n",
    "    data = {\n",
    "        \"code\": script, \n",
    "        \"kernel_name\": kernel_name\n",
    "    }\n",
    "    ret = requests.post(\n",
    "        url=code_executor_url, \n",
    "        data=json.dumps(data)\n",
    "    )\n",
    "    return json.loads(ret.text)\n",
    "\n",
    "def extract_script(text, tag_name):\n",
    "    try:\n",
    "        if code_block_symbol + tag_name in text:\n",
    "            script = text.split(code_block_symbol + tag_name + \"\\n\")[1].split(code_block_symbol)[0]\n",
    "            expected_output = \"\"\n",
    "            if output_tags[0] in text and output_tags[1] in text:\n",
    "                expected_output = text.split(output_tags[0])[1].split(output_tags[1])[0]\n",
    "            return (script, expected_output)\n",
    "    except:\n",
    "        return None\n",
    "    return None\n",
    "    \n",
    "\n",
    "class Conversation:\n",
    "    def __init__(\n",
    "        self, \n",
    "        roles, \n",
    "        prompt, \n",
    "        agent, \n",
    "        executor,\n",
    "        script_extractor,\n",
    "        language\n",
    "    ):\n",
    "        self.roles = roles\n",
    "        self.system_prompt = prompt\n",
    "        self.history = \"\\n\"\n",
    "        self.append_chat(prompt, 0)\n",
    "        self.agent = agent\n",
    "        self.executor = executor\n",
    "        self.script_extractor = script_extractor\n",
    "        self.language = language\n",
    "        self.last_agent_message = \"\"\n",
    "        \n",
    "    def append_chat(self, text, role=0):\n",
    "        self.history += \"\\n\" + self.roles[role] + \":\" + text\n",
    "        \n",
    "    def send_to_agent(self):\n",
    "        self.append_chat(\"\", 1)\n",
    "        res = self.agent(self.history)\n",
    "        self.history += res\n",
    "        self.last_agent_message = res\n",
    "    \n",
    "    def send_to_agent_and_exec_script(self):\n",
    "        self.send_to_agent()\n",
    "        result = self.script_extractor(\n",
    "            self.last_agent_message,\n",
    "            LANGUAGES[self.language][\"tag_name\"]\n",
    "        )\n",
    "        if result:\n",
    "            script, expected_output = result\n",
    "            output_res = \"\"\n",
    "            if LANGUAGES[self.language][\"pre_exec_script\"]:\n",
    "                output_res += self.executor(\n",
    "                    LANGUAGES[self.language][\"pre_exec_script\"], \n",
    "                    LANGUAGES[self.language][\"kernel_name\"]\n",
    "                )[\"output\"]\n",
    "            res = self.executor(script, LANGUAGES[self.language][\"kernel_name\"])\n",
    "            res[\"output\"] = output_res + res[\"output\"]\n",
    "            if LANGUAGES[self.language][\"post_exec_script\"]:\n",
    "                res[\"output\"] += self.executor(\n",
    "                    LANGUAGES[self.language][\"post_exec_script\"], \n",
    "                    LANGUAGES[self.language][\"kernel_name\"]\n",
    "                )[\"output\"]\n",
    "            return res\n",
    "        else:\n",
    "            return None\n",
    "        "
   ]
  },
  {
   "cell_type": "code",
   "execution_count": 40,
   "id": "a16e18f6-b9a5-40a4-a77d-60fec0e7493a",
   "metadata": {
    "collapsed": true,
    "jupyter": {
     "outputs_hidden": true
    },
    "tags": []
   },
   "outputs": [
    {
     "name": "stdout",
     "output_type": "stream",
     "text": [
      "\n",
      "\n",
      "Human: You are a helpful AI assistant.\n",
      "\n",
      "You have access to a Python code interpreter, which supports you in your tasks.\n",
      "The code is executed in an interactive shell, imports and variables are preserved between calls.\n",
      "The environment has internet and file system access.\n",
      "The current working directory is shared with the user, so files can be exchanged.\n",
      "There are many libraries pre-installed, including numpy, pandas, matplotlib, and scikit-learn.\n",
      "You cannot show rich outputs like plots or images, but you can store them in the working directory and point the user to them.\n",
      "If the code runs too long, there will be a timeout.\n",
      "\n",
      "To access the interpreter, use the following format:\n",
      "```python\n",
      "<your code>\n",
      "```\n",
      "\n",
      "Report expected output and enclose it within a <output></output> tag.\n",
      "If you want to call Python and still say something, do only output text above the code block, NOT below.\n",
      "Only provide at most one code block per message.\n",
      "The code will be executed automatically and the result will be sent back to you\n",
      "\n",
      "Assistant: Thank you for the explanation. I understand I have access to a Python interpreter and can execute code by placing it between ```python tags then return expected output between <output></output> tags. I will use this to assist you with any Python programming tasks. Just let me know what you need help with!\n",
      "\n",
      "Human:I want a script to print 'Hello World!'\n",
      "Assistant: Here is a Python script to print 'Hello World!':\n",
      "\n",
      "```python\n",
      "print('Hello World!')\n",
      "```\n",
      "\n",
      "<output>\n",
      "Hello World!\n",
      "</output>\n",
      "\n",
      "To print 'Hello World!', we use the print() function in Python and pass the string 'Hello World!' as an argument. This will output the text to the console.\n",
      "Human: The script executed successfully with below output, Answer with only Yes or No if this is the expected output:\n",
      "<output>\n",
      "Hello World!\n",
      "</output>\n",
      "Assistant: Yes\n",
      "\n",
      "\n",
      "Human: You are a helpful AI assistant.\n",
      "\n",
      "You have access to a R code interpreter, which supports you in your tasks.\n",
      "The code is executed in an interactive shell, imports and variables are preserved between calls.\n",
      "The environment has internet and file system access.\n",
      "The current working directory is shared with the user, so files can be exchanged.\n",
      "There are many libraries pre-installed, including numpy, pandas, matplotlib, and scikit-learn.\n",
      "You cannot show rich outputs like plots or images, but you can store them in the working directory and point the user to them.\n",
      "If the code runs too long, there will be a timeout.\n",
      "\n",
      "To access the interpreter, use the following format:\n",
      "```R\n",
      "<your code>\n",
      "```\n",
      "\n",
      "Report expected output and enclose it within a <output></output> tag.\n",
      "If you want to call R and still say something, do only output text above the code block, NOT below.\n",
      "Only provide at most one code block per message.\n",
      "The code will be executed automatically and the result will be sent back to you\n",
      "\n",
      "Assistant: Thank you for the explanation. I understand I have access to a R interpreter and can execute code by placing it between ```R tags then return expected output between <output></output> tags. I will use this to assist you with any R programming tasks. Just let me know what you need help with!\n",
      "\n",
      "Human:I want a script to print 'Hello World!'\n",
      "Assistant: Here is a simple R script to print \"Hello World!\":\n",
      "\n",
      "```R\n",
      "print(\"Hello World!\")\n",
      "```\n",
      "\n",
      "<output>\n",
      "[1] \"Hello World!\"\n",
      "</output>\n",
      "\n",
      "This uses the print() function in R to output the text \"Hello World!\". The [1] indicates it is printing the first element of the character vector passed to print().\n",
      "Human: The script executed successfully with below output, Answer with only Yes or No if this is the expected output:\n",
      "<output>\n",
      "[1] \"Hello World!\"\n",
      "</output>\n",
      "Assistant: Yes\n",
      "\n",
      "\n",
      "Human: You are a helpful AI assistant.\n",
      "\n",
      "You have access to a Java code interpreter, which supports you in your tasks.\n",
      "The code is executed in an interactive shell, imports and variables are preserved between calls.\n",
      "The environment has internet and file system access.\n",
      "The current working directory is shared with the user, so files can be exchanged.\n",
      "There are many libraries pre-installed, including numpy, pandas, matplotlib, and scikit-learn.\n",
      "You cannot show rich outputs like plots or images, but you can store them in the working directory and point the user to them.\n",
      "If the code runs too long, there will be a timeout.\n",
      "\n",
      "To access the interpreter, use the following format:\n",
      "```java\n",
      "<your code>\n",
      "```\n",
      "Always use \"Main\" as class name.\n",
      "Report expected output and enclose it within a <output></output> tag.\n",
      "If you want to call Java and still say something, do only output text above the code block, NOT below.\n",
      "Only provide at most one code block per message.\n",
      "The code will be executed automatically and the result will be sent back to you\n",
      "\n",
      "Assistant: Thank you for the explanation. I understand I have access to a Java interpreter and can execute code by placing it between ```java tags then return expected output between <output></output> tags. I will use this to assist you with any Java programming tasks. Just let me know what you need help with!\n",
      "\n",
      "Human:I want a script to print 'Hello World!'\n",
      "Assistant: Here is a simple Java program to print \"Hello World!\":\n",
      "\n",
      "```java\n",
      "public class Main {\n",
      "  public static void main(String[] args) {\n",
      "    System.out.println(\"Hello World!\"); \n",
      "  }\n",
      "}\n",
      "```\n",
      "\n",
      "<output>\n",
      "Hello World!\n",
      "</output>\n",
      "\n",
      "This uses the System.out.println() method to print the text \"Hello World!\" to the console. The main() method is the entry point for the Java program, and printing to System.out writes to the standard output stream.\n",
      "Human: The script executed successfully with below output, Answer with only Yes or No if this is the expected output:\n",
      "<output>\n",
      "Hello World!\n",
      "</output>\n",
      "Assistant: Yes\n",
      "\n",
      "\n",
      "Human: You are a helpful AI assistant.\n",
      "\n",
      "You have access to a JavaScript code interpreter, which supports you in your tasks.\n",
      "The code is executed in an interactive shell, imports and variables are preserved between calls.\n",
      "The environment has internet and file system access.\n",
      "The current working directory is shared with the user, so files can be exchanged.\n",
      "There are many libraries pre-installed, including numpy, pandas, matplotlib, and scikit-learn.\n",
      "You cannot show rich outputs like plots or images, but you can store them in the working directory and point the user to them.\n",
      "If the code runs too long, there will be a timeout.\n",
      "\n",
      "To access the interpreter, use the following format:\n",
      "```js\n",
      "<your code>\n",
      "```\n",
      "\n",
      "Report expected output and enclose it within a <output></output> tag.\n",
      "If you want to call JavaScript and still say something, do only output text above the code block, NOT below.\n",
      "Only provide at most one code block per message.\n",
      "The code will be executed automatically and the result will be sent back to you\n",
      "\n",
      "Assistant: Thank you for the explanation. I understand I have access to a JavaScript interpreter and can execute code by placing it between ```js tags then return expected output between <output></output> tags. I will use this to assist you with any JavaScript programming tasks. Just let me know what you need help with!\n",
      "\n",
      "Human:I want a script to print 'Hello World!'\n",
      "Assistant: Here is a simple JavaScript script to print 'Hello World!':\n",
      "\n",
      "```js\n",
      "console.log('Hello World!');\n",
      "```\n",
      "\n",
      "<output>\n",
      "Hello World!\n",
      "</output>\n",
      "\n",
      "To print 'Hello World!' in JavaScript, you can use console.log() and pass the string 'Hello World!' as a parameter. This will output the text to the console.\n",
      "Human: The script executed successfully with below output, Answer with only Yes or No if this is the expected output:\n",
      "<output>\n",
      "Hello World!\n",
      "</output>\n",
      "Assistant: Yes\n",
      "\n",
      "\n",
      "Human: You are a helpful AI assistant.\n",
      "\n",
      "You have access to a Bash code interpreter, which supports you in your tasks.\n",
      "The code is executed in an interactive shell, imports and variables are preserved between calls.\n",
      "The environment has internet and file system access.\n",
      "The current working directory is shared with the user, so files can be exchanged.\n",
      "There are many libraries pre-installed, including numpy, pandas, matplotlib, and scikit-learn.\n",
      "You cannot show rich outputs like plots or images, but you can store them in the working directory and point the user to them.\n",
      "If the code runs too long, there will be a timeout.\n",
      "\n",
      "To access the interpreter, use the following format:\n",
      "```bash\n",
      "<your code>\n",
      "```\n",
      "\n",
      "Report expected output and enclose it within a <output></output> tag.\n",
      "If you want to call Bash and still say something, do only output text above the code block, NOT below.\n",
      "Only provide at most one code block per message.\n",
      "The code will be executed automatically and the result will be sent back to you\n",
      "\n",
      "Assistant: Thank you for the explanation. I understand I have access to a Bash interpreter and can execute code by placing it between ```bash tags then return expected output between <output></output> tags. I will use this to assist you with any Bash programming tasks. Just let me know what you need help with!\n",
      "\n",
      "Human:I want a script to print 'Hello World!'\n",
      "Assistant: Here is a simple Bash script to print 'Hello World!':\n",
      "\n",
      "```bash\n",
      "echo 'Hello World!'\n",
      "```\n",
      "\n",
      "<output>\n",
      "Hello World!\n",
      "</output>\n",
      "\n",
      "To print 'Hello World!', we use the echo command. This will output the text contained in quotes to the terminal.\n",
      "Human: The script executed successfully with below output, Answer with only Yes or No if this is the expected output:\n",
      "<output>\n",
      "Hello World!\n",
      "</output>\n",
      "Assistant: Yes\n"
     ]
    }
   ],
   "source": [
    "test_prompts = [\n",
    "    \"I want a script to print 'Hello World!'\",\n",
    "    # \"I want a script that compute first 10 odd numbers and print them.\",\n",
    "    # \"I want a script that compute factorial of 20 and determines the time it took to calculate the result.\",\n",
    "    # \"I want to make tetris game\"\n",
    "]\n",
    "\n",
    "language = \"Java\"\n",
    "for language in LANGUAGES:\n",
    "\n",
    "    params = {\n",
    "        \"display_name\": LANGUAGES[language][\"display_name\"],\n",
    "        \"tag_name\": LANGUAGES[language][\"tag_name\"],\n",
    "        \"error_message\": \"\",\n",
    "        \"script_output\": \"\",\n",
    "        \"language_instructions\": LANGUAGES[language][\"language_instructions\"]\n",
    "    }\n",
    "\n",
    "    for test in test_prompts:\n",
    "        conv = Conversation(\n",
    "            ROLES, \n",
    "            prompt_store.get_prompt_from_template(\n",
    "                \"CI_SYSTEM_PROMPT\",\n",
    "                params\n",
    "            ),\n",
    "            send_req_to_agent,\n",
    "            send_script_to_exc,\n",
    "            extract_script,\n",
    "            language\n",
    "        )\n",
    "        conv.append_chat(\n",
    "            prompt_store.get_prompt_from_template(\n",
    "                \"CI_AGENT_REPLY\",\n",
    "                params\n",
    "            ),\n",
    "            1\n",
    "        )\n",
    "        conv.append_chat(test)\n",
    "        res = conv.send_to_agent_and_exec_script()\n",
    "        max_iterations = 3\n",
    "        i = 0\n",
    "        while i < max_iterations and res[\"error\"]:\n",
    "            i += 1\n",
    "            params[\"error_message\"] = res[\"output\"]\n",
    "            conv.append_chat(\n",
    "                prompt_store.get_prompt_from_template(\n",
    "                    \"CI_SCRIPT_ERROR\",\n",
    "                    params\n",
    "                )\n",
    "            )\n",
    "            conv.send_to_agent_and_exec_script()   \n",
    "        if not res[\"error\"]:\n",
    "            params[\"script_output\"] = res[\"output\"]\n",
    "            conv.append_chat(\n",
    "                prompt_store.get_prompt_from_template(\n",
    "                    \"CI_SCRIPT_SUCCESS\",\n",
    "                    params\n",
    "                )\n",
    "            )\n",
    "            conv.send_to_agent()\n",
    "        print(conv.history)"
   ]
  },
  {
   "cell_type": "code",
   "execution_count": 54,
   "id": "a47adea8-6e12-41db-ab2d-d8f812b76683",
   "metadata": {},
   "outputs": [
    {
     "data": {
      "text/plain": [
       "'\\n\\nHuman: You are a helpful AI assistant.\\n\\nYou have access to a R code interpreter, which supports you in your tasks.\\nThe code is executed in an interactive shell, imports and variables are preserved between calls.\\nThe environment has internet and file system access.\\nThe current working directory is shared with the user, so files can be exchanged.\\nThere are many libraries pre-installed, including numpy, pandas, matplotlib, and scikit-learn.\\nYou cannot show rich outputs like plots or images, but you can store them in the working directory and point the user to them.\\nIf the code runs too long, there will be a timeout.\\n\\nTo access the interpreter, use the following format:\\n```R\\n<your code>\\n```\\nIf you want to call R and still say something, do only output text above the code block, NOT below.\\nOnly provide at most one code block per message.\\nThe code will be executed automatically and the result will be sent back to you\\n\\nAssistant: Thank you for the explanation. I understand I have access to a R interpreter and can execute code by placing it between ```R tags. I will use this to assist you with any R programming tasks. Just let me know what you need help with!\\n\\nHuman:I want a script to print \\'Hello World!\\'\\nAssistant: Here is a simple R script to print \"Hello World!\":\\n\\n```R\\nprint(\"Hello World!\")\\n```\\n\\nThe print() function will output the text passed to it. Let me know if you need any other basic R scripts!'"
      ]
     },
     "execution_count": 54,
     "metadata": {},
     "output_type": "execute_result"
    }
   ],
   "source": [
    "conv.history"
   ]
  },
  {
   "cell_type": "code",
   "execution_count": 9,
   "id": "d7722f48-7a50-4b50-8be4-106d85a9b367",
   "metadata": {
    "tags": []
   },
   "outputs": [
    {
     "name": "stdout",
     "output_type": "stream",
     "text": [
      "sha256:de91d465309ac442e5d83f226bfb753809bb45a0da0482398ebd3614bb8f029f\n"
     ]
    }
   ],
   "source": [
    "!docker build --quiet --tag controller ."
   ]
  },
  {
   "cell_type": "code",
   "execution_count": 3,
   "id": "68ac9cf8-78b1-43a3-b6c2-66c3123a8542",
   "metadata": {
    "tags": []
   },
   "outputs": [
    {
     "name": "stdout",
     "output_type": "stream",
     "text": [
      "NAME                             DESCRIPTION                               DOCKER ENDPOINT                                      ERROR\n",
      "default                          Current DOCKER_HOST based configuration   unix:///var/run/docker.sock                          \n",
      "m5.large_i-029ae266049386ca1 *                                             tcp://ip-10-3-1-85.us-west-2.compute.internal:1111   \n"
     ]
    }
   ],
   "source": [
    "!docker context ls"
   ]
  },
  {
   "cell_type": "code",
   "execution_count": 18,
   "id": "40680870-6b7a-40bb-8c6e-bfd22f49a3d6",
   "metadata": {
    "tags": []
   },
   "outputs": [],
   "source": [
    "host_ip1 = \"internal-codenator-899847730.us-west-2.elb.amazonaws.com\"\n",
    "host_ip = \"ip-10-3-1-85.us-west-2.compute.internal\""
   ]
  },
  {
   "cell_type": "code",
   "execution_count": 63,
   "id": "caec64af-97b3-4728-bb57-b08ace279f91",
   "metadata": {
    "tags": []
   },
   "outputs": [
    {
     "name": "stdout",
     "output_type": "stream",
     "text": [
      "internal-codenator-899847730.us-west-2.elb.amazonaws.com\n",
      "2e8c14523c7a8310e3e0875403e1feb758a03cc4940656a8c331a32a2ba624cb\n"
     ]
    }
   ],
   "source": [
    "%%bash -s $host_ip -s $host_ip1\n",
    "echo ${3}\n",
    "docker run -d -p 8001:8001 -e AWS_REGION=us-west-2 -e AWS_DEFAULT_REGION=us-west-2 --name test-controller controller --host 0.0.0.0 --port 8001 --api-layer-host ${3} --api-layer-port 8010 --code-scanner-host ${3} --code-scanner-port 8011 --code-executor-host ${1} --code-executor-port 8080 --prompt-store-name prompt-store --models-metadata-db model-db --kms alias/codenator-kms"
   ]
  },
  {
   "cell_type": "code",
   "execution_count": 60,
   "id": "439cea49-a206-483e-9136-67ee9d5516ef",
   "metadata": {
    "tags": []
   },
   "outputs": [
    {
     "name": "stdout",
     "output_type": "stream",
     "text": [
      "INFO:     Started server process [1]\n",
      "INFO:     Waiting for application startup.\n",
      "INFO:     Application startup complete.\n",
      "INFO:     Uvicorn running on http://0.0.0.0:8001 (Press CTRL+C to quit)\n",
      "INFO:     10.3.1.27:33656 - \"POST /generate HTTP/1.1\" 200 OK\n",
      "{'output': 'Hello World', 'error': False, 'script': 'print(\"Hello World\")', 'expected_output': 'Hello World', 'conv_id': '6d6ddcbed25f4d3e'}\n",
      "INFO:     10.3.1.27:51740 - \"POST /execute HTTP/1.1\" 200 OK\n"
     ]
    }
   ],
   "source": [
    "!docker logs test-controller"
   ]
  },
  {
   "cell_type": "code",
   "execution_count": 184,
   "id": "82c9c6c5-59a3-44f7-ad5c-e896f86041f7",
   "metadata": {
    "tags": []
   },
   "outputs": [],
   "source": [
    "host_ip = \"ip-10-3-1-89.us-west-2.compute.internal\""
   ]
  },
  {
   "cell_type": "code",
   "execution_count": 7,
   "id": "2aca18d9-0fab-4c5a-a256-a17ad1752a6a",
   "metadata": {
    "tags": []
   },
   "outputs": [
    {
     "name": "stdout",
     "output_type": "stream",
     "text": [
      "Error response from daemon: Cannot kill container: test-controller: No such container: test-controller\n"
     ]
    }
   ],
   "source": [
    "!docker kill test-controller && docker rm test-controller"
   ]
  },
  {
   "cell_type": "code",
   "execution_count": 8,
   "id": "ba214970-2afc-41d3-87fc-46a1f7187743",
   "metadata": {
    "tags": []
   },
   "outputs": [
    {
     "name": "stdout",
     "output_type": "stream",
     "text": [
      "Error response from daemon: No such container: test-controller\n"
     ]
    }
   ],
   "source": [
    "!docker rm test-controller"
   ]
  },
  {
   "cell_type": "code",
   "execution_count": 64,
   "id": "eb2a55e3-52ea-4853-a825-fe892d5dcdc8",
   "metadata": {
    "tags": []
   },
   "outputs": [
    {
     "name": "stderr",
     "output_type": "stream",
     "text": [
      "  % Total    % Received % Xferd  Average Speed   Time    Time     Time  Current\n",
      "                                 Dload  Upload   Total   Spent    Left  Speed\n",
      "100    22  100    22    0     0   3314      0 --:--:-- --:--:-- --:--:--  3666\n"
     ]
    },
    {
     "name": "stdout",
     "output_type": "stream",
     "text": [
      "{\"Health_Check\":\"200\"}"
     ]
    }
   ],
   "source": [
    "%%bash -s $host_ip\n",
    "curl http://${1}:8001/ping"
   ]
  },
  {
   "cell_type": "code",
   "execution_count": 65,
   "id": "0da29c48-c893-4140-83fc-a468e7b4bae1",
   "metadata": {
    "tags": []
   },
   "outputs": [
    {
     "name": "stderr",
     "output_type": "stream",
     "text": [
      "  % Total    % Received % Xferd  Average Speed   Time    Time     Time  Current\n",
      "                                 Dload  Upload   Total   Spent    Left  Speed\n",
      "100  1154  100  1154    0     0  18895      0 --:--:-- --:--:-- --:--:-- 19233\n"
     ]
    },
    {
     "name": "stdout",
     "output_type": "stream",
     "text": [
      "\"{\\\"Python\\\": {\\\"display_name\\\": \\\"Python\\\", \\\"kernel_name\\\": \\\"python3\\\", \\\"tag_name\\\": \\\"python\\\", \\\"language_instructions\\\": \\\"\\\", \\\"pre_exec_script\\\": null, \\\"post_exec_script\\\": null}, \\\"R\\\": {\\\"display_name\\\": \\\"R\\\", \\\"kernel_name\\\": \\\"ir\\\", \\\"tag_name\\\": \\\"R\\\", \\\"language_instructions\\\": \\\"\\\", \\\"pre_exec_script\\\": null, \\\"post_exec_script\\\": null}, \\\"Java\\\": {\\\"display_name\\\": \\\"Java\\\", \\\"kernel_name\\\": \\\"java\\\", \\\"tag_name\\\": \\\"java\\\", \\\"language_instructions\\\": \\\"Always use \\\\\\\"Main\\\\\\\" as class name.\\\", \\\"pre_exec_script\\\": null, \\\"post_exec_script\\\": \\\"Main.main(new String[] {})\\\"}, \\\"JavaScript\\\": {\\\"display_name\\\": \\\"JavaScript\\\", \\\"kernel_name\\\": \\\"javascript\\\", \\\"tag_name\\\": \\\"js\\\", \\\"language_instructions\\\": \\\"\\\", \\\"pre_exec_script\\\": null, \\\"post_exec_script\\\": null}, \\\"Bash\\\": {\\\"display_name\\\": \\\"Bash\\\", \\\"kernel_name\\\": \\\"bash\\\", \\\"tag_name\\\": \\\"bash\\\", \\\"language_instructions\\\": \\\"\\\", \\\"pre_exec_script\\\": null, \\\"post_exec_script\\\": null}, \\\"Shell\\\": {\\\"display_name\\\": \\\"Shell\\\", \\\"kernel_name\\\": \\\"bash\\\", \\\"tag_name\\\": \\\"sh\\\", \\\"language_instructions\\\": \\\"\\\", \\\"pre_exec_script\\\": null, \\\"post_exec_script\\\": null}}\""
     ]
    }
   ],
   "source": [
    "%%bash -s $host_ip\n",
    "curl http://${1}:8001/list_languages"
   ]
  },
  {
   "cell_type": "code",
   "execution_count": 66,
   "id": "a2d4f240-7c5a-4e21-addf-bf2d9d3413a9",
   "metadata": {
    "tags": []
   },
   "outputs": [
    {
     "name": "stderr",
     "output_type": "stream",
     "text": [
      "  % Total    % Received % Xferd  Average Speed   Time    Time     Time  Current\n",
      "                                 Dload  Upload   Total   Spent    Left  Speed\n",
      "100   847    0   709  100   138    417     81  0:00:01  0:00:01 --:--:--   499\n"
     ]
    },
    {
     "name": "stdout",
     "output_type": "stream",
     "text": [
      "{\"script\": \"\", \"expected_output\": \"\", \"generated_text\": \" Here\", \"text\": \" Here\", \"conv_id\": \"3524612583f3480f\"}\n",
      "{\"script\": \"print(\\\"Hello World\", \"expected_output\": \"\", \"generated_text\": \" Here is some Python code to print \\\"Hello World\\\":\\n\\n```python\\nprint(\\\"Hello World\", \"text\": \" is some Python code to print \\\"Hello World\\\":\\n\\n```python\\nprint(\\\"Hello World\", \"conv_id\": \"3524612583f3480f\"}\n",
      "{\"script\": \"print(\\\"Hello World\\\")\", \"expected_output\": \"Hello World\", \"generated_text\": \" Here is some Python code to print \\\"Hello World\\\":\\n\\n```python\\nprint(\\\"Hello World\\\")\\n```\\n\\n<output>\\nHello World\\n</output>\", \"text\": \"\\\")\\n```\\n\\n<output>\\nHello World\\n</output>\", \"conv_id\": \"3524612583f3480f\"}\n"
     ]
    }
   ],
   "source": [
    "%%bash -s $host_ip\n",
    "curl http://${1}:8001/generate -d '{\"prompt\": \"Write Hello World code\", \"model_family\": \"bedrock\", \"model_name\": \"anthropic.claude-v2\", \"language\": \"Python\", \"stream\": true}'\n",
    "\n",
    "#'{\"prompt\": \"Write Hello World code\", \"model_family\": \"bedrock\", \"model_name\": \"anthropic.claude-v2\", \"language\": \"Python\"}'"
   ]
  },
  {
   "cell_type": "code",
   "execution_count": 67,
   "id": "4cd7a65a-bd4e-4f1e-aa58-9dc915cbc7d0",
   "metadata": {
    "tags": []
   },
   "outputs": [
    {
     "name": "stderr",
     "output_type": "stream",
     "text": [
      "  % Total    % Received % Xferd  Average Speed   Time    Time     Time  Current\n",
      "                                 Dload  Upload   Total   Spent    Left  Speed\n",
      "100   344    0   143  100   201    133    187  0:00:01  0:00:01 --:--:--   320\n"
     ]
    },
    {
     "name": "stdout",
     "output_type": "stream",
     "text": [
      "{\"output\": \"Hello World\", \"error\": false, \"script\": \"print(\\\"Hello World\\\")\", \"expected_output\": \"Hello World\", \"conv_id\": \"3524612583f3480f\"}\n"
     ]
    }
   ],
   "source": [
    "%%bash -s $host_ip\n",
    "curl http://${1}:8001/execute -d '{\"script\": \"print(\\\"Hello World\\\")\", \"expected_output\":\"Hello World\", \"model_family\": \"bedrock\", \"model_name\": \"anthropic.claude-v2\", \"language\": \"Python\", \"conv_id\":\"3524612583f3480f\", \"stream\": true}'"
   ]
  },
  {
   "cell_type": "code",
   "execution_count": 45,
   "id": "1fe61897-a333-4d9b-91a9-51e20bddd821",
   "metadata": {
    "tags": []
   },
   "outputs": [
    {
     "name": "stderr",
     "output_type": "stream",
     "text": [
      "  % Total    % Received % Xferd  Average Speed   Time    Time     Time  Current\n",
      "                                 Dload  Upload   Total   Spent    Left  Speed\n",
      "  0     0    0     0    0     0      0      0 --:--:-- --:--:-- --:--:--     0\n",
      "curl: (7) Failed to connect to ip-10-3-1-85.us-west-2.compute.internal port 8000 after 2 ms: Connection refused\n"
     ]
    },
    {
     "ename": "CalledProcessError",
     "evalue": "Command 'b'curl http://${1}:8000/scan -d \\'{\"script\": \"print(\\\\\\\\\"Hello World\\\\\\\\\")\", \"expected_output\":\"Hello World\", \"model_family\": \"bedrock\", \"model_name\": \"anthropic.claude-v2\", \"language\": \"Python\", \"conv_id\":\"ed522349a8de4782\", \"stream\": true}\\'\\n'' returned non-zero exit status 7.",
     "output_type": "error",
     "traceback": [
      "\u001b[0;31m---------------------------------------------------------------------------\u001b[0m",
      "\u001b[0;31mCalledProcessError\u001b[0m                        Traceback (most recent call last)",
      "Cell \u001b[0;32mIn[45], line 1\u001b[0m\n\u001b[0;32m----> 1\u001b[0m \u001b[43mget_ipython\u001b[49m\u001b[43m(\u001b[49m\u001b[43m)\u001b[49m\u001b[38;5;241;43m.\u001b[39;49m\u001b[43mrun_cell_magic\u001b[49m\u001b[43m(\u001b[49m\u001b[38;5;124;43m'\u001b[39;49m\u001b[38;5;124;43mbash\u001b[39;49m\u001b[38;5;124;43m'\u001b[39;49m\u001b[43m,\u001b[49m\u001b[43m \u001b[49m\u001b[38;5;124;43m'\u001b[39;49m\u001b[38;5;124;43m-s $host_ip\u001b[39;49m\u001b[38;5;124;43m'\u001b[39;49m\u001b[43m,\u001b[49m\u001b[43m \u001b[49m\u001b[38;5;124;43m'\u001b[39;49m\u001b[38;5;124;43mcurl http://$\u001b[39;49m\u001b[38;5;132;43;01m{1}\u001b[39;49;00m\u001b[38;5;124;43m:8000/scan -d \u001b[39;49m\u001b[38;5;130;43;01m\\'\u001b[39;49;00m\u001b[38;5;124;43m{\u001b[39;49m\u001b[38;5;124;43m\"\u001b[39;49m\u001b[38;5;124;43mscript\u001b[39;49m\u001b[38;5;124;43m\"\u001b[39;49m\u001b[38;5;124;43m: \u001b[39;49m\u001b[38;5;124;43m\"\u001b[39;49m\u001b[38;5;124;43mprint(\u001b[39;49m\u001b[38;5;130;43;01m\\\\\u001b[39;49;00m\u001b[38;5;130;43;01m\\\\\u001b[39;49;00m\u001b[38;5;124;43m\"\u001b[39;49m\u001b[38;5;124;43mHello World\u001b[39;49m\u001b[38;5;130;43;01m\\\\\u001b[39;49;00m\u001b[38;5;130;43;01m\\\\\u001b[39;49;00m\u001b[38;5;124;43m\"\u001b[39;49m\u001b[38;5;124;43m)\u001b[39;49m\u001b[38;5;124;43m\"\u001b[39;49m\u001b[38;5;124;43m, \u001b[39;49m\u001b[38;5;124;43m\"\u001b[39;49m\u001b[38;5;124;43mexpected_output\u001b[39;49m\u001b[38;5;124;43m\"\u001b[39;49m\u001b[38;5;124;43m:\u001b[39;49m\u001b[38;5;124;43m\"\u001b[39;49m\u001b[38;5;124;43mHello World\u001b[39;49m\u001b[38;5;124;43m\"\u001b[39;49m\u001b[38;5;124;43m, \u001b[39;49m\u001b[38;5;124;43m\"\u001b[39;49m\u001b[38;5;124;43mmodel_family\u001b[39;49m\u001b[38;5;124;43m\"\u001b[39;49m\u001b[38;5;124;43m: \u001b[39;49m\u001b[38;5;124;43m\"\u001b[39;49m\u001b[38;5;124;43mbedrock\u001b[39;49m\u001b[38;5;124;43m\"\u001b[39;49m\u001b[38;5;124;43m, \u001b[39;49m\u001b[38;5;124;43m\"\u001b[39;49m\u001b[38;5;124;43mmodel_name\u001b[39;49m\u001b[38;5;124;43m\"\u001b[39;49m\u001b[38;5;124;43m: \u001b[39;49m\u001b[38;5;124;43m\"\u001b[39;49m\u001b[38;5;124;43manthropic.claude-v2\u001b[39;49m\u001b[38;5;124;43m\"\u001b[39;49m\u001b[38;5;124;43m, \u001b[39;49m\u001b[38;5;124;43m\"\u001b[39;49m\u001b[38;5;124;43mlanguage\u001b[39;49m\u001b[38;5;124;43m\"\u001b[39;49m\u001b[38;5;124;43m: \u001b[39;49m\u001b[38;5;124;43m\"\u001b[39;49m\u001b[38;5;124;43mPython\u001b[39;49m\u001b[38;5;124;43m\"\u001b[39;49m\u001b[38;5;124;43m, \u001b[39;49m\u001b[38;5;124;43m\"\u001b[39;49m\u001b[38;5;124;43mconv_id\u001b[39;49m\u001b[38;5;124;43m\"\u001b[39;49m\u001b[38;5;124;43m:\u001b[39;49m\u001b[38;5;124;43m\"\u001b[39;49m\u001b[38;5;124;43med522349a8de4782\u001b[39;49m\u001b[38;5;124;43m\"\u001b[39;49m\u001b[38;5;124;43m, \u001b[39;49m\u001b[38;5;124;43m\"\u001b[39;49m\u001b[38;5;124;43mstream\u001b[39;49m\u001b[38;5;124;43m\"\u001b[39;49m\u001b[38;5;124;43m: true}\u001b[39;49m\u001b[38;5;130;43;01m\\'\u001b[39;49;00m\u001b[38;5;130;43;01m\\n\u001b[39;49;00m\u001b[38;5;124;43m'\u001b[39;49m\u001b[43m)\u001b[49m\n",
      "File \u001b[0;32m/opt/conda/lib/python3.10/site-packages/IPython/core/interactiveshell.py:2493\u001b[0m, in \u001b[0;36mInteractiveShell.run_cell_magic\u001b[0;34m(self, magic_name, line, cell)\u001b[0m\n\u001b[1;32m   2491\u001b[0m \u001b[38;5;28;01mwith\u001b[39;00m \u001b[38;5;28mself\u001b[39m\u001b[38;5;241m.\u001b[39mbuiltin_trap:\n\u001b[1;32m   2492\u001b[0m     args \u001b[38;5;241m=\u001b[39m (magic_arg_s, cell)\n\u001b[0;32m-> 2493\u001b[0m     result \u001b[38;5;241m=\u001b[39m \u001b[43mfn\u001b[49m\u001b[43m(\u001b[49m\u001b[38;5;241;43m*\u001b[39;49m\u001b[43margs\u001b[49m\u001b[43m,\u001b[49m\u001b[43m \u001b[49m\u001b[38;5;241;43m*\u001b[39;49m\u001b[38;5;241;43m*\u001b[39;49m\u001b[43mkwargs\u001b[49m\u001b[43m)\u001b[49m\n\u001b[1;32m   2495\u001b[0m \u001b[38;5;66;03m# The code below prevents the output from being displayed\u001b[39;00m\n\u001b[1;32m   2496\u001b[0m \u001b[38;5;66;03m# when using magics with decorator @output_can_be_silenced\u001b[39;00m\n\u001b[1;32m   2497\u001b[0m \u001b[38;5;66;03m# when the last Python token in the expression is a ';'.\u001b[39;00m\n\u001b[1;32m   2498\u001b[0m \u001b[38;5;28;01mif\u001b[39;00m \u001b[38;5;28mgetattr\u001b[39m(fn, magic\u001b[38;5;241m.\u001b[39mMAGIC_OUTPUT_CAN_BE_SILENCED, \u001b[38;5;28;01mFalse\u001b[39;00m):\n",
      "File \u001b[0;32m/opt/conda/lib/python3.10/site-packages/IPython/core/magics/script.py:154\u001b[0m, in \u001b[0;36mScriptMagics._make_script_magic.<locals>.named_script_magic\u001b[0;34m(line, cell)\u001b[0m\n\u001b[1;32m    152\u001b[0m \u001b[38;5;28;01melse\u001b[39;00m:\n\u001b[1;32m    153\u001b[0m     line \u001b[38;5;241m=\u001b[39m script\n\u001b[0;32m--> 154\u001b[0m \u001b[38;5;28;01mreturn\u001b[39;00m \u001b[38;5;28;43mself\u001b[39;49m\u001b[38;5;241;43m.\u001b[39;49m\u001b[43mshebang\u001b[49m\u001b[43m(\u001b[49m\u001b[43mline\u001b[49m\u001b[43m,\u001b[49m\u001b[43m \u001b[49m\u001b[43mcell\u001b[49m\u001b[43m)\u001b[49m\n",
      "File \u001b[0;32m/opt/conda/lib/python3.10/site-packages/IPython/core/magics/script.py:314\u001b[0m, in \u001b[0;36mScriptMagics.shebang\u001b[0;34m(self, line, cell)\u001b[0m\n\u001b[1;32m    309\u001b[0m \u001b[38;5;28;01mif\u001b[39;00m args\u001b[38;5;241m.\u001b[39mraise_error \u001b[38;5;129;01mand\u001b[39;00m p\u001b[38;5;241m.\u001b[39mreturncode \u001b[38;5;241m!=\u001b[39m \u001b[38;5;241m0\u001b[39m:\n\u001b[1;32m    310\u001b[0m     \u001b[38;5;66;03m# If we get here and p.returncode is still None, we must have\u001b[39;00m\n\u001b[1;32m    311\u001b[0m     \u001b[38;5;66;03m# killed it but not yet seen its return code. We don't wait for it,\u001b[39;00m\n\u001b[1;32m    312\u001b[0m     \u001b[38;5;66;03m# in case it's stuck in uninterruptible sleep. -9 = SIGKILL\u001b[39;00m\n\u001b[1;32m    313\u001b[0m     rc \u001b[38;5;241m=\u001b[39m p\u001b[38;5;241m.\u001b[39mreturncode \u001b[38;5;129;01mor\u001b[39;00m \u001b[38;5;241m-\u001b[39m\u001b[38;5;241m9\u001b[39m\n\u001b[0;32m--> 314\u001b[0m     \u001b[38;5;28;01mraise\u001b[39;00m CalledProcessError(rc, cell)\n",
      "\u001b[0;31mCalledProcessError\u001b[0m: Command 'b'curl http://${1}:8000/scan -d \\'{\"script\": \"print(\\\\\\\\\"Hello World\\\\\\\\\")\", \"expected_output\":\"Hello World\", \"model_family\": \"bedrock\", \"model_name\": \"anthropic.claude-v2\", \"language\": \"Python\", \"conv_id\":\"ed522349a8de4782\", \"stream\": true}\\'\\n'' returned non-zero exit status 7."
     ]
    }
   ],
   "source": [
    "%%bash -s $host_ip\n",
    "curl http://${1}:8001/scan -d '{\"script\": \"print(\\\"Hello World\\\")\", \"expected_output\":\"Hello World\", \"model_family\": \"bedrock\", \"model_name\": \"anthropic.claude-v2\", \"language\": \"Python\", \"conv_id\":\"ed522349a8de4782\", \"stream\": true}'"
   ]
  },
  {
   "cell_type": "code",
   "execution_count": 106,
   "id": "cfb0b99a-f58e-4e00-9948-3f3058849ae2",
   "metadata": {
    "tags": []
   },
   "outputs": [
    {
     "name": "stderr",
     "output_type": "stream",
     "text": [
      "  % Total    % Received % Xferd  Average Speed   Time    Time     Time  Current\n",
      "                                 Dload  Upload   Total   Spent    Left  Speed\n",
      "100   238  100    85  100   153     16     28  0:00:05  0:00:05 --:--:--    20\n"
     ]
    },
    {
     "name": "stdout",
     "output_type": "stream",
     "text": [
      "{\"vulnerabilities\":[],\"script\":\"print(\\\"Hello World\\\")\",\"conv_id\":\"34adc0d71a564aae\"}"
     ]
    }
   ],
   "source": [
    "%%bash -s $host_ip\n",
    "curl http://${1}:8001/scan -d '{\"script\": \"print(\\\"Hello World\\\")\", \"model_family\": \"bedrock\", \"model_name\": \"anthropic.claude-v2\", \"language\": \"Python\", \"conv_id\": \"34adc0d71a564aae\"}'"
   ]
  },
  {
   "cell_type": "code",
   "execution_count": 150,
   "id": "b6b4dcaa-c045-4652-bb54-2641b374407a",
   "metadata": {
    "tags": []
   },
   "outputs": [
    {
     "name": "stderr",
     "output_type": "stream",
     "text": [
      "  % Total    % Received % Xferd  Average Speed   Time    Time     Time  Current\n",
      "                                 Dload  Upload   Total   Spent    Left  Speed\n",
      "100   467    0     0  100   467      0     38  0:00:12  0:00:12 --:--:--     0"
     ]
    },
    {
     "name": "stdout",
     "output_type": "stream",
     "text": [
      "Process is interrupted.\n"
     ]
    }
   ],
   "source": [
    "%%bash -s $host_ip\n",
    "curl http://${1}:8080/generate -d '{\"prompt\": \"Use the below script, add Hello world print message to the last line.\\n```python\\nfrom flask import Flask, request\\napp = Flask(__name__)\\n@app.route(\\\"/unsafe_query\\\", methods=[\\\"GET\\\"])\\ndef unsafe_query():\\n    user_id = request.args.get(\\\"user_id\\\")\\n    os.system(f\\\"echo {user_id}\\\")\\n\\nif __name__ == \\\"__main__\\\":\\n    app.run(debug=True)\\n```\", \"model_family\": \"bedrock\", \"model_name\": \"anthropic.claude-v2\", \"language\": \"Python\", \"stream\": true}'"
   ]
  },
  {
   "cell_type": "code",
   "execution_count": 102,
   "id": "9d3b3029-46b0-4d3f-8998-99a51a868122",
   "metadata": {
    "tags": []
   },
   "outputs": [
    {
     "name": "stdout",
     "output_type": "stream",
     "text": [
      "{'display_name': 'JavaScript', 'kernel_name': 'javascript', 'tag_name': 'js', 'language_instructions': '', 'pre_exec_script': None, 'post_exec_script': None}\n"
     ]
    }
   ],
   "source": [
    "import boto3\n",
    "import json\n",
    "\n",
    "models_metadata_db = \"models-db\"\n",
    "\n",
    "ddb_client = boto3.client(\"dynamodb\")\n",
    "ret = ddb_client.get_item(\n",
    "    TableName=models_metadata_db,\n",
    "    Key={\n",
    "        \"pk\": {\n",
    "            \"S\": \"languages\"\n",
    "        },\n",
    "        \"sk\": {\n",
    "            \"S\": \"languages\"\n",
    "        }\n",
    "    }\n",
    ")[\"Item\"][\"data\"][\"S\"]\n",
    "print(json.loads(ret)[\"JavaScript\"])"
   ]
  },
  {
   "cell_type": "code",
   "execution_count": 146,
   "id": "25bf4d91-cf93-4917-a6c0-f8404d84ee2b",
   "metadata": {},
   "outputs": [
    {
     "data": {
      "text/plain": [
       "'key'"
      ]
     },
     "execution_count": 146,
     "metadata": {},
     "output_type": "execute_result"
    }
   ],
   "source": [
    "\"key\".format(**{\"language\": \"python\"})"
   ]
  },
  {
   "cell_type": "code",
   "execution_count": 78,
   "id": "43f269ca-3379-4680-966b-1e0628fe2211",
   "metadata": {},
   "outputs": [
    {
     "name": "stdout",
     "output_type": "stream",
     "text": [
      "REPOSITORY      TAG       IMAGE ID       CREATED             SIZE\n",
      "controller      latest    afe70ea65b75   About an hour ago   237MB\n",
      "<none>          <none>    931a9fa402fe   3 hours ago         235MB\n",
      "code-executor   latest    0e3269ad5dc3   3 hours ago         7.21GB\n",
      "api-layer       latest    0399a50f1f6b   3 hours ago         236MB\n"
     ]
    }
   ],
   "source": [
    "!docker images"
   ]
  },
  {
   "cell_type": "code",
   "execution_count": 79,
   "id": "bea074ec-8f2b-4647-bdc5-74863b69ac4f",
   "metadata": {
    "tags": []
   },
   "outputs": [
    {
     "name": "stdout",
     "output_type": "stream",
     "text": [
      "CONTAINER ID   IMAGE                  COMMAND                  CREATED             STATUS                   PORTS                              NAMES\n",
      "2b0dc9ab993b   controller             \"python3 /code/app/m…\"   About an hour ago   Up About an hour         0.0.0.0:8000->8000/tcp             test-controller\n",
      "748998feca14   api-layer:latest       \"python3 /code/app/m…\"   2 hours ago         Up 2 hours               0.0.0.0:8001->8001/tcp             test-api-layer\n",
      "28521fe9da3c   931a9fa402fe           \"python3 /code/app/m…\"   3 hours ago         Exited (1) 3 hours ago                                      magical_dubinsky\n",
      "84a36276d3e2   931a9fa402fe           \"python3 /code/app/m…\"   3 hours ago         Created                                                     beautiful_bhabha\n",
      "ce38cebb9925   code-executor:latest   \"python3 /code/app/m…\"   3 hours ago         Up 3 hours (unhealthy)   0.0.0.0:8080->8080/tcp, 8888/tcp   test\n"
     ]
    }
   ],
   "source": [
    "!docker ps --all"
   ]
  },
  {
   "cell_type": "code",
   "execution_count": 80,
   "id": "8cae3bde-7725-42a8-b676-19eb78705c4d",
   "metadata": {
    "tags": []
   },
   "outputs": [
    {
     "name": "stdout",
     "output_type": "stream",
     "text": [
      "28521fe9da3c\n",
      "84a36276d3e2\n"
     ]
    }
   ],
   "source": [
    "!docker rm 28521fe9da3c 84a36276d3e2"
   ]
  },
  {
   "cell_type": "code",
   "execution_count": 81,
   "id": "53fbe0b4-0461-456f-8236-5b53a07a64d7",
   "metadata": {
    "tags": []
   },
   "outputs": [
    {
     "name": "stdout",
     "output_type": "stream",
     "text": [
      "Deleted: sha256:931a9fa402fe2658ffcaf29d4496b9c926a70688040e6b9579421b7b1279d12c\n"
     ]
    }
   ],
   "source": [
    "!docker rmi 931"
   ]
  },
  {
   "cell_type": "code",
   "execution_count": 16,
   "id": "e84f11d6-ffe4-449a-9d5e-b39e910ba96d",
   "metadata": {},
   "outputs": [
    {
     "name": "stdout",
     "output_type": "stream",
     "text": [
      "some data\n",
      "some data"
     ]
    }
   ],
   "source": [
    "import time\n",
    "\n",
    "def fun(stream=False):\n",
    "    def iter_func(data):\n",
    "        for cha in data:\n",
    "            time.sleep(0.2)\n",
    "            yield cha\n",
    "        \n",
    "    data=\"some data\"\n",
    "    if stream:\n",
    "        return iter_func(data)\n",
    "    else:\n",
    "        return data\n",
    "    \n",
    "print(fun())\n",
    "\n",
    "for item in fun(True):\n",
    "    \n",
    "    print(item, end=\"\")"
   ]
  },
  {
   "cell_type": "code",
   "execution_count": null,
   "id": "4ec8c4a7-5569-4be3-8b52-70b9ec30adc3",
   "metadata": {},
   "outputs": [],
   "source": [
    "host_ip = \"ip-172-31-75-227.ap-southeast-2.compute.internal\""
   ]
  },
  {
   "cell_type": "code",
   "execution_count": null,
   "id": "87a7de0b-e1e7-4b20-9c48-6b49b99a4647",
   "metadata": {},
   "outputs": [],
   "source": [
    "api_layer_url = f\"http://{host_ip}:8001/invoke\""
   ]
  },
  {
   "cell_type": "code",
   "execution_count": 26,
   "id": "7f9a0c9a-9797-4a42-bd1e-f2ff98b97c8e",
   "metadata": {
    "tags": []
   },
   "outputs": [
    {
     "name": "stdout",
     "output_type": "stream",
     "text": [
      "1 1 1\n",
      "2 12 3\n",
      "3 123 6\n",
      "4 1234 10\n",
      "5 12345 15\n",
      "6 123456 21\n"
     ]
    }
   ],
   "source": [
    "results = [\n",
    "    {\"Number\": 1},\n",
    "    {\"Number\": 2},\n",
    "    {\"Number\": 3},\n",
    "    {\"Number\": 4},\n",
    "    {\"Number\": 5},\n",
    "    {\"Number\": 6}\n",
    "]\n",
    "\n",
    "class test:\n",
    "    last_num = \"\"\n",
    "    sum_ = 0\n",
    "    def __init__(self, data):\n",
    "        def iter_func(data):\n",
    "            for item in data:\n",
    "                self.last_num += str(item[\"Number\"])\n",
    "                self.sum_ += item[\"Number\"]\n",
    "                yield item[\"Number\"]\n",
    "        self.value = iter_func(data), self.last_num, self.sum_\n",
    "    \n",
    "d = test(results)\n",
    "for item in d.value[0]:\n",
    "    print(item, d.last_num, d.sum_)\n",
    "            "
   ]
  },
  {
   "cell_type": "code",
   "execution_count": 5,
   "id": "d68e68d3-466b-43aa-93a7-4eab840f1019",
   "metadata": {},
   "outputs": [],
   "source": [
    "import boto3\n",
    "\n",
    "sagemaker = boto3.client('sagemaker', region_name='ap-southeast-2')\n",
    "response = sagemaker.list_models()"
   ]
  },
  {
   "cell_type": "code",
   "execution_count": null,
   "id": "322874e7-0aa9-4a1d-9b75-deb0531a20af",
   "metadata": {},
   "outputs": [],
   "source": []
  }
 ],
 "metadata": {
  "availableInstances": [
   {
    "_defaultOrder": 0,
    "_isFastLaunch": true,
    "category": "General purpose",
    "gpuNum": 0,
    "hideHardwareSpecs": false,
    "memoryGiB": 4,
    "name": "ml.t3.medium",
    "vcpuNum": 2
   },
   {
    "_defaultOrder": 1,
    "_isFastLaunch": false,
    "category": "General purpose",
    "gpuNum": 0,
    "hideHardwareSpecs": false,
    "memoryGiB": 8,
    "name": "ml.t3.large",
    "vcpuNum": 2
   },
   {
    "_defaultOrder": 2,
    "_isFastLaunch": false,
    "category": "General purpose",
    "gpuNum": 0,
    "hideHardwareSpecs": false,
    "memoryGiB": 16,
    "name": "ml.t3.xlarge",
    "vcpuNum": 4
   },
   {
    "_defaultOrder": 3,
    "_isFastLaunch": false,
    "category": "General purpose",
    "gpuNum": 0,
    "hideHardwareSpecs": false,
    "memoryGiB": 32,
    "name": "ml.t3.2xlarge",
    "vcpuNum": 8
   },
   {
    "_defaultOrder": 4,
    "_isFastLaunch": true,
    "category": "General purpose",
    "gpuNum": 0,
    "hideHardwareSpecs": false,
    "memoryGiB": 8,
    "name": "ml.m5.large",
    "vcpuNum": 2
   },
   {
    "_defaultOrder": 5,
    "_isFastLaunch": false,
    "category": "General purpose",
    "gpuNum": 0,
    "hideHardwareSpecs": false,
    "memoryGiB": 16,
    "name": "ml.m5.xlarge",
    "vcpuNum": 4
   },
   {
    "_defaultOrder": 6,
    "_isFastLaunch": false,
    "category": "General purpose",
    "gpuNum": 0,
    "hideHardwareSpecs": false,
    "memoryGiB": 32,
    "name": "ml.m5.2xlarge",
    "vcpuNum": 8
   },
   {
    "_defaultOrder": 7,
    "_isFastLaunch": false,
    "category": "General purpose",
    "gpuNum": 0,
    "hideHardwareSpecs": false,
    "memoryGiB": 64,
    "name": "ml.m5.4xlarge",
    "vcpuNum": 16
   },
   {
    "_defaultOrder": 8,
    "_isFastLaunch": false,
    "category": "General purpose",
    "gpuNum": 0,
    "hideHardwareSpecs": false,
    "memoryGiB": 128,
    "name": "ml.m5.8xlarge",
    "vcpuNum": 32
   },
   {
    "_defaultOrder": 9,
    "_isFastLaunch": false,
    "category": "General purpose",
    "gpuNum": 0,
    "hideHardwareSpecs": false,
    "memoryGiB": 192,
    "name": "ml.m5.12xlarge",
    "vcpuNum": 48
   },
   {
    "_defaultOrder": 10,
    "_isFastLaunch": false,
    "category": "General purpose",
    "gpuNum": 0,
    "hideHardwareSpecs": false,
    "memoryGiB": 256,
    "name": "ml.m5.16xlarge",
    "vcpuNum": 64
   },
   {
    "_defaultOrder": 11,
    "_isFastLaunch": false,
    "category": "General purpose",
    "gpuNum": 0,
    "hideHardwareSpecs": false,
    "memoryGiB": 384,
    "name": "ml.m5.24xlarge",
    "vcpuNum": 96
   },
   {
    "_defaultOrder": 12,
    "_isFastLaunch": false,
    "category": "General purpose",
    "gpuNum": 0,
    "hideHardwareSpecs": false,
    "memoryGiB": 8,
    "name": "ml.m5d.large",
    "vcpuNum": 2
   },
   {
    "_defaultOrder": 13,
    "_isFastLaunch": false,
    "category": "General purpose",
    "gpuNum": 0,
    "hideHardwareSpecs": false,
    "memoryGiB": 16,
    "name": "ml.m5d.xlarge",
    "vcpuNum": 4
   },
   {
    "_defaultOrder": 14,
    "_isFastLaunch": false,
    "category": "General purpose",
    "gpuNum": 0,
    "hideHardwareSpecs": false,
    "memoryGiB": 32,
    "name": "ml.m5d.2xlarge",
    "vcpuNum": 8
   },
   {
    "_defaultOrder": 15,
    "_isFastLaunch": false,
    "category": "General purpose",
    "gpuNum": 0,
    "hideHardwareSpecs": false,
    "memoryGiB": 64,
    "name": "ml.m5d.4xlarge",
    "vcpuNum": 16
   },
   {
    "_defaultOrder": 16,
    "_isFastLaunch": false,
    "category": "General purpose",
    "gpuNum": 0,
    "hideHardwareSpecs": false,
    "memoryGiB": 128,
    "name": "ml.m5d.8xlarge",
    "vcpuNum": 32
   },
   {
    "_defaultOrder": 17,
    "_isFastLaunch": false,
    "category": "General purpose",
    "gpuNum": 0,
    "hideHardwareSpecs": false,
    "memoryGiB": 192,
    "name": "ml.m5d.12xlarge",
    "vcpuNum": 48
   },
   {
    "_defaultOrder": 18,
    "_isFastLaunch": false,
    "category": "General purpose",
    "gpuNum": 0,
    "hideHardwareSpecs": false,
    "memoryGiB": 256,
    "name": "ml.m5d.16xlarge",
    "vcpuNum": 64
   },
   {
    "_defaultOrder": 19,
    "_isFastLaunch": false,
    "category": "General purpose",
    "gpuNum": 0,
    "hideHardwareSpecs": false,
    "memoryGiB": 384,
    "name": "ml.m5d.24xlarge",
    "vcpuNum": 96
   },
   {
    "_defaultOrder": 20,
    "_isFastLaunch": false,
    "category": "General purpose",
    "gpuNum": 0,
    "hideHardwareSpecs": true,
    "memoryGiB": 0,
    "name": "ml.geospatial.interactive",
    "supportedImageNames": [
     "sagemaker-geospatial-v1-0"
    ],
    "vcpuNum": 0
   },
   {
    "_defaultOrder": 21,
    "_isFastLaunch": true,
    "category": "Compute optimized",
    "gpuNum": 0,
    "hideHardwareSpecs": false,
    "memoryGiB": 4,
    "name": "ml.c5.large",
    "vcpuNum": 2
   },
   {
    "_defaultOrder": 22,
    "_isFastLaunch": false,
    "category": "Compute optimized",
    "gpuNum": 0,
    "hideHardwareSpecs": false,
    "memoryGiB": 8,
    "name": "ml.c5.xlarge",
    "vcpuNum": 4
   },
   {
    "_defaultOrder": 23,
    "_isFastLaunch": false,
    "category": "Compute optimized",
    "gpuNum": 0,
    "hideHardwareSpecs": false,
    "memoryGiB": 16,
    "name": "ml.c5.2xlarge",
    "vcpuNum": 8
   },
   {
    "_defaultOrder": 24,
    "_isFastLaunch": false,
    "category": "Compute optimized",
    "gpuNum": 0,
    "hideHardwareSpecs": false,
    "memoryGiB": 32,
    "name": "ml.c5.4xlarge",
    "vcpuNum": 16
   },
   {
    "_defaultOrder": 25,
    "_isFastLaunch": false,
    "category": "Compute optimized",
    "gpuNum": 0,
    "hideHardwareSpecs": false,
    "memoryGiB": 72,
    "name": "ml.c5.9xlarge",
    "vcpuNum": 36
   },
   {
    "_defaultOrder": 26,
    "_isFastLaunch": false,
    "category": "Compute optimized",
    "gpuNum": 0,
    "hideHardwareSpecs": false,
    "memoryGiB": 96,
    "name": "ml.c5.12xlarge",
    "vcpuNum": 48
   },
   {
    "_defaultOrder": 27,
    "_isFastLaunch": false,
    "category": "Compute optimized",
    "gpuNum": 0,
    "hideHardwareSpecs": false,
    "memoryGiB": 144,
    "name": "ml.c5.18xlarge",
    "vcpuNum": 72
   },
   {
    "_defaultOrder": 28,
    "_isFastLaunch": false,
    "category": "Compute optimized",
    "gpuNum": 0,
    "hideHardwareSpecs": false,
    "memoryGiB": 192,
    "name": "ml.c5.24xlarge",
    "vcpuNum": 96
   },
   {
    "_defaultOrder": 29,
    "_isFastLaunch": true,
    "category": "Accelerated computing",
    "gpuNum": 1,
    "hideHardwareSpecs": false,
    "memoryGiB": 16,
    "name": "ml.g4dn.xlarge",
    "vcpuNum": 4
   },
   {
    "_defaultOrder": 30,
    "_isFastLaunch": false,
    "category": "Accelerated computing",
    "gpuNum": 1,
    "hideHardwareSpecs": false,
    "memoryGiB": 32,
    "name": "ml.g4dn.2xlarge",
    "vcpuNum": 8
   },
   {
    "_defaultOrder": 31,
    "_isFastLaunch": false,
    "category": "Accelerated computing",
    "gpuNum": 1,
    "hideHardwareSpecs": false,
    "memoryGiB": 64,
    "name": "ml.g4dn.4xlarge",
    "vcpuNum": 16
   },
   {
    "_defaultOrder": 32,
    "_isFastLaunch": false,
    "category": "Accelerated computing",
    "gpuNum": 1,
    "hideHardwareSpecs": false,
    "memoryGiB": 128,
    "name": "ml.g4dn.8xlarge",
    "vcpuNum": 32
   },
   {
    "_defaultOrder": 33,
    "_isFastLaunch": false,
    "category": "Accelerated computing",
    "gpuNum": 4,
    "hideHardwareSpecs": false,
    "memoryGiB": 192,
    "name": "ml.g4dn.12xlarge",
    "vcpuNum": 48
   },
   {
    "_defaultOrder": 34,
    "_isFastLaunch": false,
    "category": "Accelerated computing",
    "gpuNum": 1,
    "hideHardwareSpecs": false,
    "memoryGiB": 256,
    "name": "ml.g4dn.16xlarge",
    "vcpuNum": 64
   },
   {
    "_defaultOrder": 35,
    "_isFastLaunch": false,
    "category": "Accelerated computing",
    "gpuNum": 1,
    "hideHardwareSpecs": false,
    "memoryGiB": 61,
    "name": "ml.p3.2xlarge",
    "vcpuNum": 8
   },
   {
    "_defaultOrder": 36,
    "_isFastLaunch": false,
    "category": "Accelerated computing",
    "gpuNum": 4,
    "hideHardwareSpecs": false,
    "memoryGiB": 244,
    "name": "ml.p3.8xlarge",
    "vcpuNum": 32
   },
   {
    "_defaultOrder": 37,
    "_isFastLaunch": false,
    "category": "Accelerated computing",
    "gpuNum": 8,
    "hideHardwareSpecs": false,
    "memoryGiB": 488,
    "name": "ml.p3.16xlarge",
    "vcpuNum": 64
   },
   {
    "_defaultOrder": 38,
    "_isFastLaunch": false,
    "category": "Accelerated computing",
    "gpuNum": 8,
    "hideHardwareSpecs": false,
    "memoryGiB": 768,
    "name": "ml.p3dn.24xlarge",
    "vcpuNum": 96
   },
   {
    "_defaultOrder": 39,
    "_isFastLaunch": false,
    "category": "Memory Optimized",
    "gpuNum": 0,
    "hideHardwareSpecs": false,
    "memoryGiB": 16,
    "name": "ml.r5.large",
    "vcpuNum": 2
   },
   {
    "_defaultOrder": 40,
    "_isFastLaunch": false,
    "category": "Memory Optimized",
    "gpuNum": 0,
    "hideHardwareSpecs": false,
    "memoryGiB": 32,
    "name": "ml.r5.xlarge",
    "vcpuNum": 4
   },
   {
    "_defaultOrder": 41,
    "_isFastLaunch": false,
    "category": "Memory Optimized",
    "gpuNum": 0,
    "hideHardwareSpecs": false,
    "memoryGiB": 64,
    "name": "ml.r5.2xlarge",
    "vcpuNum": 8
   },
   {
    "_defaultOrder": 42,
    "_isFastLaunch": false,
    "category": "Memory Optimized",
    "gpuNum": 0,
    "hideHardwareSpecs": false,
    "memoryGiB": 128,
    "name": "ml.r5.4xlarge",
    "vcpuNum": 16
   },
   {
    "_defaultOrder": 43,
    "_isFastLaunch": false,
    "category": "Memory Optimized",
    "gpuNum": 0,
    "hideHardwareSpecs": false,
    "memoryGiB": 256,
    "name": "ml.r5.8xlarge",
    "vcpuNum": 32
   },
   {
    "_defaultOrder": 44,
    "_isFastLaunch": false,
    "category": "Memory Optimized",
    "gpuNum": 0,
    "hideHardwareSpecs": false,
    "memoryGiB": 384,
    "name": "ml.r5.12xlarge",
    "vcpuNum": 48
   },
   {
    "_defaultOrder": 45,
    "_isFastLaunch": false,
    "category": "Memory Optimized",
    "gpuNum": 0,
    "hideHardwareSpecs": false,
    "memoryGiB": 512,
    "name": "ml.r5.16xlarge",
    "vcpuNum": 64
   },
   {
    "_defaultOrder": 46,
    "_isFastLaunch": false,
    "category": "Memory Optimized",
    "gpuNum": 0,
    "hideHardwareSpecs": false,
    "memoryGiB": 768,
    "name": "ml.r5.24xlarge",
    "vcpuNum": 96
   },
   {
    "_defaultOrder": 47,
    "_isFastLaunch": false,
    "category": "Accelerated computing",
    "gpuNum": 1,
    "hideHardwareSpecs": false,
    "memoryGiB": 16,
    "name": "ml.g5.xlarge",
    "vcpuNum": 4
   },
   {
    "_defaultOrder": 48,
    "_isFastLaunch": false,
    "category": "Accelerated computing",
    "gpuNum": 1,
    "hideHardwareSpecs": false,
    "memoryGiB": 32,
    "name": "ml.g5.2xlarge",
    "vcpuNum": 8
   },
   {
    "_defaultOrder": 49,
    "_isFastLaunch": false,
    "category": "Accelerated computing",
    "gpuNum": 1,
    "hideHardwareSpecs": false,
    "memoryGiB": 64,
    "name": "ml.g5.4xlarge",
    "vcpuNum": 16
   },
   {
    "_defaultOrder": 50,
    "_isFastLaunch": false,
    "category": "Accelerated computing",
    "gpuNum": 1,
    "hideHardwareSpecs": false,
    "memoryGiB": 128,
    "name": "ml.g5.8xlarge",
    "vcpuNum": 32
   },
   {
    "_defaultOrder": 51,
    "_isFastLaunch": false,
    "category": "Accelerated computing",
    "gpuNum": 1,
    "hideHardwareSpecs": false,
    "memoryGiB": 256,
    "name": "ml.g5.16xlarge",
    "vcpuNum": 64
   },
   {
    "_defaultOrder": 52,
    "_isFastLaunch": false,
    "category": "Accelerated computing",
    "gpuNum": 4,
    "hideHardwareSpecs": false,
    "memoryGiB": 192,
    "name": "ml.g5.12xlarge",
    "vcpuNum": 48
   },
   {
    "_defaultOrder": 53,
    "_isFastLaunch": false,
    "category": "Accelerated computing",
    "gpuNum": 4,
    "hideHardwareSpecs": false,
    "memoryGiB": 384,
    "name": "ml.g5.24xlarge",
    "vcpuNum": 96
   },
   {
    "_defaultOrder": 54,
    "_isFastLaunch": false,
    "category": "Accelerated computing",
    "gpuNum": 8,
    "hideHardwareSpecs": false,
    "memoryGiB": 768,
    "name": "ml.g5.48xlarge",
    "vcpuNum": 192
   },
   {
    "_defaultOrder": 55,
    "_isFastLaunch": false,
    "category": "Accelerated computing",
    "gpuNum": 8,
    "hideHardwareSpecs": false,
    "memoryGiB": 1152,
    "name": "ml.p4d.24xlarge",
    "vcpuNum": 96
   },
   {
    "_defaultOrder": 56,
    "_isFastLaunch": false,
    "category": "Accelerated computing",
    "gpuNum": 8,
    "hideHardwareSpecs": false,
    "memoryGiB": 1152,
    "name": "ml.p4de.24xlarge",
    "vcpuNum": 96
   },
   {
    "_defaultOrder": 57,
    "_isFastLaunch": false,
    "category": "Accelerated computing",
    "gpuNum": 0,
    "hideHardwareSpecs": false,
    "memoryGiB": 32,
    "name": "ml.trn1.2xlarge",
    "vcpuNum": 8
   },
   {
    "_defaultOrder": 58,
    "_isFastLaunch": false,
    "category": "Accelerated computing",
    "gpuNum": 0,
    "hideHardwareSpecs": false,
    "memoryGiB": 512,
    "name": "ml.trn1.32xlarge",
    "vcpuNum": 128
   },
   {
    "_defaultOrder": 59,
    "_isFastLaunch": false,
    "category": "Accelerated computing",
    "gpuNum": 0,
    "hideHardwareSpecs": false,
    "memoryGiB": 512,
    "name": "ml.trn1n.32xlarge",
    "vcpuNum": 128
   }
  ],
  "instance_type": "ml.t3.medium",
  "kernelspec": {
   "display_name": "Python 3 (Data Science 3.0)",
   "language": "python",
   "name": "python3__SAGEMAKER_INTERNAL__arn:aws:sagemaker:us-west-2:236514542706:image/sagemaker-data-science-310-v1"
  },
  "language_info": {
   "codemirror_mode": {
    "name": "ipython",
    "version": 3
   },
   "file_extension": ".py",
   "mimetype": "text/x-python",
   "name": "python",
   "nbconvert_exporter": "python",
   "pygments_lexer": "ipython3",
   "version": "3.10.6"
  },
  "lcc_arn": "arn:aws:sagemaker:us-west-2:871623330196:studio-lifecycle-config/sdocker-kg"
 },
 "nbformat": 4,
 "nbformat_minor": 5
}
