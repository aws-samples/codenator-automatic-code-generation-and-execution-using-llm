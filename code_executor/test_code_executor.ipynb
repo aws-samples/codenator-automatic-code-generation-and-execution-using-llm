{
 "cells": [
  {
   "cell_type": "markdown",
   "id": "fc753b9f-9f66-4f86-abd8-fd41abaedf2f",
   "metadata": {},
   "source": [
    "# Code Executor - development notebook"
   ]
  },
  {
   "cell_type": "markdown",
   "id": "a25a8e9d-26b3-44fe-b1a6-f35ac2986750",
   "metadata": {},
   "source": [
    "## Docker container space"
   ]
  },
  {
   "cell_type": "markdown",
   "id": "414d9e49-c6dd-42bd-8407-0958d27fcd92",
   "metadata": {},
   "source": [
    "### Build and run"
   ]
  },
  {
   "cell_type": "code",
   "execution_count": 164,
   "id": "8e0d4d43-02da-41ee-9ba0-a3801b143142",
   "metadata": {
    "scrolled": true,
    "tags": []
   },
   "outputs": [
    {
     "name": "stdout",
     "output_type": "stream",
     "text": [
      "sha256:bbe1e25a71e1b253501bc924994811d8ac3f171fc1b66bbc5152b698f219cc0a\n"
     ]
    }
   ],
   "source": [
    "# Build image\n",
    "!docker build . --quiet --tag code-executor:latest"
   ]
  },
  {
   "cell_type": "code",
   "execution_count": 165,
   "id": "f849150e-833d-4ff4-a8f7-759bfb94ebad",
   "metadata": {
    "tags": []
   },
   "outputs": [
    {
     "name": "stdout",
     "output_type": "stream",
     "text": [
      "427d98f31031f69da00c35d5a5826ade5668bcea3fd5d7fce30e5b27696ebd61\n"
     ]
    }
   ],
   "source": [
    "# Run container\n",
    "!docker run -d -p 8080:8080 -e AWS_REGION=us-west-2 -e AWS_DEFAULT_REGION=us-west-2 --name test-code-executor code-executor:latest --host 0.0.0.0 --kms \"alias/codenator-kms\""
   ]
  },
  {
   "cell_type": "code",
   "execution_count": 101,
   "id": "96e8744d-36c3-4fea-ad15-f407eae07c16",
   "metadata": {
    "tags": []
   },
   "outputs": [
    {
     "name": "stdout",
     "output_type": "stream",
     "text": [
      "/code/app/main.py:7: DeprecationWarning: pkg_resources is deprecated as an API. See https://setuptools.pypa.io/en/latest/pkg_resources.html\n",
      "  import pkg_resources\n",
      "/opt/conda/lib/python3.11/site-packages/IPython/paths.py:62: UserWarning: IPython dir '/home/jovyan/.ipython' is not a writable location, using a temp directory.\n",
      "  warn(\"IPython dir '{0}' is not a writable location,\"\n",
      "0.00s - Debugger warning: It seems that frozen modules are being used, which may\n",
      "0.00s - make the debugger miss breakpoints. Please pass -Xfrozen_modules=off\n",
      "0.00s - to python to disable frozen modules.\n",
      "0.00s - Note: Debugging will proceed. Set PYDEVD_DISABLE_FILE_VALIDATION=1 to disable this validation.\n"
     ]
    }
   ],
   "source": [
    "# check container logs\n",
    "!docker logs test-code-executor"
   ]
  },
  {
   "cell_type": "code",
   "execution_count": 163,
   "id": "841038ee-5fd2-4d30-9644-efa600c6f61e",
   "metadata": {
    "tags": []
   },
   "outputs": [
    {
     "name": "stdout",
     "output_type": "stream",
     "text": [
      "test-code-executor\n",
      "test-code-executor\n"
     ]
    }
   ],
   "source": [
    "# kill and remove container\n",
    "!docker kill test-code-executor && docker rm test-code-executor"
   ]
  },
  {
   "cell_type": "code",
   "execution_count": 78,
   "id": "e42ff1bc-3cc8-4770-acc1-8887513df987",
   "metadata": {
    "tags": []
   },
   "outputs": [
    {
     "name": "stdout",
     "output_type": "stream",
     "text": [
      "test-code-executor\n"
     ]
    }
   ],
   "source": [
    "# remove container\n",
    "!docker rm test-code-executor"
   ]
  },
  {
   "cell_type": "code",
   "execution_count": 56,
   "id": "9bff3bbd-c65f-459e-977a-88cfed15b65c",
   "metadata": {
    "tags": []
   },
   "outputs": [
    {
     "name": "stdout",
     "output_type": "stream",
     "text": [
      "NAME                             DESCRIPTION                               DOCKER ENDPOINT                                      ERROR\n",
      "default                          Current DOCKER_HOST based configuration   unix:///var/run/docker.sock                          \n",
      "m5.large_i-029ae266049386ca1 *                                             tcp://ip-10-3-1-85.us-west-2.compute.internal:1111   \n"
     ]
    }
   ],
   "source": [
    "# list contexts to get docker host DNS\n",
    "!docker context ls"
   ]
  },
  {
   "cell_type": "markdown",
   "id": "94ed2c77-a961-4b59-9b5d-7f59254cc3d3",
   "metadata": {},
   "source": [
    "### Test container"
   ]
  },
  {
   "cell_type": "code",
   "execution_count": 166,
   "id": "ea128d83-29c3-4500-972c-3c4026dd1266",
   "metadata": {
    "tags": []
   },
   "outputs": [],
   "source": [
    "import boto3\n",
    "import base64\n",
    "\n",
    "class EncryptorClass:\n",
    "    def __init__(self, key_id):\n",
    "        self.kms_client = boto3.client(\"kms\")\n",
    "        self.key_id = key_id\n",
    "    def encrypt(self, text):\n",
    "        ret = self.kms_client.encrypt(\n",
    "            KeyId=self.key_id,\n",
    "            Plaintext=text\n",
    "        )\n",
    "        return base64.b64encode(ret[\"CiphertextBlob\"]).decode()\n",
    "    def decrypt(self, cipher_text_blob):\n",
    "        ret = self.kms_client.decrypt(\n",
    "            KeyId=self.key_id,\n",
    "            CiphertextBlob=base64.b64decode(cipher_text_blob)\n",
    "        )\n",
    "        return ret[\"Plaintext\"].decode()"
   ]
  },
  {
   "cell_type": "code",
   "execution_count": 167,
   "id": "bc5f9a51-ffef-40e3-a658-9996d169cfca",
   "metadata": {
    "tags": []
   },
   "outputs": [
    {
     "data": {
      "text/plain": [
       "'{\"output\":\"Hello ok\",\"error\":false}'"
      ]
     },
     "execution_count": 167,
     "metadata": {},
     "output_type": "execute_result"
    }
   ],
   "source": [
    "import requests\n",
    "import json\n",
    "\n",
    "cypher = EncryptorClass(\"alias/codenator-kms\")\n",
    "# IP from docker context when using Studio Docker CLI extension\n",
    "host_ip = \"ip-10-3-1-85.us-west-2.compute.internal\"\n",
    "port = 8080\n",
    "code = \"print(\\\"Hello ok\\\")\"\n",
    "code_blob = cypher.encrypt(code)\n",
    "data = {\n",
    "    \"code\": code_blob\n",
    "}\n",
    "url = f\"http://{host_ip}:{port}/execute_code\"\n",
    "requests.post(url=url, data=json.dumps(data)).text"
   ]
  },
  {
   "cell_type": "code",
   "execution_count": 156,
   "id": "cb5b5908-b4b5-4389-9ee5-17e08eb68c30",
   "metadata": {
    "tags": []
   },
   "outputs": [
    {
     "data": {
      "text/plain": [
       "b'\\x01\\x02\\x02\\x00x\\xf7\\x81\\xe76[\\xa9\\xc5\\xe0\\xa2A\\xde\\xe1Q\\xebm\\x194\\x8c\\xe93T\\xf8\\xdf\\x93a\\x97(@\\x1c\\x14\\xfcQ\\x01\\x92\\xd1\\xc7\\xc8]\\xef\\x81\\x11\\xff\\x07\\x0b@/p\\x81\\xce\\x00\\x00\\x00o0m\\x06\\t*\\x86H\\x86\\xf7\\r\\x01\\x07\\x06\\xa0`0^\\x02\\x01\\x000Y\\x06\\t*\\x86H\\x86\\xf7\\r\\x01\\x07\\x010\\x1e\\x06\\t`\\x86H\\x01e\\x03\\x04\\x01.0\\x11\\x04\\x0cU9\\xb5\\xea[\\xde\\xfd\\x1bM\\x81\\xf6l\\x02\\x01\\x10\\x80,\\x05Mti\\x01\\x03\\xda\\xb9\\xd2D\\xb6\\xaa\\x18\\xed\\xa81\\xcf\\x8c\\xc9\\xa9\\xae\\xb5r\\x04z@\\xa9\\xe7\\xb9V\\x9c\\xd3\\xd4\\x0f~\\xee\\xc5\\xde\\xf2\\x10\\xcf\\x9a\\xb3\\x1f'"
      ]
     },
     "execution_count": 156,
     "metadata": {},
     "output_type": "execute_result"
    }
   ],
   "source": [
    "base64.b64decode(code_blob)"
   ]
  },
  {
   "cell_type": "code",
   "execution_count": 157,
   "id": "bc5fdda6-07a1-408f-b1e3-5e89bfda2680",
   "metadata": {
    "tags": []
   },
   "outputs": [
    {
     "data": {
      "text/plain": [
       "'AQICAHj3gec2W6nF4KJB3uFR620ZNIzpM1T435NhlyhAHBT8UQGS0cfIXe+BEf8HC0AvcIHOAAAAbzBtBgkqhkiG9w0BBwagYDBeAgEAMFkGCSqGSIb3DQEHATAeBglghkgBZQMEAS4wEQQMVTm16lve/RtNgfZsAgEQgCwFTXRpAQPaudJEtqoY7agxz4zJqa61cgR6QKnnuVac09QPfu7F3vIQz5qzHw=='"
      ]
     },
     "execution_count": 157,
     "metadata": {},
     "output_type": "execute_result"
    }
   ],
   "source": [
    "code_blob"
   ]
  },
  {
   "cell_type": "code",
   "execution_count": 87,
   "id": "d41efae3-8b3d-4cc4-8eaf-8ef9cc7c6ef5",
   "metadata": {
    "tags": []
   },
   "outputs": [
    {
     "name": "stderr",
     "output_type": "stream",
     "text": [
      "  % Total    % Received % Xferd  Average Speed   Time    Time     Time  Current\n",
      "                                 Dload  Upload   Total   Spent    Left  Speed\n",
      "100    22  100    22    0     0   3498      0 --:--:-- --:--:-- --:--:--  3666\n"
     ]
    },
    {
     "name": "stdout",
     "output_type": "stream",
     "text": [
      "{\"Health_Check\":\"200\"}"
     ]
    }
   ],
   "source": [
    "%%bash -s $host_ip\n",
    "curl http://${1}:8080/ping"
   ]
  },
  {
   "cell_type": "code",
   "execution_count": 117,
   "id": "79345113-4a13-45f7-90b0-f166769e2a55",
   "metadata": {
    "tags": []
   },
   "outputs": [
    {
     "name": "stderr",
     "output_type": "stream",
     "text": [
      "  % Total    % Received % Xferd  Average Speed   Time    Time     Time  Current\n",
      "                                 Dload  Upload   Total   Spent    Left  Speed\n",
      "100  1020  100  1013  100     7   353k   2499 --:--:-- --:--:-- --:--:--  498k\n",
      "curl: (3) bad range specification in URL position 33:\n",
      "b\\x01\\x02\\x02\\x00x\\xf7\\x81\\xe76[\\xa9\\xc5\\xe0\\xa2A\\xde\\xe1Q\\xebm\\x194\\x8c\\xe93T\\xf8\\xdf\\x93a\\x97(@\\x1c\\x14\\xfcQ\\x01`\\xd6\\xd2\\x04\\x8b&\\x11B\\xf8T\\x12\\xe3\\xd8\\xaa\\x82\\xdc\\x00\\x00\\x00o0m\\x06\\t*\\x86H\\x86\\xf7\\r\\x01\\x07\\x06\\xa0`0^\\x02\\x01\\x000Y\\x06\\t*\\x86H\\x86\\xf7\\r\\x01\\x07\\x010\\x1e\\x06\\t`\\x86H\\x01e\\x03\\x04\\x01.0\\x11\\x04\\x0c\\xdaC\\x1b\\xeb\\t\\x89\\xacJ0\\xb3^\\xf4\\x02\\x01\\x10\\x80,\\xfc\\x98U\\xb3\\x8e\\xa2\\x82\\x98SpM\\x00\\xba\\xc2\\xc6\\xd8O\\xbeI\\x8dh\\xef\\x16\\x8bx)M\\x958\\n(\\x06\\x9fO\\r\\\n"
     ]
    },
    {
     "name": "stdout",
     "output_type": "stream",
     "text": [
      "{\"error\":\"An error occurred: Unterminated string starting at: line 1 column 1 (char 0)\",\"stacktrace\":\"Traceback (most recent call last):\\n  File \\\"/code/app/main.py\\\", line 43, in execute_code\\n    params = await request.json()\\n             ^^^^^^^^^^^^^^^^^^^^\\n  File \\\"/opt/conda/lib/python3.11/site-packages/starlette/requests.py\\\", line 244, in json\\n    self._json = json.loads(body)\\n                 ^^^^^^^^^^^^^^^^\\n  File \\\"/opt/conda/lib/python3.11/json/__init__.py\\\", line 346, in loads\\n    return _default_decoder.decode(s)\\n           ^^^^^^^^^^^^^^^^^^^^^^^^^^\\n  File \\\"/opt/conda/lib/python3.11/json/decoder.py\\\", line 337, in decode\\n    obj, end = self.raw_decode(s, idx=_w(s, 0).end())\\n               ^^^^^^^^^^^^^^^^^^^^^^^^^^^^^^^^^^^^^^\\n  File \\\"/opt/conda/lib/python3.11/json/decoder.py\\\", line 353, in raw_decode\\n    obj, end = self.scan_once(s, idx)\\n               ^^^^^^^^^^^^^^^^^^^^^^\\njson.decoder.JSONDecodeError: Unterminated string starting at: line 1 column 1 (char 0)\\n\"}"
     ]
    },
    {
     "ename": "CalledProcessError",
     "evalue": "Command 'b'curl http://${1}:8080/execute_code -X POST -d \\\\\"{\\'code\\': b\\'\\\\x01\\\\x02\\\\x02\\\\x00x\\\\xf7\\\\x81\\\\xe76[\\\\xa9\\\\xc5\\\\xe0\\\\xa2A\\\\xde\\\\xe1Q\\\\xebm\\\\x194\\\\x8c\\\\xe93T\\\\xf8\\\\xdf\\\\x93a\\\\x97(@\\\\x1c\\\\x14\\\\xfcQ\\\\x01`\\\\xd6\\\\xd2\\\\x04\\\\x8b&\\\\x11B\\\\xf8T\\\\x12\\\\xe3\\\\xd8\\\\xaa\\\\x82\\\\xdc\\\\x00\\\\x00\\\\x00o0m\\\\x06\\\\t*\\\\x86H\\\\x86\\\\xf7\\\\r\\\\x01\\\\x07\\\\x06\\\\xa0`0^\\\\x02\\\\x01\\\\x000Y\\\\x06\\\\t*\\\\x86H\\\\x86\\\\xf7\\\\r\\\\x01\\\\x07\\\\x010\\\\x1e\\\\x06\\\\t`\\\\x86H\\\\x01e\\\\x03\\\\x04\\\\x01.0\\\\x11\\\\x04\\\\x0c\\\\xdaC\\\\x1b\\\\xeb\\\\t\\\\x89\\\\xacJ0\\\\xb3^\\\\xf4\\\\x02\\\\x01\\\\x10\\\\x80,\\\\xfc\\\\x98U\\\\xb3\\\\x8e\\\\xa2\\\\x82\\\\x98SpM\\\\x00\\\\xba\\\\xc2\\\\xc6\\\\xd8O\\\\xbeI\\\\x8dh\\\\xef\\\\x16\\\\x8bx)M\\\\x958\\\\n(\\\\x06\\\\x9fO\\\\r\\\\xc2\\\\xd3gp\\\\xea44\\\\xf1\\\\xe9\\'}\\\\\"\\n'' returned non-zero exit status 3.",
     "output_type": "error",
     "traceback": [
      "\u001b[0;31m---------------------------------------------------------------------------\u001b[0m",
      "\u001b[0;31mCalledProcessError\u001b[0m                        Traceback (most recent call last)",
      "Cell \u001b[0;32mIn[117], line 1\u001b[0m\n\u001b[0;32m----> 1\u001b[0m \u001b[43mget_ipython\u001b[49m\u001b[43m(\u001b[49m\u001b[43m)\u001b[49m\u001b[38;5;241;43m.\u001b[39;49m\u001b[43mrun_cell_magic\u001b[49m\u001b[43m(\u001b[49m\u001b[38;5;124;43m'\u001b[39;49m\u001b[38;5;124;43mbash\u001b[39;49m\u001b[38;5;124;43m'\u001b[39;49m\u001b[43m,\u001b[49m\u001b[43m \u001b[49m\u001b[38;5;124;43m'\u001b[39;49m\u001b[38;5;124;43m-s $host_ip\u001b[39;49m\u001b[38;5;124;43m'\u001b[39;49m\u001b[43m,\u001b[49m\u001b[43m \u001b[49m\u001b[38;5;124;43m'\u001b[39;49m\u001b[38;5;124;43mcurl http://$\u001b[39;49m\u001b[38;5;132;43;01m{1}\u001b[39;49;00m\u001b[38;5;124;43m:8080/execute_code -X POST -d \u001b[39;49m\u001b[38;5;130;43;01m\\\\\u001b[39;49;00m\u001b[38;5;124;43m\"\u001b[39;49m\u001b[38;5;124;43m{\u001b[39;49m\u001b[38;5;130;43;01m\\'\u001b[39;49;00m\u001b[38;5;124;43mcode\u001b[39;49m\u001b[38;5;130;43;01m\\'\u001b[39;49;00m\u001b[38;5;124;43m: b\u001b[39;49m\u001b[38;5;130;43;01m\\'\u001b[39;49;00m\u001b[38;5;130;43;01m\\\\\u001b[39;49;00m\u001b[38;5;124;43mx01\u001b[39;49m\u001b[38;5;130;43;01m\\\\\u001b[39;49;00m\u001b[38;5;124;43mx02\u001b[39;49m\u001b[38;5;130;43;01m\\\\\u001b[39;49;00m\u001b[38;5;124;43mx02\u001b[39;49m\u001b[38;5;130;43;01m\\\\\u001b[39;49;00m\u001b[38;5;124;43mx00x\u001b[39;49m\u001b[38;5;130;43;01m\\\\\u001b[39;49;00m\u001b[38;5;124;43mxf7\u001b[39;49m\u001b[38;5;130;43;01m\\\\\u001b[39;49;00m\u001b[38;5;124;43mx81\u001b[39;49m\u001b[38;5;130;43;01m\\\\\u001b[39;49;00m\u001b[38;5;124;43mxe76[\u001b[39;49m\u001b[38;5;130;43;01m\\\\\u001b[39;49;00m\u001b[38;5;124;43mxa9\u001b[39;49m\u001b[38;5;130;43;01m\\\\\u001b[39;49;00m\u001b[38;5;124;43mxc5\u001b[39;49m\u001b[38;5;130;43;01m\\\\\u001b[39;49;00m\u001b[38;5;124;43mxe0\u001b[39;49m\u001b[38;5;130;43;01m\\\\\u001b[39;49;00m\u001b[38;5;124;43mxa2A\u001b[39;49m\u001b[38;5;130;43;01m\\\\\u001b[39;49;00m\u001b[38;5;124;43mxde\u001b[39;49m\u001b[38;5;130;43;01m\\\\\u001b[39;49;00m\u001b[38;5;124;43mxe1Q\u001b[39;49m\u001b[38;5;130;43;01m\\\\\u001b[39;49;00m\u001b[38;5;124;43mxebm\u001b[39;49m\u001b[38;5;130;43;01m\\\\\u001b[39;49;00m\u001b[38;5;124;43mx194\u001b[39;49m\u001b[38;5;130;43;01m\\\\\u001b[39;49;00m\u001b[38;5;124;43mx8c\u001b[39;49m\u001b[38;5;130;43;01m\\\\\u001b[39;49;00m\u001b[38;5;124;43mxe93T\u001b[39;49m\u001b[38;5;130;43;01m\\\\\u001b[39;49;00m\u001b[38;5;124;43mxf8\u001b[39;49m\u001b[38;5;130;43;01m\\\\\u001b[39;49;00m\u001b[38;5;124;43mxdf\u001b[39;49m\u001b[38;5;130;43;01m\\\\\u001b[39;49;00m\u001b[38;5;124;43mx93a\u001b[39;49m\u001b[38;5;130;43;01m\\\\\u001b[39;49;00m\u001b[38;5;124;43mx97(@\u001b[39;49m\u001b[38;5;130;43;01m\\\\\u001b[39;49;00m\u001b[38;5;124;43mx1c\u001b[39;49m\u001b[38;5;130;43;01m\\\\\u001b[39;49;00m\u001b[38;5;124;43mx14\u001b[39;49m\u001b[38;5;130;43;01m\\\\\u001b[39;49;00m\u001b[38;5;124;43mxfcQ\u001b[39;49m\u001b[38;5;130;43;01m\\\\\u001b[39;49;00m\u001b[38;5;124;43mx01`\u001b[39;49m\u001b[38;5;130;43;01m\\\\\u001b[39;49;00m\u001b[38;5;124;43mxd6\u001b[39;49m\u001b[38;5;130;43;01m\\\\\u001b[39;49;00m\u001b[38;5;124;43mxd2\u001b[39;49m\u001b[38;5;130;43;01m\\\\\u001b[39;49;00m\u001b[38;5;124;43mx04\u001b[39;49m\u001b[38;5;130;43;01m\\\\\u001b[39;49;00m\u001b[38;5;124;43mx8b&\u001b[39;49m\u001b[38;5;130;43;01m\\\\\u001b[39;49;00m\u001b[38;5;124;43mx11B\u001b[39;49m\u001b[38;5;130;43;01m\\\\\u001b[39;49;00m\u001b[38;5;124;43mxf8T\u001b[39;49m\u001b[38;5;130;43;01m\\\\\u001b[39;49;00m\u001b[38;5;124;43mx12\u001b[39;49m\u001b[38;5;130;43;01m\\\\\u001b[39;49;00m\u001b[38;5;124;43mxe3\u001b[39;49m\u001b[38;5;130;43;01m\\\\\u001b[39;49;00m\u001b[38;5;124;43mxd8\u001b[39;49m\u001b[38;5;130;43;01m\\\\\u001b[39;49;00m\u001b[38;5;124;43mxaa\u001b[39;49m\u001b[38;5;130;43;01m\\\\\u001b[39;49;00m\u001b[38;5;124;43mx82\u001b[39;49m\u001b[38;5;130;43;01m\\\\\u001b[39;49;00m\u001b[38;5;124;43mxdc\u001b[39;49m\u001b[38;5;130;43;01m\\\\\u001b[39;49;00m\u001b[38;5;124;43mx00\u001b[39;49m\u001b[38;5;130;43;01m\\\\\u001b[39;49;00m\u001b[38;5;124;43mx00\u001b[39;49m\u001b[38;5;130;43;01m\\\\\u001b[39;49;00m\u001b[38;5;124;43mx00o0m\u001b[39;49m\u001b[38;5;130;43;01m\\\\\u001b[39;49;00m\u001b[38;5;124;43mx06\u001b[39;49m\u001b[38;5;130;43;01m\\\\\u001b[39;49;00m\u001b[38;5;124;43mt*\u001b[39;49m\u001b[38;5;130;43;01m\\\\\u001b[39;49;00m\u001b[38;5;124;43mx86H\u001b[39;49m\u001b[38;5;130;43;01m\\\\\u001b[39;49;00m\u001b[38;5;124;43mx86\u001b[39;49m\u001b[38;5;130;43;01m\\\\\u001b[39;49;00m\u001b[38;5;124;43mxf7\u001b[39;49m\u001b[38;5;130;43;01m\\\\\u001b[39;49;00m\u001b[38;5;124;43mr\u001b[39;49m\u001b[38;5;130;43;01m\\\\\u001b[39;49;00m\u001b[38;5;124;43mx01\u001b[39;49m\u001b[38;5;130;43;01m\\\\\u001b[39;49;00m\u001b[38;5;124;43mx07\u001b[39;49m\u001b[38;5;130;43;01m\\\\\u001b[39;49;00m\u001b[38;5;124;43mx06\u001b[39;49m\u001b[38;5;130;43;01m\\\\\u001b[39;49;00m\u001b[38;5;124;43mxa0`0^\u001b[39;49m\u001b[38;5;130;43;01m\\\\\u001b[39;49;00m\u001b[38;5;124;43mx02\u001b[39;49m\u001b[38;5;130;43;01m\\\\\u001b[39;49;00m\u001b[38;5;124;43mx01\u001b[39;49m\u001b[38;5;130;43;01m\\\\\u001b[39;49;00m\u001b[38;5;124;43mx000Y\u001b[39;49m\u001b[38;5;130;43;01m\\\\\u001b[39;49;00m\u001b[38;5;124;43mx06\u001b[39;49m\u001b[38;5;130;43;01m\\\\\u001b[39;49;00m\u001b[38;5;124;43mt*\u001b[39;49m\u001b[38;5;130;43;01m\\\\\u001b[39;49;00m\u001b[38;5;124;43mx86H\u001b[39;49m\u001b[38;5;130;43;01m\\\\\u001b[39;49;00m\u001b[38;5;124;43mx86\u001b[39;49m\u001b[38;5;130;43;01m\\\\\u001b[39;49;00m\u001b[38;5;124;43mxf7\u001b[39;49m\u001b[38;5;130;43;01m\\\\\u001b[39;49;00m\u001b[38;5;124;43mr\u001b[39;49m\u001b[38;5;130;43;01m\\\\\u001b[39;49;00m\u001b[38;5;124;43mx01\u001b[39;49m\u001b[38;5;130;43;01m\\\\\u001b[39;49;00m\u001b[38;5;124;43mx07\u001b[39;49m\u001b[38;5;130;43;01m\\\\\u001b[39;49;00m\u001b[38;5;124;43mx010\u001b[39;49m\u001b[38;5;130;43;01m\\\\\u001b[39;49;00m\u001b[38;5;124;43mx1e\u001b[39;49m\u001b[38;5;130;43;01m\\\\\u001b[39;49;00m\u001b[38;5;124;43mx06\u001b[39;49m\u001b[38;5;130;43;01m\\\\\u001b[39;49;00m\u001b[38;5;124;43mt`\u001b[39;49m\u001b[38;5;130;43;01m\\\\\u001b[39;49;00m\u001b[38;5;124;43mx86H\u001b[39;49m\u001b[38;5;130;43;01m\\\\\u001b[39;49;00m\u001b[38;5;124;43mx01e\u001b[39;49m\u001b[38;5;130;43;01m\\\\\u001b[39;49;00m\u001b[38;5;124;43mx03\u001b[39;49m\u001b[38;5;130;43;01m\\\\\u001b[39;49;00m\u001b[38;5;124;43mx04\u001b[39;49m\u001b[38;5;130;43;01m\\\\\u001b[39;49;00m\u001b[38;5;124;43mx01.0\u001b[39;49m\u001b[38;5;130;43;01m\\\\\u001b[39;49;00m\u001b[38;5;124;43mx11\u001b[39;49m\u001b[38;5;130;43;01m\\\\\u001b[39;49;00m\u001b[38;5;124;43mx04\u001b[39;49m\u001b[38;5;130;43;01m\\\\\u001b[39;49;00m\u001b[38;5;124;43mx0c\u001b[39;49m\u001b[38;5;130;43;01m\\\\\u001b[39;49;00m\u001b[38;5;124;43mxdaC\u001b[39;49m\u001b[38;5;130;43;01m\\\\\u001b[39;49;00m\u001b[38;5;124;43mx1b\u001b[39;49m\u001b[38;5;130;43;01m\\\\\u001b[39;49;00m\u001b[38;5;124;43mxeb\u001b[39;49m\u001b[38;5;130;43;01m\\\\\u001b[39;49;00m\u001b[38;5;124;43mt\u001b[39;49m\u001b[38;5;130;43;01m\\\\\u001b[39;49;00m\u001b[38;5;124;43mx89\u001b[39;49m\u001b[38;5;130;43;01m\\\\\u001b[39;49;00m\u001b[38;5;124;43mxacJ0\u001b[39;49m\u001b[38;5;130;43;01m\\\\\u001b[39;49;00m\u001b[38;5;124;43mxb3^\u001b[39;49m\u001b[38;5;130;43;01m\\\\\u001b[39;49;00m\u001b[38;5;124;43mxf4\u001b[39;49m\u001b[38;5;130;43;01m\\\\\u001b[39;49;00m\u001b[38;5;124;43mx02\u001b[39;49m\u001b[38;5;130;43;01m\\\\\u001b[39;49;00m\u001b[38;5;124;43mx01\u001b[39;49m\u001b[38;5;130;43;01m\\\\\u001b[39;49;00m\u001b[38;5;124;43mx10\u001b[39;49m\u001b[38;5;130;43;01m\\\\\u001b[39;49;00m\u001b[38;5;124;43mx80,\u001b[39;49m\u001b[38;5;130;43;01m\\\\\u001b[39;49;00m\u001b[38;5;124;43mxfc\u001b[39;49m\u001b[38;5;130;43;01m\\\\\u001b[39;49;00m\u001b[38;5;124;43mx98U\u001b[39;49m\u001b[38;5;130;43;01m\\\\\u001b[39;49;00m\u001b[38;5;124;43mxb3\u001b[39;49m\u001b[38;5;130;43;01m\\\\\u001b[39;49;00m\u001b[38;5;124;43mx8e\u001b[39;49m\u001b[38;5;130;43;01m\\\\\u001b[39;49;00m\u001b[38;5;124;43mxa2\u001b[39;49m\u001b[38;5;130;43;01m\\\\\u001b[39;49;00m\u001b[38;5;124;43mx82\u001b[39;49m\u001b[38;5;130;43;01m\\\\\u001b[39;49;00m\u001b[38;5;124;43mx98SpM\u001b[39;49m\u001b[38;5;130;43;01m\\\\\u001b[39;49;00m\u001b[38;5;124;43mx00\u001b[39;49m\u001b[38;5;130;43;01m\\\\\u001b[39;49;00m\u001b[38;5;124;43mxba\u001b[39;49m\u001b[38;5;130;43;01m\\\\\u001b[39;49;00m\u001b[38;5;124;43mxc2\u001b[39;49m\u001b[38;5;130;43;01m\\\\\u001b[39;49;00m\u001b[38;5;124;43mxc6\u001b[39;49m\u001b[38;5;130;43;01m\\\\\u001b[39;49;00m\u001b[38;5;124;43mxd8O\u001b[39;49m\u001b[38;5;130;43;01m\\\\\u001b[39;49;00m\u001b[38;5;124;43mxbeI\u001b[39;49m\u001b[38;5;130;43;01m\\\\\u001b[39;49;00m\u001b[38;5;124;43mx8dh\u001b[39;49m\u001b[38;5;130;43;01m\\\\\u001b[39;49;00m\u001b[38;5;124;43mxef\u001b[39;49m\u001b[38;5;130;43;01m\\\\\u001b[39;49;00m\u001b[38;5;124;43mx16\u001b[39;49m\u001b[38;5;130;43;01m\\\\\u001b[39;49;00m\u001b[38;5;124;43mx8bx)M\u001b[39;49m\u001b[38;5;130;43;01m\\\\\u001b[39;49;00m\u001b[38;5;124;43mx958\u001b[39;49m\u001b[38;5;130;43;01m\\\\\u001b[39;49;00m\u001b[38;5;124;43mn(\u001b[39;49m\u001b[38;5;130;43;01m\\\\\u001b[39;49;00m\u001b[38;5;124;43mx06\u001b[39;49m\u001b[38;5;130;43;01m\\\\\u001b[39;49;00m\u001b[38;5;124;43mx9fO\u001b[39;49m\u001b[38;5;130;43;01m\\\\\u001b[39;49;00m\u001b[38;5;124;43mr\u001b[39;49m\u001b[38;5;130;43;01m\\\\\u001b[39;49;00m\u001b[38;5;124;43mxc2\u001b[39;49m\u001b[38;5;130;43;01m\\\\\u001b[39;49;00m\u001b[38;5;124;43mxd3gp\u001b[39;49m\u001b[38;5;130;43;01m\\\\\u001b[39;49;00m\u001b[38;5;124;43mxea44\u001b[39;49m\u001b[38;5;130;43;01m\\\\\u001b[39;49;00m\u001b[38;5;124;43mxf1\u001b[39;49m\u001b[38;5;130;43;01m\\\\\u001b[39;49;00m\u001b[38;5;124;43mxe9\u001b[39;49m\u001b[38;5;130;43;01m\\'\u001b[39;49;00m\u001b[38;5;124;43m}\u001b[39;49m\u001b[38;5;130;43;01m\\\\\u001b[39;49;00m\u001b[38;5;124;43m\"\u001b[39;49m\u001b[38;5;130;43;01m\\n\u001b[39;49;00m\u001b[38;5;124;43m'\u001b[39;49m\u001b[43m)\u001b[49m\n",
      "File \u001b[0;32m/opt/conda/lib/python3.10/site-packages/IPython/core/interactiveshell.py:2493\u001b[0m, in \u001b[0;36mInteractiveShell.run_cell_magic\u001b[0;34m(self, magic_name, line, cell)\u001b[0m\n\u001b[1;32m   2491\u001b[0m \u001b[38;5;28;01mwith\u001b[39;00m \u001b[38;5;28mself\u001b[39m\u001b[38;5;241m.\u001b[39mbuiltin_trap:\n\u001b[1;32m   2492\u001b[0m     args \u001b[38;5;241m=\u001b[39m (magic_arg_s, cell)\n\u001b[0;32m-> 2493\u001b[0m     result \u001b[38;5;241m=\u001b[39m \u001b[43mfn\u001b[49m\u001b[43m(\u001b[49m\u001b[38;5;241;43m*\u001b[39;49m\u001b[43margs\u001b[49m\u001b[43m,\u001b[49m\u001b[43m \u001b[49m\u001b[38;5;241;43m*\u001b[39;49m\u001b[38;5;241;43m*\u001b[39;49m\u001b[43mkwargs\u001b[49m\u001b[43m)\u001b[49m\n\u001b[1;32m   2495\u001b[0m \u001b[38;5;66;03m# The code below prevents the output from being displayed\u001b[39;00m\n\u001b[1;32m   2496\u001b[0m \u001b[38;5;66;03m# when using magics with decorator @output_can_be_silenced\u001b[39;00m\n\u001b[1;32m   2497\u001b[0m \u001b[38;5;66;03m# when the last Python token in the expression is a ';'.\u001b[39;00m\n\u001b[1;32m   2498\u001b[0m \u001b[38;5;28;01mif\u001b[39;00m \u001b[38;5;28mgetattr\u001b[39m(fn, magic\u001b[38;5;241m.\u001b[39mMAGIC_OUTPUT_CAN_BE_SILENCED, \u001b[38;5;28;01mFalse\u001b[39;00m):\n",
      "File \u001b[0;32m/opt/conda/lib/python3.10/site-packages/IPython/core/magics/script.py:154\u001b[0m, in \u001b[0;36mScriptMagics._make_script_magic.<locals>.named_script_magic\u001b[0;34m(line, cell)\u001b[0m\n\u001b[1;32m    152\u001b[0m \u001b[38;5;28;01melse\u001b[39;00m:\n\u001b[1;32m    153\u001b[0m     line \u001b[38;5;241m=\u001b[39m script\n\u001b[0;32m--> 154\u001b[0m \u001b[38;5;28;01mreturn\u001b[39;00m \u001b[38;5;28;43mself\u001b[39;49m\u001b[38;5;241;43m.\u001b[39;49m\u001b[43mshebang\u001b[49m\u001b[43m(\u001b[49m\u001b[43mline\u001b[49m\u001b[43m,\u001b[49m\u001b[43m \u001b[49m\u001b[43mcell\u001b[49m\u001b[43m)\u001b[49m\n",
      "File \u001b[0;32m/opt/conda/lib/python3.10/site-packages/IPython/core/magics/script.py:314\u001b[0m, in \u001b[0;36mScriptMagics.shebang\u001b[0;34m(self, line, cell)\u001b[0m\n\u001b[1;32m    309\u001b[0m \u001b[38;5;28;01mif\u001b[39;00m args\u001b[38;5;241m.\u001b[39mraise_error \u001b[38;5;129;01mand\u001b[39;00m p\u001b[38;5;241m.\u001b[39mreturncode \u001b[38;5;241m!=\u001b[39m \u001b[38;5;241m0\u001b[39m:\n\u001b[1;32m    310\u001b[0m     \u001b[38;5;66;03m# If we get here and p.returncode is still None, we must have\u001b[39;00m\n\u001b[1;32m    311\u001b[0m     \u001b[38;5;66;03m# killed it but not yet seen its return code. We don't wait for it,\u001b[39;00m\n\u001b[1;32m    312\u001b[0m     \u001b[38;5;66;03m# in case it's stuck in uninterruptible sleep. -9 = SIGKILL\u001b[39;00m\n\u001b[1;32m    313\u001b[0m     rc \u001b[38;5;241m=\u001b[39m p\u001b[38;5;241m.\u001b[39mreturncode \u001b[38;5;129;01mor\u001b[39;00m \u001b[38;5;241m-\u001b[39m\u001b[38;5;241m9\u001b[39m\n\u001b[0;32m--> 314\u001b[0m     \u001b[38;5;28;01mraise\u001b[39;00m CalledProcessError(rc, cell)\n",
      "\u001b[0;31mCalledProcessError\u001b[0m: Command 'b'curl http://${1}:8080/execute_code -X POST -d \\\\\"{\\'code\\': b\\'\\\\x01\\\\x02\\\\x02\\\\x00x\\\\xf7\\\\x81\\\\xe76[\\\\xa9\\\\xc5\\\\xe0\\\\xa2A\\\\xde\\\\xe1Q\\\\xebm\\\\x194\\\\x8c\\\\xe93T\\\\xf8\\\\xdf\\\\x93a\\\\x97(@\\\\x1c\\\\x14\\\\xfcQ\\\\x01`\\\\xd6\\\\xd2\\\\x04\\\\x8b&\\\\x11B\\\\xf8T\\\\x12\\\\xe3\\\\xd8\\\\xaa\\\\x82\\\\xdc\\\\x00\\\\x00\\\\x00o0m\\\\x06\\\\t*\\\\x86H\\\\x86\\\\xf7\\\\r\\\\x01\\\\x07\\\\x06\\\\xa0`0^\\\\x02\\\\x01\\\\x000Y\\\\x06\\\\t*\\\\x86H\\\\x86\\\\xf7\\\\r\\\\x01\\\\x07\\\\x010\\\\x1e\\\\x06\\\\t`\\\\x86H\\\\x01e\\\\x03\\\\x04\\\\x01.0\\\\x11\\\\x04\\\\x0c\\\\xdaC\\\\x1b\\\\xeb\\\\t\\\\x89\\\\xacJ0\\\\xb3^\\\\xf4\\\\x02\\\\x01\\\\x10\\\\x80,\\\\xfc\\\\x98U\\\\xb3\\\\x8e\\\\xa2\\\\x82\\\\x98SpM\\\\x00\\\\xba\\\\xc2\\\\xc6\\\\xd8O\\\\xbeI\\\\x8dh\\\\xef\\\\x16\\\\x8bx)M\\\\x958\\\\n(\\\\x06\\\\x9fO\\\\r\\\\xc2\\\\xd3gp\\\\xea44\\\\xf1\\\\xe9\\'}\\\\\"\\n'' returned non-zero exit status 3."
     ]
    }
   ],
   "source": [
    "%%bash -s $host_ip\n",
    "curl http://${1}:8080/execute_code -X POST -d \\\"{'code': b'\\x01\\x02\\x02\\x00x\\xf7\\x81\\xe76[\\xa9\\xc5\\xe0\\xa2A\\xde\\xe1Q\\xebm\\x194\\x8c\\xe93T\\xf8\\xdf\\x93a\\x97(@\\x1c\\x14\\xfcQ\\x01`\\xd6\\xd2\\x04\\x8b&\\x11B\\xf8T\\x12\\xe3\\xd8\\xaa\\x82\\xdc\\x00\\x00\\x00o0m\\x06\\t*\\x86H\\x86\\xf7\\r\\x01\\x07\\x06\\xa0`0^\\x02\\x01\\x000Y\\x06\\t*\\x86H\\x86\\xf7\\r\\x01\\x07\\x010\\x1e\\x06\\t`\\x86H\\x01e\\x03\\x04\\x01.0\\x11\\x04\\x0c\\xdaC\\x1b\\xeb\\t\\x89\\xacJ0\\xb3^\\xf4\\x02\\x01\\x10\\x80,\\xfc\\x98U\\xb3\\x8e\\xa2\\x82\\x98SpM\\x00\\xba\\xc2\\xc6\\xd8O\\xbeI\\x8dh\\xef\\x16\\x8bx)M\\x958\\n(\\x06\\x9fO\\r\\xc2\\xd3gp\\xea44\\xf1\\xe9'}\\\""
   ]
  },
  {
   "cell_type": "code",
   "execution_count": 59,
   "id": "61b2136b-c163-4072-a81e-984bc681c96f",
   "metadata": {
    "tags": []
   },
   "outputs": [
    {
     "ename": "SyntaxError",
     "evalue": "invalid syntax (3883501092.py, line 3)",
     "output_type": "error",
     "traceback": [
      "\u001b[0;36m  Cell \u001b[0;32mIn[59], line 3\u001b[0;36m\u001b[0m\n\u001b[0;31m    curl ${1}:8080/execute_code -X POST -d '{\"code\": \"print(\\\"Hello ok)\"}'\u001b[0m\n\u001b[0m         ^\u001b[0m\n\u001b[0;31mSyntaxError\u001b[0m\u001b[0;31m:\u001b[0m invalid syntax\n"
     ]
    }
   ],
   "source": [
    "# Test broken code execution\n",
    "%%bash -s $host_ip\n",
    "curl ${1}:8080/execute_code -X POST -d '{\"code\": \"print(\\\"Hello ok)\"}'"
   ]
  },
  {
   "cell_type": "code",
   "execution_count": 60,
   "id": "f1075e59-c8e3-43f8-9f42-f3a0ccc07fde",
   "metadata": {
    "tags": []
   },
   "outputs": [
    {
     "ename": "SyntaxError",
     "evalue": "invalid syntax (3587098348.py, line 3)",
     "output_type": "error",
     "traceback": [
      "\u001b[0;36m  Cell \u001b[0;32mIn[60], line 3\u001b[0;36m\u001b[0m\n\u001b[0;31m    curl -X POST ${1}:8080/execute_code -d '{\"code\": \"print(\\\"Hello ok\\\")\", \"timeout\": 10}'\u001b[0m\n\u001b[0m            ^\u001b[0m\n\u001b[0;31mSyntaxError\u001b[0m\u001b[0;31m:\u001b[0m invalid syntax\n"
     ]
    }
   ],
   "source": [
    "# test working code execution\n",
    "%%bash -s $host_ip\n",
    "curl -X POST ${1}:8080/execute_code -d '{\"code\": \"print(\\\"Hello ok\\\")\", \"timeout\": 10}'"
   ]
  },
  {
   "cell_type": "code",
   "execution_count": 8,
   "id": "8a9acb37-ef59-4d3b-a309-839ca7de91ee",
   "metadata": {
    "tags": []
   },
   "outputs": [
    {
     "name": "stderr",
     "output_type": "stream",
     "text": [
      "  % Total    % Received % Xferd  Average Speed   Time    Time     Time  Current\n",
      "                                 Dload  Upload   Total   Spent    Left  Speed\n",
      "100    58  100    27  100    31   3287   3774 --:--:-- --:--:-- --:--:--  7250\n"
     ]
    },
    {
     "name": "stdout",
     "output_type": "stream",
     "text": [
      "{\"output\":\"\",\"error\":false}"
     ]
    }
   ],
   "source": [
    "# test variable persistance\n",
    "%%bash -s $host_ip\n",
    "curl -X POST ${1}:8080/execute_code -d '{\"code\": \"a=10\", \"timeout\": 10}'"
   ]
  },
  {
   "cell_type": "code",
   "execution_count": 9,
   "id": "9a7c6cd1-f454-45b2-b0ad-9af32c5a691e",
   "metadata": {
    "tags": []
   },
   "outputs": [
    {
     "name": "stderr",
     "output_type": "stream",
     "text": [
      "  % Total    % Received % Xferd  Average Speed   Time    Time     Time  Current\n",
      "                                 Dload  Upload   Total   Spent    Left  Speed\n",
      "100    64  100    29  100    35   3200   3862 --:--:-- --:--:-- --:--:--  8000\n"
     ]
    },
    {
     "name": "stdout",
     "output_type": "stream",
     "text": [
      "{\"output\":\"10\",\"error\":false}"
     ]
    }
   ],
   "source": [
    "# test variable persistance\n",
    "%%bash -s $host_ip\n",
    "curl -X POST ${1}:8080/execute_code -d '{\"code\": \"print(a)\", \"timeout\": 10}'"
   ]
  },
  {
   "cell_type": "code",
   "execution_count": 10,
   "id": "862aec25-5532-45be-a9c2-e416deb8dfba",
   "metadata": {
    "tags": []
   },
   "outputs": [
    {
     "name": "stderr",
     "output_type": "stream",
     "text": [
      "  % Total    % Received % Xferd  Average Speed   Time    Time     Time  Current\n",
      "                                 Dload  Upload   Total   Spent    Left  Speed\n",
      "100   114  100    47  100    67    375    534 --:--:-- --:--:-- --:--:--   912\n"
     ]
    },
    {
     "name": "stdout",
     "output_type": "stream",
     "text": [
      "{\"output\":\"Kernel ir restarted!\",\"error\":false}"
     ]
    }
   ],
   "source": [
    "# test restart kernel\n",
    "%%bash -s $host_ip\n",
    "curl -X POST ${1}:8080/restart_kernel -d '{\"code\": \"print(\\\"Hello ok\\\")\", \"timeout\": 10, \"kernel_name\": \"ir\"}'"
   ]
  },
  {
   "cell_type": "code",
   "execution_count": 11,
   "id": "2a2f4194-1773-4866-85dd-0aa28bd10caa",
   "metadata": {
    "tags": []
   },
   "outputs": [
    {
     "name": "stderr",
     "output_type": "stream",
     "text": [
      "  % Total    % Received % Xferd  Average Speed   Time    Time     Time  Current\n",
      "                                 Dload  Upload   Total   Spent    Left  Speed\n",
      "100   349  100   349    0     0  37934      0 --:--:-- --:--:-- --:--:-- 43625\n"
     ]
    },
    {
     "name": "stdout",
     "output_type": "stream",
     "text": [
      "{\"python3\":{\"display_name\":\"Python 3 (ipykernel)\",\"language\":\"python\"},\"ir\":{\"display_name\":\"R\",\"language\":\"R\"},\"julia-1.9\":{\"display_name\":\"Julia 1.9.3\",\"language\":\"julia\"},\"javascript\":{\"display_name\":\"JavaScript (Node.js)\",\"language\":\"javascript\"},\"bash\":{\"display_name\":\"Bash\",\"language\":\"bash\"},\"java\":{\"display_name\":\"Java\",\"language\":\"java\"}}"
     ]
    }
   ],
   "source": [
    "# test listing kernel specs\n",
    "%%bash -s $host_ip\n",
    "curl ${1}:8080/list_kernel_specs"
   ]
  },
  {
   "cell_type": "code",
   "execution_count": 41,
   "id": "2f825128-26e0-4748-9c95-5dfc1607b56a",
   "metadata": {
    "tags": []
   },
   "outputs": [],
   "source": [
    "# test java code\n",
    "java_code = '\\npublic class Main {\\n  public static void main(String[] args) {\\n    System.out.println(\\\"Hello World!\\\");  \\n  }\\n}\\n'"
   ]
  },
  {
   "cell_type": "code",
   "execution_count": 42,
   "id": "4d3d045a-49e3-46e8-adbb-16f8fa1203d6",
   "metadata": {
    "tags": []
   },
   "outputs": [
    {
     "name": "stdout",
     "output_type": "stream",
     "text": [
      "{'code': '\\npublic class Main {\\n  public static void main(String[] args) {\\n    System.out.println(\"Hello World!\");  \\n  }\\n}\\n', 'timeout': 10, 'kernel_name': 'java'}\n"
     ]
    },
    {
     "data": {
      "text/plain": [
       "'{\"output\":\"\",\"error\":false}'"
      ]
     },
     "execution_count": 42,
     "metadata": {},
     "output_type": "execute_result"
    }
   ],
   "source": [
    "import requests\n",
    "import json\n",
    "data = {\"code\": java_code, \"timeout\": 10, \"kernel_name\": \"java\"}\n",
    "print(data)\n",
    "requests.post(f\"http://{host_ip}:8080/execute_code\", data=json.dumps(data)).text"
   ]
  },
  {
   "cell_type": "code",
   "execution_count": 43,
   "id": "834a9ee2-d265-4f08-914a-5b899d8c9fd8",
   "metadata": {
    "tags": []
   },
   "outputs": [
    {
     "name": "stdout",
     "output_type": "stream",
     "text": [
      "{'code': 'Main.main(new String[] {\"\"})', 'timeout': 10, 'kernel_name': 'java'}\n"
     ]
    },
    {
     "data": {
      "text/plain": [
       "'{\"output\":\"Hello World!\",\"error\":false}'"
      ]
     },
     "execution_count": 43,
     "metadata": {},
     "output_type": "execute_result"
    }
   ],
   "source": [
    "import requests\n",
    "import json\n",
    "data = {\"code\": \"Main.main(new String[] {\\\"\\\"})\", \"timeout\": 10, \"kernel_name\": \"java\"}\n",
    "print(data)\n",
    "requests.post(f\"http://{host_ip}:8080/execute_code\", data=json.dumps(data)).text"
   ]
  },
  {
   "cell_type": "code",
   "execution_count": 21,
   "id": "66f331dd-8847-4c1f-9e0f-539b60504776",
   "metadata": {
    "tags": []
   },
   "outputs": [
    {
     "name": "stdout",
     "output_type": "stream",
     "text": [
      "public\n",
      "{\"code\": \"public\", \"timeout\": 10, \"kernel_name\": \"java\"}\n"
     ]
    },
    {
     "name": "stderr",
     "output_type": "stream",
     "text": [
      "  % Total    % Received % Xferd  Average Speed   Time    Time     Time  Current\n",
      "                                 Dload  Upload   Total   Spent    Left  Speed\n",
      "100    29  100    21  100     8   5312   2023 --:--:-- --:--:-- --:--:--  9666\n",
      "  % Total    % Received % Xferd  Average Speed   Time    Time     Time  Current\n",
      "                                 Dload  Upload   Total   Spent    Left  Speed\n",
      "  0     0    0     0    0     0      0      0 --:--:-- --:--:-- --:--:--     0curl: (6) Could not resolve host: \"public\",\n",
      "curl: (3) URL using bad/illegal format or missing URL\n",
      "  % Total    % Received % Xferd  Average Speed   Time    Time     Time  Current\n",
      "                                 Dload  Upload   Total   Spent    Left  Speed\n",
      "  0     0    0     0    0     0      0      0 --:--:-- --:--:-- --:--:--     0curl: (6) Could not resolve host: 10,\n",
      "curl: (3) URL using bad/illegal format or missing URL\n",
      "curl: (3) unmatched close brace/bracket in URL position 7:\n",
      "\"java\"}\n",
      "      ^\n"
     ]
    },
    {
     "name": "stdout",
     "output_type": "stream",
     "text": [
      "Internal Server Error"
     ]
    },
    {
     "ename": "CalledProcessError",
     "evalue": "Command 'b'echo ${2}\\ndata=\\'{\"code\": \"\\'${2}\\'\", \"timeout\": 10, \"kernel_name\": \"java\"}\\'\\necho $data\\ncurl -X POST ${1}:8080/execute_code -d ${data}\\n'' returned non-zero exit status 3.",
     "output_type": "error",
     "traceback": [
      "\u001b[0;31m---------------------------------------------------------------------------\u001b[0m",
      "\u001b[0;31mCalledProcessError\u001b[0m                        Traceback (most recent call last)",
      "Cell \u001b[0;32mIn[21], line 1\u001b[0m\n\u001b[0;32m----> 1\u001b[0m \u001b[43mget_ipython\u001b[49m\u001b[43m(\u001b[49m\u001b[43m)\u001b[49m\u001b[38;5;241;43m.\u001b[39;49m\u001b[43mrun_cell_magic\u001b[49m\u001b[43m(\u001b[49m\u001b[38;5;124;43m'\u001b[39;49m\u001b[38;5;124;43mbash\u001b[39;49m\u001b[38;5;124;43m'\u001b[39;49m\u001b[43m,\u001b[49m\u001b[43m \u001b[49m\u001b[38;5;124;43m'\u001b[39;49m\u001b[38;5;124;43m-s $host_ip $java_code\u001b[39;49m\u001b[38;5;124;43m'\u001b[39;49m\u001b[43m,\u001b[49m\u001b[43m \u001b[49m\u001b[38;5;124;43m'\u001b[39;49m\u001b[38;5;124;43mecho $\u001b[39;49m\u001b[38;5;132;43;01m{2}\u001b[39;49;00m\u001b[38;5;130;43;01m\\n\u001b[39;49;00m\u001b[38;5;124;43mdata=\u001b[39;49m\u001b[38;5;130;43;01m\\'\u001b[39;49;00m\u001b[38;5;124;43m{\u001b[39;49m\u001b[38;5;124;43m\"\u001b[39;49m\u001b[38;5;124;43mcode\u001b[39;49m\u001b[38;5;124;43m\"\u001b[39;49m\u001b[38;5;124;43m: \u001b[39;49m\u001b[38;5;124;43m\"\u001b[39;49m\u001b[38;5;130;43;01m\\'\u001b[39;49;00m\u001b[38;5;124;43m$\u001b[39;49m\u001b[38;5;132;43;01m{2}\u001b[39;49;00m\u001b[38;5;130;43;01m\\'\u001b[39;49;00m\u001b[38;5;124;43m\"\u001b[39;49m\u001b[38;5;124;43m, \u001b[39;49m\u001b[38;5;124;43m\"\u001b[39;49m\u001b[38;5;124;43mtimeout\u001b[39;49m\u001b[38;5;124;43m\"\u001b[39;49m\u001b[38;5;124;43m: 10, \u001b[39;49m\u001b[38;5;124;43m\"\u001b[39;49m\u001b[38;5;124;43mkernel_name\u001b[39;49m\u001b[38;5;124;43m\"\u001b[39;49m\u001b[38;5;124;43m: \u001b[39;49m\u001b[38;5;124;43m\"\u001b[39;49m\u001b[38;5;124;43mjava\u001b[39;49m\u001b[38;5;124;43m\"\u001b[39;49m\u001b[38;5;124;43m}\u001b[39;49m\u001b[38;5;130;43;01m\\'\u001b[39;49;00m\u001b[38;5;130;43;01m\\n\u001b[39;49;00m\u001b[38;5;124;43mecho $data\u001b[39;49m\u001b[38;5;130;43;01m\\n\u001b[39;49;00m\u001b[38;5;124;43mcurl -X POST $\u001b[39;49m\u001b[38;5;132;43;01m{1}\u001b[39;49;00m\u001b[38;5;124;43m:8080/execute_code -d $\u001b[39;49m\u001b[38;5;132;43;01m{data}\u001b[39;49;00m\u001b[38;5;130;43;01m\\n\u001b[39;49;00m\u001b[38;5;124;43m'\u001b[39;49m\u001b[43m)\u001b[49m\n",
      "File \u001b[0;32m/opt/conda/lib/python3.10/site-packages/IPython/core/interactiveshell.py:2493\u001b[0m, in \u001b[0;36mInteractiveShell.run_cell_magic\u001b[0;34m(self, magic_name, line, cell)\u001b[0m\n\u001b[1;32m   2491\u001b[0m \u001b[38;5;28;01mwith\u001b[39;00m \u001b[38;5;28mself\u001b[39m\u001b[38;5;241m.\u001b[39mbuiltin_trap:\n\u001b[1;32m   2492\u001b[0m     args \u001b[38;5;241m=\u001b[39m (magic_arg_s, cell)\n\u001b[0;32m-> 2493\u001b[0m     result \u001b[38;5;241m=\u001b[39m \u001b[43mfn\u001b[49m\u001b[43m(\u001b[49m\u001b[38;5;241;43m*\u001b[39;49m\u001b[43margs\u001b[49m\u001b[43m,\u001b[49m\u001b[43m \u001b[49m\u001b[38;5;241;43m*\u001b[39;49m\u001b[38;5;241;43m*\u001b[39;49m\u001b[43mkwargs\u001b[49m\u001b[43m)\u001b[49m\n\u001b[1;32m   2495\u001b[0m \u001b[38;5;66;03m# The code below prevents the output from being displayed\u001b[39;00m\n\u001b[1;32m   2496\u001b[0m \u001b[38;5;66;03m# when using magics with decorator @output_can_be_silenced\u001b[39;00m\n\u001b[1;32m   2497\u001b[0m \u001b[38;5;66;03m# when the last Python token in the expression is a ';'.\u001b[39;00m\n\u001b[1;32m   2498\u001b[0m \u001b[38;5;28;01mif\u001b[39;00m \u001b[38;5;28mgetattr\u001b[39m(fn, magic\u001b[38;5;241m.\u001b[39mMAGIC_OUTPUT_CAN_BE_SILENCED, \u001b[38;5;28;01mFalse\u001b[39;00m):\n",
      "File \u001b[0;32m/opt/conda/lib/python3.10/site-packages/IPython/core/magics/script.py:154\u001b[0m, in \u001b[0;36mScriptMagics._make_script_magic.<locals>.named_script_magic\u001b[0;34m(line, cell)\u001b[0m\n\u001b[1;32m    152\u001b[0m \u001b[38;5;28;01melse\u001b[39;00m:\n\u001b[1;32m    153\u001b[0m     line \u001b[38;5;241m=\u001b[39m script\n\u001b[0;32m--> 154\u001b[0m \u001b[38;5;28;01mreturn\u001b[39;00m \u001b[38;5;28;43mself\u001b[39;49m\u001b[38;5;241;43m.\u001b[39;49m\u001b[43mshebang\u001b[49m\u001b[43m(\u001b[49m\u001b[43mline\u001b[49m\u001b[43m,\u001b[49m\u001b[43m \u001b[49m\u001b[43mcell\u001b[49m\u001b[43m)\u001b[49m\n",
      "File \u001b[0;32m/opt/conda/lib/python3.10/site-packages/IPython/core/magics/script.py:314\u001b[0m, in \u001b[0;36mScriptMagics.shebang\u001b[0;34m(self, line, cell)\u001b[0m\n\u001b[1;32m    309\u001b[0m \u001b[38;5;28;01mif\u001b[39;00m args\u001b[38;5;241m.\u001b[39mraise_error \u001b[38;5;129;01mand\u001b[39;00m p\u001b[38;5;241m.\u001b[39mreturncode \u001b[38;5;241m!=\u001b[39m \u001b[38;5;241m0\u001b[39m:\n\u001b[1;32m    310\u001b[0m     \u001b[38;5;66;03m# If we get here and p.returncode is still None, we must have\u001b[39;00m\n\u001b[1;32m    311\u001b[0m     \u001b[38;5;66;03m# killed it but not yet seen its return code. We don't wait for it,\u001b[39;00m\n\u001b[1;32m    312\u001b[0m     \u001b[38;5;66;03m# in case it's stuck in uninterruptible sleep. -9 = SIGKILL\u001b[39;00m\n\u001b[1;32m    313\u001b[0m     rc \u001b[38;5;241m=\u001b[39m p\u001b[38;5;241m.\u001b[39mreturncode \u001b[38;5;129;01mor\u001b[39;00m \u001b[38;5;241m-\u001b[39m\u001b[38;5;241m9\u001b[39m\n\u001b[0;32m--> 314\u001b[0m     \u001b[38;5;28;01mraise\u001b[39;00m CalledProcessError(rc, cell)\n",
      "\u001b[0;31mCalledProcessError\u001b[0m: Command 'b'echo ${2}\\ndata=\\'{\"code\": \"\\'${2}\\'\", \"timeout\": 10, \"kernel_name\": \"java\"}\\'\\necho $data\\ncurl -X POST ${1}:8080/execute_code -d ${data}\\n'' returned non-zero exit status 3."
     ]
    }
   ],
   "source": [
    "%%bash -s $host_ip $java_code\n",
    "echo ${2}\n",
    "data='{\"code\": \"'${2}'\", \"timeout\": 10, \"kernel_name\": \"java\"}'\n",
    "echo $data\n",
    "curl -X POST ${1}:8080/execute_code -d ${data}"
   ]
  },
  {
   "cell_type": "code",
   "execution_count": 219,
   "id": "a75ff3d6-b42d-4cb0-8778-30f4b38f5031",
   "metadata": {
    "tags": []
   },
   "outputs": [
    {
     "name": "stdout",
     "output_type": "stream",
     "text": [
      "{\"output\":\"1\",\"error\":false}"
     ]
    }
   ],
   "source": [
    "%%bash -s $host_ip\n",
    "curl -X POST ${1}:8080/execute_code -d '{\"code\": \"echo 1\", \"timeout\": 10, \"kernel_name\": \"bash\"}'"
   ]
  },
  {
   "cell_type": "code",
   "execution_count": 12,
   "id": "e00f4ff1-fc68-47a9-a310-24367609abe7",
   "metadata": {
    "tags": []
   },
   "outputs": [
    {
     "name": "stderr",
     "output_type": "stream",
     "text": [
      "  % Total    % Received % Xferd  Average Speed   Time    Time     Time  Current\n",
      "                                 Dload  Upload   Total   Spent    Left  Speed\n",
      "100    99  100    28  100    71     26     66  0:00:01  0:00:01 --:--:--    93\n"
     ]
    },
    {
     "name": "stdout",
     "output_type": "stream",
     "text": [
      "{\"output\":\"6\",\"error\":false}"
     ]
    }
   ],
   "source": [
    "%%bash -s $host_ip\n",
    "curl -X POST ${1}:8080/execute_code -d '{\"code\": \"(int) eval(\\\"1+2\\\")+3\", \"timeout\": 10, \"kernel_name\": \"java\"}'"
   ]
  },
  {
   "cell_type": "code",
   "execution_count": 246,
   "id": "5b95cf88-d167-4626-ac94-14cddc443c88",
   "metadata": {
    "tags": []
   },
   "outputs": [
    {
     "name": "stdout",
     "output_type": "stream",
     "text": [
      "{\"output\":\"Hello World\",\"error\":false}"
     ]
    }
   ],
   "source": [
    "%%bash -s $host_ip\n",
    "curl -X POST ${1}:8080/execute_code -d '{\"code\": \"console.log(\\\"Hello World\\\");\", \"timeout\": 10, \"kernel_name\": \"javascript\"}'\n"
   ]
  },
  {
   "cell_type": "code",
   "execution_count": 19,
   "id": "ee87be0f-2063-424c-8f3a-8ad6b6d13f8c",
   "metadata": {
    "tags": []
   },
   "outputs": [
    {
     "name": "stdout",
     "output_type": "stream",
     "text": [
      "curl: (6) Could not resolve host: ip-172-31-65-185.ap-southeast-2.compute.internal\n"
     ]
    }
   ],
   "source": [
    "%%bash -s $host_ip\n",
    "curl ${1}:8080/list_kernel_specs"
   ]
  },
  {
   "cell_type": "code",
   "execution_count": 45,
   "id": "f60bc132-4e83-47ba-af5f-8594a80c027a",
   "metadata": {
    "tags": []
   },
   "outputs": [
    {
     "name": "stderr",
     "output_type": "stream",
     "text": [
      "  % Total    % Received % Xferd  Average Speed   Time    Time     Time  Current\n",
      "                                 Dload  Upload   Total   Spent    Left  Speed\n",
      "100   143  100    34  100   109    393   1260 --:--:-- --:--:-- --:--:--  1662\n"
     ]
    },
    {
     "name": "stdout",
     "output_type": "stream",
     "text": [
      "{\"output\":\"[1] 3.4\",\"error\":false}"
     ]
    }
   ],
   "source": [
    "%%bash -s $host_ip\n",
    "curl -X POST ${1}:8080/execute_code -d '{\"code\": \"numbers <- c(1, 4, 7, 3, 2)\\navg <- mean(numbers)\\nprint(avg)\", \"timeout\": 10, \"kernel_name\": \"ir\"}'"
   ]
  },
  {
   "cell_type": "code",
   "execution_count": 40,
   "id": "4244d9a5-43d8-43fc-8e18-d510dafec025",
   "metadata": {
    "tags": []
   },
   "outputs": [
    {
     "name": "stdout",
     "output_type": "stream",
     "text": [
      "numbers <- c(1, 4, 7, 3, 2)\\navg <- mean(numbers)\\nprint(avg)\n"
     ]
    }
   ],
   "source": [
    "!A=$\"numbers <- c(1, 4, 7, 3, 2)\\\\navg <- mean(numbers)\\nprint(avg)\"; echo $A"
   ]
  },
  {
   "cell_type": "code",
   "execution_count": null,
   "id": "ab1976db-5bf0-4e6c-acbb-924f376ae3ad",
   "metadata": {
    "tags": []
   },
   "outputs": [],
   "source": [
    "%%bash -s $host_ip\n",
    "curl -X POST ${1}:8080/execute_code -d '{\"code\": \"print(\\\"Hello World!\\\")\", \"timeout\": 10, \"kernel_name\": \"ir\"}'"
   ]
  },
  {
   "cell_type": "code",
   "execution_count": 3,
   "id": "e4310c85-942f-44a2-8566-df8f4063b0a3",
   "metadata": {
    "tags": []
   },
   "outputs": [],
   "source": [
    "from jupyter_client import run_kernel"
   ]
  },
  {
   "cell_type": "code",
   "execution_count": 4,
   "id": "1162e343-a966-4abd-95ef-145e34e80d4b",
   "metadata": {
    "tags": []
   },
   "outputs": [
    {
     "name": "stdout",
     "output_type": "stream",
     "text": [
      "Available kernels:\n",
      "  python3    /opt/conda/share/jupyter/kernels/python3\n"
     ]
    }
   ],
   "source": [
    "!jupyter kernelspec list"
   ]
  },
  {
   "cell_type": "code",
   "execution_count": 34,
   "id": "b33940c1-e288-4f7b-b8ae-c87fac4a60b8",
   "metadata": {
    "tags": []
   },
   "outputs": [],
   "source": [
    "a = run_kernel(kernel_name=\"python3\")"
   ]
  },
  {
   "cell_type": "code",
   "execution_count": 29,
   "id": "b13d20d2-9634-441b-bb44-3e04b0639e38",
   "metadata": {
    "tags": []
   },
   "outputs": [
    {
     "data": {
      "text/plain": [
       "{'gen': <generator object run_kernel at 0x7f567824b1b0>,\n",
       " 'func': <function jupyter_client.manager.run_kernel(**kwargs: Any) -> Iterator[jupyter_client.client.KernelClient]>,\n",
       " 'args': (),\n",
       " 'kwds': {'kernel_name': 'python3'},\n",
       " '__doc__': 'Context manager to create a kernel in a subprocess.\\n\\n    The kernel is shut down when the context exits.\\n\\n    Returns\\n    -------\\n    kernel_client: connected KernelClient instance\\n    '}"
      ]
     },
     "execution_count": 29,
     "metadata": {},
     "output_type": "execute_result"
    }
   ],
   "source": [
    "a.__dict__"
   ]
  },
  {
   "cell_type": "code",
   "execution_count": 35,
   "id": "4ae7974a-2fd7-4b99-8160-73dccae92e57",
   "metadata": {
    "tags": []
   },
   "outputs": [
    {
     "name": "stdout",
     "output_type": "stream",
     "text": [
      "3ecbd2d1-1c918faad191aa2ba8d110aa_1031_2\n",
      "{'header': {'msg_id': '028c91b8-c7e3980990078315a2ee15b2_1822_9', 'msg_type': 'stream', 'username': 'username', 'session': '028c91b8-c7e3980990078315a2ee15b2', 'date': datetime.datetime(2023, 11, 16, 4, 15, 36, 317538, tzinfo=tzlocal()), 'version': '5.3'}, 'msg_id': '028c91b8-c7e3980990078315a2ee15b2_1822_9', 'msg_type': 'stream', 'parent_header': {'msg_id': '3ecbd2d1-1c918faad191aa2ba8d110aa_1031_2', 'msg_type': 'execute_request', 'username': 'username', 'session': '3ecbd2d1-1c918faad191aa2ba8d110aa', 'date': datetime.datetime(2023, 11, 16, 4, 15, 36, 306969, tzinfo=tzlocal()), 'version': '5.3'}, 'metadata': {}, 'content': {'name': 'stdout', 'text': 'hello\\n'}, 'buffers': []}\n"
     ]
    }
   ],
   "source": [
    "a1 = next(a.gen)\n",
    "print(a1.execute(\"print('hello')\"))\n",
    "while True:\n",
    "    try:\n",
    "        msg = a1.get_iopub_msg(timeout=20)\n",
    "\n",
    "        msg_type = msg[\"header\"][\"msg_type\"]\n",
    "        content = msg[\"content\"]\n",
    "\n",
    "        if msg_type == \"execute_result\":\n",
    "            outputs.append(content[\"data\"])\n",
    "        elif msg_type == \"stream\":\n",
    "            outputs.append(content[\"text\"])\n",
    "        elif msg_type == \"error\":\n",
    "            error_flag = True\n",
    "            outputs.append(content[\"traceback\"])\n",
    "\n",
    "        # If the execution state of the kernel is idle, it means the cell finished executing\n",
    "        if msg_type == \"status\" and content[\"execution_state\"] == \"idle\":\n",
    "            break\n",
    "    except:\n",
    "        break\n",
    "print(msg)"
   ]
  },
  {
   "cell_type": "code",
   "execution_count": 31,
   "id": "a3c00a85-b393-464c-ad8a-c4f8edc1d252",
   "metadata": {
    "tags": []
   },
   "outputs": [
    {
     "data": {
      "text/plain": [
       "<contextlib._GeneratorContextManager at 0x7f56782cf730>"
      ]
     },
     "execution_count": 31,
     "metadata": {},
     "output_type": "execute_result"
    }
   ],
   "source": [
    "a"
   ]
  },
  {
   "cell_type": "code",
   "execution_count": null,
   "id": "1c02ba8c-9d38-4d3d-9289-ebc93980e3e6",
   "metadata": {},
   "outputs": [],
   "source": [
    "class JupyterCell:\n",
    "    def clean_output(self, outputs):\n",
    "        outputs_only_str = list()\n",
    "        for i in outputs:\n",
    "            if type(i) == dict:\n",
    "                if \"text/plain\" in list(i.keys()):\n",
    "                    outputs_only_str.append(i[\"text/plain\"])\n",
    "            elif type(i) == str:\n",
    "                outputs_only_str.append(i)\n",
    "            elif type(i) == list:\n",
    "                error_msg = \"\\n\".join(i)\n",
    "                error_msg = re.sub(r\"\\x1b\\[.*?m\", \"\", error_msg)\n",
    "                outputs_only_str.append(error_msg)\n",
    "\n",
    "        return \"\\n\".join(outputs_only_str).strip()\n",
    "    def run_cell"
   ]
  },
  {
   "cell_type": "code",
   "execution_count": 71,
   "id": "1cb6a88e-b0e8-49f3-9c20-00576fb71f33",
   "metadata": {
    "tags": []
   },
   "outputs": [
    {
     "data": {
      "text/plain": [
       "('Hello World!', False)"
      ]
     },
     "execution_count": 71,
     "metadata": {},
     "output_type": "execute_result"
    }
   ],
   "source": [
    "class JupyterNotebook:\n",
    "    def __init__(self, kernel_name: str = \"python3\", startup_timeout: float = 60):\n",
    "        self.kc = run_kernel(kernel_name=kernel_name).gen\n",
    "\n",
    "    def clean_output(self, outputs):\n",
    "        outputs_only_str = list()\n",
    "        for i in outputs:\n",
    "            if type(i) == dict:\n",
    "                if \"text/plain\" in list(i.keys()):\n",
    "                    outputs_only_str.append(i[\"text/plain\"])\n",
    "            elif type(i) == str:\n",
    "                outputs_only_str.append(i)\n",
    "            elif type(i) == list:\n",
    "                error_msg = \"\\n\".join(i)\n",
    "                error_msg = re.sub(r\"\\x1b\\[.*?m\", \"\", error_msg)\n",
    "                outputs_only_str.append(error_msg)\n",
    "\n",
    "        return \"\\n\".join(outputs_only_str).strip()\n",
    "\n",
    "    def run_cell(self, code_string, timeout=10):\n",
    "        # Execute the code and get the execution count\n",
    "        outputs = []\n",
    "        error_flag = False\n",
    "        client = next(self.kc)\n",
    "        msg_id = client.execute(code_string)\n",
    "\n",
    "        while True:\n",
    "            try:\n",
    "                msg = client.get_iopub_msg(timeout=timeout)\n",
    "\n",
    "                msg_type = msg[\"header\"][\"msg_type\"]\n",
    "                content = msg[\"content\"]\n",
    "\n",
    "                if msg_type == \"execute_result\":\n",
    "                    outputs.append(content[\"data\"])\n",
    "                elif msg_type == \"stream\":\n",
    "                    outputs.append(content[\"text\"])\n",
    "                elif msg_type == \"error\":\n",
    "                    error_flag = True\n",
    "                    outputs.append(content[\"traceback\"])\n",
    "\n",
    "                # If the execution state of the kernel is idle, it means the cell finished executing\n",
    "                if msg_type == \"status\" and content[\"execution_state\"] == \"idle\":\n",
    "                    break\n",
    "            except:\n",
    "                print(\"here\")\n",
    "                break\n",
    "\n",
    "        return self.clean_output(outputs), error_flag\n",
    "    \n",
    "s = JupyterNotebook()\n",
    "s.run_cell(\"print('Hello World!')\", 20) "
   ]
  },
  {
   "cell_type": "code",
   "execution_count": 17,
   "id": "8460a762-002a-4531-b92a-82c0d15c3f58",
   "metadata": {
    "tags": []
   },
   "outputs": [
    {
     "name": "stdout",
     "output_type": "stream",
     "text": [
      "{\n",
      "    \"CiphertextBlob\": \"AQICAHj3gec2W6nF4KJB3uFR620ZNIzpM1T435NhlyhAHBT8UQGOk4lcSioVCNmjVqumURmZAAAAYjBgBgkqhkiG9w0BBwagUzBRAgEAMEwGCSqGSIb3DQEHATAeBglghkgBZQMEAS4wEQQM+i5+mfUfCH1SyH8aAgEQgB/MFKYReUOaiKMNM4GftNjNoYz5SW9eLiLJi3vED0uz\",\n",
      "    \"KeyId\": \"arn:aws:kms:us-west-2:871623330196:key/6438549b-def7-4035-92b8-00e6d1d534bf\",\n",
      "    \"EncryptionAlgorithm\": \"SYMMETRIC_DEFAULT\"\n",
      "}\n"
     ]
    }
   ],
   "source": [
    "!aws kms encrypt --plaintext \"here\" --key-id alias/codenator-kms"
   ]
  },
  {
   "cell_type": "code",
   "execution_count": 19,
   "id": "5365304e-6155-4a33-bba1-0a9f9581a306",
   "metadata": {
    "tags": []
   },
   "outputs": [
    {
     "name": "stdout",
     "output_type": "stream",
     "text": [
      "here"
     ]
    }
   ],
   "source": [
    "!aws kms decrypt --ciphertext-blob fileb://<(echo  \"AQICAHj3gec2W6nF4KJB3uFR620ZNIzpM1T435NhlyhAHBT8UQGOk4lcSioVCNmjVqumURmZAAAAYjBgBgkqhkiG9w0BBwagUzBRAgEAMEwGCSqGSIb3DQEHATAeBglghkgBZQMEAS4wEQQM+i5+mfUfCH1SyH8aAgEQgB/MFKYReUOaiKMNM4GftNjNoYz5SW9eLiLJi3vED0uz\" | base64 -d) --key-id alias/codenator-kms --output text --query Plaintext | base64 -d"
   ]
  },
  {
   "cell_type": "code",
   "execution_count": 49,
   "id": "d88ff5cd-5de0-434f-9a3c-fcac490c1270",
   "metadata": {
    "tags": []
   },
   "outputs": [],
   "source": [
    "import boto3\n",
    "\n",
    "input_text = \"some text\"\n",
    "\n",
    "class EncryptorClass:\n",
    "    def __init__(self, key_id):\n",
    "        self.kms_client = boto3.client(\"kms\")\n",
    "        self.key_id = key_id\n",
    "    def encrypt(self, text):\n",
    "        ret = self.kms_client.encrypt(\n",
    "            KeyId=self.key_id,\n",
    "            Plaintext=text\n",
    "        )\n",
    "        return ret[\"CiphertextBlob\"]\n",
    "    def decrypt(self, cipher_text_blob):\n",
    "        ret = self.kms_client.decrypt(\n",
    "            KeyId=self.key_id,\n",
    "            CiphertextBlob=cipher_text_blob\n",
    "        )\n",
    "        return ret[\"Plaintext\"].decode()\n",
    "    "
   ]
  },
  {
   "cell_type": "code",
   "execution_count": 93,
   "id": "b2727fe9-c604-4b87-89fb-ff494083aaa9",
   "metadata": {
    "tags": []
   },
   "outputs": [],
   "source": [
    "enc = EncryptorClass(\"alias/codenator-kms\")\n",
    "blob = enc.encrypt(\"print(\\\"Hello ok\\\")\")"
   ]
  },
  {
   "cell_type": "code",
   "execution_count": 94,
   "id": "31bee752-66f3-4abf-8b11-e24b70f4b51d",
   "metadata": {
    "tags": []
   },
   "outputs": [
    {
     "data": {
      "text/plain": [
       "'print(\"Hello ok\")'"
      ]
     },
     "execution_count": 94,
     "metadata": {},
     "output_type": "execute_result"
    }
   ],
   "source": [
    "enc.decrypt(blob)"
   ]
  },
  {
   "cell_type": "code",
   "execution_count": 95,
   "id": "55cbf11c-a6e9-45b0-8151-86d440f5020a",
   "metadata": {
    "tags": []
   },
   "outputs": [
    {
     "data": {
      "text/plain": [
       "b'\\x01\\x02\\x02\\x00x\\xf7\\x81\\xe76[\\xa9\\xc5\\xe0\\xa2A\\xde\\xe1Q\\xebm\\x194\\x8c\\xe93T\\xf8\\xdf\\x93a\\x97(@\\x1c\\x14\\xfcQ\\x01`\\xd6\\xd2\\x04\\x8b&\\x11B\\xf8T\\x12\\xe3\\xd8\\xaa\\x82\\xdc\\x00\\x00\\x00o0m\\x06\\t*\\x86H\\x86\\xf7\\r\\x01\\x07\\x06\\xa0`0^\\x02\\x01\\x000Y\\x06\\t*\\x86H\\x86\\xf7\\r\\x01\\x07\\x010\\x1e\\x06\\t`\\x86H\\x01e\\x03\\x04\\x01.0\\x11\\x04\\x0c\\xdaC\\x1b\\xeb\\t\\x89\\xacJ0\\xb3^\\xf4\\x02\\x01\\x10\\x80,\\xfc\\x98U\\xb3\\x8e\\xa2\\x82\\x98SpM\\x00\\xba\\xc2\\xc6\\xd8O\\xbeI\\x8dh\\xef\\x16\\x8bx)M\\x958\\n(\\x06\\x9fO\\r\\xc2\\xd3gp\\xea44\\xf1\\xe9'"
      ]
     },
     "execution_count": 95,
     "metadata": {},
     "output_type": "execute_result"
    }
   ],
   "source": [
    "blob"
   ]
  },
  {
   "cell_type": "code",
   "execution_count": 114,
   "id": "1148c0a3-5f01-4dbb-b609-917471577e08",
   "metadata": {
    "tags": []
   },
   "outputs": [
    {
     "name": "stdout",
     "output_type": "stream",
     "text": [
      "\"{code: b\\x01\\x02\\x02\\x00x\\xf7\\x81\\xe76[\\xa9\\xc5\\xe0\\xa2A\\xde\\xe1Q\\xebm\\x194\\x8c\\xe93T\\xf8\\xdf\\x93a\\x97(@\\x1c\\x14\\xfcQ\\x01`\\xd6\\xd2\\x04\\x8b&\\x11B\\xf8T\\x12\\xe3\\xd8\\xaa\\x82\\xdc\\x00\\x00\\x00o0m\\x06\\t*\\x86H\\x86\\xf7\\r\\x01\\x07\\x06\\xa0`0^\\x02\\x01\\x000Y\\x06\\t*\\x86H\\x86\\xf7\\r\\x01\\x07\\x010\\x1e\\x06\\t`\\x86H\\x01e\\x03\\x04\\x01.0\\x11\\x04\\x0c\\xdaC\\x1b\\xeb\\t\\x89\\xacJ0\\xb3^\\xf4\\x02\\x01\\x10\\x80,\\xfc\\x98U\\xb3\\x8e\\xa2\\x82\\x98SpM\\x00\\xba\\xc2\\xc6\\xd8O\\xbeI\\x8dh\\xef\\x16\\x8bx)M\\x958\\n(\\x06\\x9fO\\r\\xc2\\xd3gp\\xea44\\xf1\\xe9}\"\n"
     ]
    }
   ],
   "source": [
    "!echo \\\"{\"code\": b'\\x01\\x02\\x02\\x00x\\xf7\\x81\\xe76[\\xa9\\xc5\\xe0\\xa2A\\xde\\xe1Q\\xebm\\x194\\x8c\\xe93T\\xf8\\xdf\\x93a\\x97(@\\x1c\\x14\\xfcQ\\x01`\\xd6\\xd2\\x04\\x8b&\\x11B\\xf8T\\x12\\xe3\\xd8\\xaa\\x82\\xdc\\x00\\x00\\x00o0m\\x06\\t*\\x86H\\x86\\xf7\\r\\x01\\x07\\x06\\xa0`0^\\x02\\x01\\x000Y\\x06\\t*\\x86H\\x86\\xf7\\r\\x01\\x07\\x010\\x1e\\x06\\t`\\x86H\\x01e\\x03\\x04\\x01.0\\x11\\x04\\x0c\\xdaC\\x1b\\xeb\\t\\x89\\xacJ0\\xb3^\\xf4\\x02\\x01\\x10\\x80,\\xfc\\x98U\\xb3\\x8e\\xa2\\x82\\x98SpM\\x00\\xba\\xc2\\xc6\\xd8O\\xbeI\\x8dh\\xef\\x16\\x8bx)M\\x958\\n(\\x06\\x9fO\\r\\xc2\\xd3gp\\xea44\\xf1\\xe9'}\\\""
   ]
  },
  {
   "cell_type": "code",
   "execution_count": null,
   "id": "d1bdfd01-0429-4392-a082-526fce905304",
   "metadata": {},
   "outputs": [],
   "source": []
  }
 ],
 "metadata": {
  "availableInstances": [
   {
    "_defaultOrder": 0,
    "_isFastLaunch": true,
    "category": "General purpose",
    "gpuNum": 0,
    "hideHardwareSpecs": false,
    "memoryGiB": 4,
    "name": "ml.t3.medium",
    "vcpuNum": 2
   },
   {
    "_defaultOrder": 1,
    "_isFastLaunch": false,
    "category": "General purpose",
    "gpuNum": 0,
    "hideHardwareSpecs": false,
    "memoryGiB": 8,
    "name": "ml.t3.large",
    "vcpuNum": 2
   },
   {
    "_defaultOrder": 2,
    "_isFastLaunch": false,
    "category": "General purpose",
    "gpuNum": 0,
    "hideHardwareSpecs": false,
    "memoryGiB": 16,
    "name": "ml.t3.xlarge",
    "vcpuNum": 4
   },
   {
    "_defaultOrder": 3,
    "_isFastLaunch": false,
    "category": "General purpose",
    "gpuNum": 0,
    "hideHardwareSpecs": false,
    "memoryGiB": 32,
    "name": "ml.t3.2xlarge",
    "vcpuNum": 8
   },
   {
    "_defaultOrder": 4,
    "_isFastLaunch": true,
    "category": "General purpose",
    "gpuNum": 0,
    "hideHardwareSpecs": false,
    "memoryGiB": 8,
    "name": "ml.m5.large",
    "vcpuNum": 2
   },
   {
    "_defaultOrder": 5,
    "_isFastLaunch": false,
    "category": "General purpose",
    "gpuNum": 0,
    "hideHardwareSpecs": false,
    "memoryGiB": 16,
    "name": "ml.m5.xlarge",
    "vcpuNum": 4
   },
   {
    "_defaultOrder": 6,
    "_isFastLaunch": false,
    "category": "General purpose",
    "gpuNum": 0,
    "hideHardwareSpecs": false,
    "memoryGiB": 32,
    "name": "ml.m5.2xlarge",
    "vcpuNum": 8
   },
   {
    "_defaultOrder": 7,
    "_isFastLaunch": false,
    "category": "General purpose",
    "gpuNum": 0,
    "hideHardwareSpecs": false,
    "memoryGiB": 64,
    "name": "ml.m5.4xlarge",
    "vcpuNum": 16
   },
   {
    "_defaultOrder": 8,
    "_isFastLaunch": false,
    "category": "General purpose",
    "gpuNum": 0,
    "hideHardwareSpecs": false,
    "memoryGiB": 128,
    "name": "ml.m5.8xlarge",
    "vcpuNum": 32
   },
   {
    "_defaultOrder": 9,
    "_isFastLaunch": false,
    "category": "General purpose",
    "gpuNum": 0,
    "hideHardwareSpecs": false,
    "memoryGiB": 192,
    "name": "ml.m5.12xlarge",
    "vcpuNum": 48
   },
   {
    "_defaultOrder": 10,
    "_isFastLaunch": false,
    "category": "General purpose",
    "gpuNum": 0,
    "hideHardwareSpecs": false,
    "memoryGiB": 256,
    "name": "ml.m5.16xlarge",
    "vcpuNum": 64
   },
   {
    "_defaultOrder": 11,
    "_isFastLaunch": false,
    "category": "General purpose",
    "gpuNum": 0,
    "hideHardwareSpecs": false,
    "memoryGiB": 384,
    "name": "ml.m5.24xlarge",
    "vcpuNum": 96
   },
   {
    "_defaultOrder": 12,
    "_isFastLaunch": false,
    "category": "General purpose",
    "gpuNum": 0,
    "hideHardwareSpecs": false,
    "memoryGiB": 8,
    "name": "ml.m5d.large",
    "vcpuNum": 2
   },
   {
    "_defaultOrder": 13,
    "_isFastLaunch": false,
    "category": "General purpose",
    "gpuNum": 0,
    "hideHardwareSpecs": false,
    "memoryGiB": 16,
    "name": "ml.m5d.xlarge",
    "vcpuNum": 4
   },
   {
    "_defaultOrder": 14,
    "_isFastLaunch": false,
    "category": "General purpose",
    "gpuNum": 0,
    "hideHardwareSpecs": false,
    "memoryGiB": 32,
    "name": "ml.m5d.2xlarge",
    "vcpuNum": 8
   },
   {
    "_defaultOrder": 15,
    "_isFastLaunch": false,
    "category": "General purpose",
    "gpuNum": 0,
    "hideHardwareSpecs": false,
    "memoryGiB": 64,
    "name": "ml.m5d.4xlarge",
    "vcpuNum": 16
   },
   {
    "_defaultOrder": 16,
    "_isFastLaunch": false,
    "category": "General purpose",
    "gpuNum": 0,
    "hideHardwareSpecs": false,
    "memoryGiB": 128,
    "name": "ml.m5d.8xlarge",
    "vcpuNum": 32
   },
   {
    "_defaultOrder": 17,
    "_isFastLaunch": false,
    "category": "General purpose",
    "gpuNum": 0,
    "hideHardwareSpecs": false,
    "memoryGiB": 192,
    "name": "ml.m5d.12xlarge",
    "vcpuNum": 48
   },
   {
    "_defaultOrder": 18,
    "_isFastLaunch": false,
    "category": "General purpose",
    "gpuNum": 0,
    "hideHardwareSpecs": false,
    "memoryGiB": 256,
    "name": "ml.m5d.16xlarge",
    "vcpuNum": 64
   },
   {
    "_defaultOrder": 19,
    "_isFastLaunch": false,
    "category": "General purpose",
    "gpuNum": 0,
    "hideHardwareSpecs": false,
    "memoryGiB": 384,
    "name": "ml.m5d.24xlarge",
    "vcpuNum": 96
   },
   {
    "_defaultOrder": 20,
    "_isFastLaunch": false,
    "category": "General purpose",
    "gpuNum": 0,
    "hideHardwareSpecs": true,
    "memoryGiB": 0,
    "name": "ml.geospatial.interactive",
    "supportedImageNames": [
     "sagemaker-geospatial-v1-0"
    ],
    "vcpuNum": 0
   },
   {
    "_defaultOrder": 21,
    "_isFastLaunch": true,
    "category": "Compute optimized",
    "gpuNum": 0,
    "hideHardwareSpecs": false,
    "memoryGiB": 4,
    "name": "ml.c5.large",
    "vcpuNum": 2
   },
   {
    "_defaultOrder": 22,
    "_isFastLaunch": false,
    "category": "Compute optimized",
    "gpuNum": 0,
    "hideHardwareSpecs": false,
    "memoryGiB": 8,
    "name": "ml.c5.xlarge",
    "vcpuNum": 4
   },
   {
    "_defaultOrder": 23,
    "_isFastLaunch": false,
    "category": "Compute optimized",
    "gpuNum": 0,
    "hideHardwareSpecs": false,
    "memoryGiB": 16,
    "name": "ml.c5.2xlarge",
    "vcpuNum": 8
   },
   {
    "_defaultOrder": 24,
    "_isFastLaunch": false,
    "category": "Compute optimized",
    "gpuNum": 0,
    "hideHardwareSpecs": false,
    "memoryGiB": 32,
    "name": "ml.c5.4xlarge",
    "vcpuNum": 16
   },
   {
    "_defaultOrder": 25,
    "_isFastLaunch": false,
    "category": "Compute optimized",
    "gpuNum": 0,
    "hideHardwareSpecs": false,
    "memoryGiB": 72,
    "name": "ml.c5.9xlarge",
    "vcpuNum": 36
   },
   {
    "_defaultOrder": 26,
    "_isFastLaunch": false,
    "category": "Compute optimized",
    "gpuNum": 0,
    "hideHardwareSpecs": false,
    "memoryGiB": 96,
    "name": "ml.c5.12xlarge",
    "vcpuNum": 48
   },
   {
    "_defaultOrder": 27,
    "_isFastLaunch": false,
    "category": "Compute optimized",
    "gpuNum": 0,
    "hideHardwareSpecs": false,
    "memoryGiB": 144,
    "name": "ml.c5.18xlarge",
    "vcpuNum": 72
   },
   {
    "_defaultOrder": 28,
    "_isFastLaunch": false,
    "category": "Compute optimized",
    "gpuNum": 0,
    "hideHardwareSpecs": false,
    "memoryGiB": 192,
    "name": "ml.c5.24xlarge",
    "vcpuNum": 96
   },
   {
    "_defaultOrder": 29,
    "_isFastLaunch": true,
    "category": "Accelerated computing",
    "gpuNum": 1,
    "hideHardwareSpecs": false,
    "memoryGiB": 16,
    "name": "ml.g4dn.xlarge",
    "vcpuNum": 4
   },
   {
    "_defaultOrder": 30,
    "_isFastLaunch": false,
    "category": "Accelerated computing",
    "gpuNum": 1,
    "hideHardwareSpecs": false,
    "memoryGiB": 32,
    "name": "ml.g4dn.2xlarge",
    "vcpuNum": 8
   },
   {
    "_defaultOrder": 31,
    "_isFastLaunch": false,
    "category": "Accelerated computing",
    "gpuNum": 1,
    "hideHardwareSpecs": false,
    "memoryGiB": 64,
    "name": "ml.g4dn.4xlarge",
    "vcpuNum": 16
   },
   {
    "_defaultOrder": 32,
    "_isFastLaunch": false,
    "category": "Accelerated computing",
    "gpuNum": 1,
    "hideHardwareSpecs": false,
    "memoryGiB": 128,
    "name": "ml.g4dn.8xlarge",
    "vcpuNum": 32
   },
   {
    "_defaultOrder": 33,
    "_isFastLaunch": false,
    "category": "Accelerated computing",
    "gpuNum": 4,
    "hideHardwareSpecs": false,
    "memoryGiB": 192,
    "name": "ml.g4dn.12xlarge",
    "vcpuNum": 48
   },
   {
    "_defaultOrder": 34,
    "_isFastLaunch": false,
    "category": "Accelerated computing",
    "gpuNum": 1,
    "hideHardwareSpecs": false,
    "memoryGiB": 256,
    "name": "ml.g4dn.16xlarge",
    "vcpuNum": 64
   },
   {
    "_defaultOrder": 35,
    "_isFastLaunch": false,
    "category": "Accelerated computing",
    "gpuNum": 1,
    "hideHardwareSpecs": false,
    "memoryGiB": 61,
    "name": "ml.p3.2xlarge",
    "vcpuNum": 8
   },
   {
    "_defaultOrder": 36,
    "_isFastLaunch": false,
    "category": "Accelerated computing",
    "gpuNum": 4,
    "hideHardwareSpecs": false,
    "memoryGiB": 244,
    "name": "ml.p3.8xlarge",
    "vcpuNum": 32
   },
   {
    "_defaultOrder": 37,
    "_isFastLaunch": false,
    "category": "Accelerated computing",
    "gpuNum": 8,
    "hideHardwareSpecs": false,
    "memoryGiB": 488,
    "name": "ml.p3.16xlarge",
    "vcpuNum": 64
   },
   {
    "_defaultOrder": 38,
    "_isFastLaunch": false,
    "category": "Accelerated computing",
    "gpuNum": 8,
    "hideHardwareSpecs": false,
    "memoryGiB": 768,
    "name": "ml.p3dn.24xlarge",
    "vcpuNum": 96
   },
   {
    "_defaultOrder": 39,
    "_isFastLaunch": false,
    "category": "Memory Optimized",
    "gpuNum": 0,
    "hideHardwareSpecs": false,
    "memoryGiB": 16,
    "name": "ml.r5.large",
    "vcpuNum": 2
   },
   {
    "_defaultOrder": 40,
    "_isFastLaunch": false,
    "category": "Memory Optimized",
    "gpuNum": 0,
    "hideHardwareSpecs": false,
    "memoryGiB": 32,
    "name": "ml.r5.xlarge",
    "vcpuNum": 4
   },
   {
    "_defaultOrder": 41,
    "_isFastLaunch": false,
    "category": "Memory Optimized",
    "gpuNum": 0,
    "hideHardwareSpecs": false,
    "memoryGiB": 64,
    "name": "ml.r5.2xlarge",
    "vcpuNum": 8
   },
   {
    "_defaultOrder": 42,
    "_isFastLaunch": false,
    "category": "Memory Optimized",
    "gpuNum": 0,
    "hideHardwareSpecs": false,
    "memoryGiB": 128,
    "name": "ml.r5.4xlarge",
    "vcpuNum": 16
   },
   {
    "_defaultOrder": 43,
    "_isFastLaunch": false,
    "category": "Memory Optimized",
    "gpuNum": 0,
    "hideHardwareSpecs": false,
    "memoryGiB": 256,
    "name": "ml.r5.8xlarge",
    "vcpuNum": 32
   },
   {
    "_defaultOrder": 44,
    "_isFastLaunch": false,
    "category": "Memory Optimized",
    "gpuNum": 0,
    "hideHardwareSpecs": false,
    "memoryGiB": 384,
    "name": "ml.r5.12xlarge",
    "vcpuNum": 48
   },
   {
    "_defaultOrder": 45,
    "_isFastLaunch": false,
    "category": "Memory Optimized",
    "gpuNum": 0,
    "hideHardwareSpecs": false,
    "memoryGiB": 512,
    "name": "ml.r5.16xlarge",
    "vcpuNum": 64
   },
   {
    "_defaultOrder": 46,
    "_isFastLaunch": false,
    "category": "Memory Optimized",
    "gpuNum": 0,
    "hideHardwareSpecs": false,
    "memoryGiB": 768,
    "name": "ml.r5.24xlarge",
    "vcpuNum": 96
   },
   {
    "_defaultOrder": 47,
    "_isFastLaunch": false,
    "category": "Accelerated computing",
    "gpuNum": 1,
    "hideHardwareSpecs": false,
    "memoryGiB": 16,
    "name": "ml.g5.xlarge",
    "vcpuNum": 4
   },
   {
    "_defaultOrder": 48,
    "_isFastLaunch": false,
    "category": "Accelerated computing",
    "gpuNum": 1,
    "hideHardwareSpecs": false,
    "memoryGiB": 32,
    "name": "ml.g5.2xlarge",
    "vcpuNum": 8
   },
   {
    "_defaultOrder": 49,
    "_isFastLaunch": false,
    "category": "Accelerated computing",
    "gpuNum": 1,
    "hideHardwareSpecs": false,
    "memoryGiB": 64,
    "name": "ml.g5.4xlarge",
    "vcpuNum": 16
   },
   {
    "_defaultOrder": 50,
    "_isFastLaunch": false,
    "category": "Accelerated computing",
    "gpuNum": 1,
    "hideHardwareSpecs": false,
    "memoryGiB": 128,
    "name": "ml.g5.8xlarge",
    "vcpuNum": 32
   },
   {
    "_defaultOrder": 51,
    "_isFastLaunch": false,
    "category": "Accelerated computing",
    "gpuNum": 1,
    "hideHardwareSpecs": false,
    "memoryGiB": 256,
    "name": "ml.g5.16xlarge",
    "vcpuNum": 64
   },
   {
    "_defaultOrder": 52,
    "_isFastLaunch": false,
    "category": "Accelerated computing",
    "gpuNum": 4,
    "hideHardwareSpecs": false,
    "memoryGiB": 192,
    "name": "ml.g5.12xlarge",
    "vcpuNum": 48
   },
   {
    "_defaultOrder": 53,
    "_isFastLaunch": false,
    "category": "Accelerated computing",
    "gpuNum": 4,
    "hideHardwareSpecs": false,
    "memoryGiB": 384,
    "name": "ml.g5.24xlarge",
    "vcpuNum": 96
   },
   {
    "_defaultOrder": 54,
    "_isFastLaunch": false,
    "category": "Accelerated computing",
    "gpuNum": 8,
    "hideHardwareSpecs": false,
    "memoryGiB": 768,
    "name": "ml.g5.48xlarge",
    "vcpuNum": 192
   },
   {
    "_defaultOrder": 55,
    "_isFastLaunch": false,
    "category": "Accelerated computing",
    "gpuNum": 8,
    "hideHardwareSpecs": false,
    "memoryGiB": 1152,
    "name": "ml.p4d.24xlarge",
    "vcpuNum": 96
   },
   {
    "_defaultOrder": 56,
    "_isFastLaunch": false,
    "category": "Accelerated computing",
    "gpuNum": 8,
    "hideHardwareSpecs": false,
    "memoryGiB": 1152,
    "name": "ml.p4de.24xlarge",
    "vcpuNum": 96
   },
   {
    "_defaultOrder": 57,
    "_isFastLaunch": false,
    "category": "Accelerated computing",
    "gpuNum": 0,
    "hideHardwareSpecs": false,
    "memoryGiB": 32,
    "name": "ml.trn1.2xlarge",
    "vcpuNum": 8
   },
   {
    "_defaultOrder": 58,
    "_isFastLaunch": false,
    "category": "Accelerated computing",
    "gpuNum": 0,
    "hideHardwareSpecs": false,
    "memoryGiB": 512,
    "name": "ml.trn1.32xlarge",
    "vcpuNum": 128
   },
   {
    "_defaultOrder": 59,
    "_isFastLaunch": false,
    "category": "Accelerated computing",
    "gpuNum": 0,
    "hideHardwareSpecs": false,
    "memoryGiB": 512,
    "name": "ml.trn1n.32xlarge",
    "vcpuNum": 128
   }
  ],
  "instance_type": "ml.t3.medium",
  "kernelspec": {
   "display_name": "Python 3 (Data Science 3.0)",
   "language": "python",
   "name": "python3__SAGEMAKER_INTERNAL__arn:aws:sagemaker:us-west-2:236514542706:image/sagemaker-data-science-310-v1"
  },
  "language_info": {
   "codemirror_mode": {
    "name": "ipython",
    "version": 3
   },
   "file_extension": ".py",
   "mimetype": "text/x-python",
   "name": "python",
   "nbconvert_exporter": "python",
   "pygments_lexer": "ipython3",
   "version": "3.10.6"
  },
  "lcc_arn": "arn:aws:sagemaker:us-west-2:871623330196:studio-lifecycle-config/sdocker-kg"
 },
 "nbformat": 4,
 "nbformat_minor": 5
}
