{
 "cells": [
  {
   "cell_type": "markdown",
   "id": "fc753b9f-9f66-4f86-abd8-fd41abaedf2f",
   "metadata": {},
   "source": [
    "# Code Executor - development notebook"
   ]
  },
  {
   "cell_type": "markdown",
   "id": "a25a8e9d-26b3-44fe-b1a6-f35ac2986750",
   "metadata": {},
   "source": [
    "## Docker container space"
   ]
  },
  {
   "cell_type": "markdown",
   "id": "414d9e49-c6dd-42bd-8407-0958d27fcd92",
   "metadata": {},
   "source": [
    "### Build and run"
   ]
  },
  {
   "cell_type": "code",
   "execution_count": 88,
   "id": "8e0d4d43-02da-41ee-9ba0-a3801b143142",
   "metadata": {
    "scrolled": true,
    "tags": []
   },
   "outputs": [
    {
     "name": "stdout",
     "output_type": "stream",
     "text": [
      "sha256:0032f9604a88d23c5bc4ae54ed6023d6edb0ae5154e076b5164be8dfe05e8ef7\n"
     ]
    }
   ],
   "source": [
    "# Build image\n",
    "!docker build . --quiet --tag code-executor:latest"
   ]
  },
  {
   "cell_type": "code",
   "execution_count": 89,
   "id": "f849150e-833d-4ff4-a8f7-759bfb94ebad",
   "metadata": {
    "tags": []
   },
   "outputs": [
    {
     "name": "stdout",
     "output_type": "stream",
     "text": [
      "463d4c4eccc957d0b63998d7ad37b6a65a5e4b89afa39a965ff8b41bb5f65c14\n"
     ]
    }
   ],
   "source": [
    "# Run container\n",
    "!docker run -d -p 8080:8080 -e AWS_REGION=us-west-2 -e AWS_DEFAULT_REGION=us-west-2 --name test-code-executor code-executor:latest --host 0.0.0.0 --kms \"alias/codenator-kms\""
   ]
  },
  {
   "cell_type": "code",
   "execution_count": 101,
   "id": "96e8744d-36c3-4fea-ad15-f407eae07c16",
   "metadata": {
    "tags": []
   },
   "outputs": [
    {
     "name": "stdout",
     "output_type": "stream",
     "text": [
      "/code/app/main.py:7: DeprecationWarning: pkg_resources is deprecated as an API. See https://setuptools.pypa.io/en/latest/pkg_resources.html\n",
      "  import pkg_resources\n",
      "/opt/conda/lib/python3.11/site-packages/IPython/paths.py:62: UserWarning: IPython dir '/home/jovyan/.ipython' is not a writable location, using a temp directory.\n",
      "  warn(\"IPython dir '{0}' is not a writable location,\"\n",
      "0.00s - Debugger warning: It seems that frozen modules are being used, which may\n",
      "0.00s - make the debugger miss breakpoints. Please pass -Xfrozen_modules=off\n",
      "0.00s - to python to disable frozen modules.\n",
      "0.00s - Note: Debugging will proceed. Set PYDEVD_DISABLE_FILE_VALIDATION=1 to disable this validation.\n"
     ]
    }
   ],
   "source": [
    "# check container logs\n",
    "!docker logs test-code-executor"
   ]
  },
  {
   "cell_type": "code",
   "execution_count": 87,
   "id": "841038ee-5fd2-4d30-9644-efa600c6f61e",
   "metadata": {
    "tags": []
   },
   "outputs": [
    {
     "name": "stdout",
     "output_type": "stream",
     "text": [
      "test-code-executor\n",
      "test-code-executor\n"
     ]
    }
   ],
   "source": [
    "# kill and remove container\n",
    "!docker kill test-code-executor && docker rm test-code-executor"
   ]
  },
  {
   "cell_type": "code",
   "execution_count": 78,
   "id": "e42ff1bc-3cc8-4770-acc1-8887513df987",
   "metadata": {
    "tags": []
   },
   "outputs": [
    {
     "name": "stdout",
     "output_type": "stream",
     "text": [
      "test-code-executor\n"
     ]
    }
   ],
   "source": [
    "# remove container\n",
    "!docker rm test-code-executor"
   ]
  },
  {
   "cell_type": "code",
   "execution_count": 37,
   "id": "9bff3bbd-c65f-459e-977a-88cfed15b65c",
   "metadata": {
    "tags": []
   },
   "outputs": [
    {
     "name": "stdout",
     "output_type": "stream",
     "text": [
      "NAME                             DESCRIPTION                               DOCKER ENDPOINT                                     ERROR\n",
      "default                          Current DOCKER_HOST based configuration   unix:///var/run/docker.sock                         \n",
      "m5.large_i-032a68457470949e6 *                                             tcp://ip-10-3-1-6.us-west-2.compute.internal:1111   \n"
     ]
    }
   ],
   "source": [
    "# list contexts to get docker host DNS\n",
    "!docker context ls"
   ]
  },
  {
   "cell_type": "markdown",
   "id": "94ed2c77-a961-4b59-9b5d-7f59254cc3d3",
   "metadata": {},
   "source": [
    "### Test container"
   ]
  },
  {
   "cell_type": "code",
   "execution_count": 166,
   "id": "ea128d83-29c3-4500-972c-3c4026dd1266",
   "metadata": {
    "tags": []
   },
   "outputs": [],
   "source": [
    "import boto3\n",
    "import base64\n",
    "\n",
    "class EncryptorClass:\n",
    "    def __init__(self, key_id):\n",
    "        self.kms_client = boto3.client(\"kms\")\n",
    "        self.key_id = key_id\n",
    "    def encrypt(self, text):\n",
    "        ret = self.kms_client.encrypt(\n",
    "            KeyId=self.key_id,\n",
    "            Plaintext=text\n",
    "        )\n",
    "        return base64.b64encode(ret[\"CiphertextBlob\"]).decode()\n",
    "    def decrypt(self, cipher_text_blob):\n",
    "        ret = self.kms_client.decrypt(\n",
    "            KeyId=self.key_id,\n",
    "            CiphertextBlob=base64.b64decode(cipher_text_blob)\n",
    "        )\n",
    "        return ret[\"Plaintext\"].decode()"
   ]
  },
  {
   "cell_type": "code",
   "execution_count": 167,
   "id": "bc5f9a51-ffef-40e3-a658-9996d169cfca",
   "metadata": {
    "tags": []
   },
   "outputs": [
    {
     "data": {
      "text/plain": [
       "'{\"output\":\"Hello ok\",\"error\":false}'"
      ]
     },
     "execution_count": 167,
     "metadata": {},
     "output_type": "execute_result"
    }
   ],
   "source": [
    "import requests\n",
    "import json\n",
    "\n",
    "cypher = EncryptorClass(\"alias/codenator-kms\")\n",
    "# IP from docker context when using Studio Docker CLI extension\n",
    "host_ip = \"ip-10-3-1-85.us-west-2.compute.internal\"\n",
    "port = 8080\n",
    "code = \"print(\\\"Hello ok\\\")\"\n",
    "code_blob = cypher.encrypt(code)\n",
    "data = {\n",
    "    \"code\": code_blob\n",
    "}\n",
    "url = f\"http://{host_ip}:{port}/execute_code\"\n",
    "requests.post(url=url, data=json.dumps(data)).text"
   ]
  },
  {
   "cell_type": "code",
   "execution_count": 156,
   "id": "cb5b5908-b4b5-4389-9ee5-17e08eb68c30",
   "metadata": {
    "tags": []
   },
   "outputs": [
    {
     "data": {
      "text/plain": [
       "b'\\x01\\x02\\x02\\x00x\\xf7\\x81\\xe76[\\xa9\\xc5\\xe0\\xa2A\\xde\\xe1Q\\xebm\\x194\\x8c\\xe93T\\xf8\\xdf\\x93a\\x97(@\\x1c\\x14\\xfcQ\\x01\\x92\\xd1\\xc7\\xc8]\\xef\\x81\\x11\\xff\\x07\\x0b@/p\\x81\\xce\\x00\\x00\\x00o0m\\x06\\t*\\x86H\\x86\\xf7\\r\\x01\\x07\\x06\\xa0`0^\\x02\\x01\\x000Y\\x06\\t*\\x86H\\x86\\xf7\\r\\x01\\x07\\x010\\x1e\\x06\\t`\\x86H\\x01e\\x03\\x04\\x01.0\\x11\\x04\\x0cU9\\xb5\\xea[\\xde\\xfd\\x1bM\\x81\\xf6l\\x02\\x01\\x10\\x80,\\x05Mti\\x01\\x03\\xda\\xb9\\xd2D\\xb6\\xaa\\x18\\xed\\xa81\\xcf\\x8c\\xc9\\xa9\\xae\\xb5r\\x04z@\\xa9\\xe7\\xb9V\\x9c\\xd3\\xd4\\x0f~\\xee\\xc5\\xde\\xf2\\x10\\xcf\\x9a\\xb3\\x1f'"
      ]
     },
     "execution_count": 156,
     "metadata": {},
     "output_type": "execute_result"
    }
   ],
   "source": [
    "base64.b64decode(code_blob)"
   ]
  },
  {
   "cell_type": "code",
   "execution_count": 157,
   "id": "bc5fdda6-07a1-408f-b1e3-5e89bfda2680",
   "metadata": {
    "tags": []
   },
   "outputs": [
    {
     "data": {
      "text/plain": [
       "'AQICAHj3gec2W6nF4KJB3uFR620ZNIzpM1T435NhlyhAHBT8UQGS0cfIXe+BEf8HC0AvcIHOAAAAbzBtBgkqhkiG9w0BBwagYDBeAgEAMFkGCSqGSIb3DQEHATAeBglghkgBZQMEAS4wEQQMVTm16lve/RtNgfZsAgEQgCwFTXRpAQPaudJEtqoY7agxz4zJqa61cgR6QKnnuVac09QPfu7F3vIQz5qzHw=='"
      ]
     },
     "execution_count": 157,
     "metadata": {},
     "output_type": "execute_result"
    }
   ],
   "source": [
    "code_blob"
   ]
  },
  {
   "cell_type": "code",
   "execution_count": 87,
   "id": "d41efae3-8b3d-4cc4-8eaf-8ef9cc7c6ef5",
   "metadata": {
    "tags": []
   },
   "outputs": [
    {
     "name": "stderr",
     "output_type": "stream",
     "text": [
      "  % Total    % Received % Xferd  Average Speed   Time    Time     Time  Current\n",
      "                                 Dload  Upload   Total   Spent    Left  Speed\n",
      "100    22  100    22    0     0   3498      0 --:--:-- --:--:-- --:--:--  3666\n"
     ]
    },
    {
     "name": "stdout",
     "output_type": "stream",
     "text": [
      "{\"Health_Check\":\"200\"}"
     ]
    }
   ],
   "source": [
    "%%bash -s $host_ip\n",
    "curl http://${1}:8080/ping"
   ]
  },
  {
   "cell_type": "code",
   "execution_count": 117,
   "id": "79345113-4a13-45f7-90b0-f166769e2a55",
   "metadata": {
    "tags": []
   },
   "outputs": [
    {
     "name": "stderr",
     "output_type": "stream",
     "text": [
      "  % Total    % Received % Xferd  Average Speed   Time    Time     Time  Current\n",
      "                                 Dload  Upload   Total   Spent    Left  Speed\n",
      "100  1020  100  1013  100     7   353k   2499 --:--:-- --:--:-- --:--:--  498k\n",
      "curl: (3) bad range specification in URL position 33:\n",
      "b\\x01\\x02\\x02\\x00x\\xf7\\x81\\xe76[\\xa9\\xc5\\xe0\\xa2A\\xde\\xe1Q\\xebm\\x194\\x8c\\xe93T\\xf8\\xdf\\x93a\\x97(@\\x1c\\x14\\xfcQ\\x01`\\xd6\\xd2\\x04\\x8b&\\x11B\\xf8T\\x12\\xe3\\xd8\\xaa\\x82\\xdc\\x00\\x00\\x00o0m\\x06\\t*\\x86H\\x86\\xf7\\r\\x01\\x07\\x06\\xa0`0^\\x02\\x01\\x000Y\\x06\\t*\\x86H\\x86\\xf7\\r\\x01\\x07\\x010\\x1e\\x06\\t`\\x86H\\x01e\\x03\\x04\\x01.0\\x11\\x04\\x0c\\xdaC\\x1b\\xeb\\t\\x89\\xacJ0\\xb3^\\xf4\\x02\\x01\\x10\\x80,\\xfc\\x98U\\xb3\\x8e\\xa2\\x82\\x98SpM\\x00\\xba\\xc2\\xc6\\xd8O\\xbeI\\x8dh\\xef\\x16\\x8bx)M\\x958\\n(\\x06\\x9fO\\r\\\n"
     ]
    },
    {
     "name": "stdout",
     "output_type": "stream",
     "text": [
      "{\"error\":\"An error occurred: Unterminated string starting at: line 1 column 1 (char 0)\",\"stacktrace\":\"Traceback (most recent call last):\\n  File \\\"/code/app/main.py\\\", line 43, in execute_code\\n    params = await request.json()\\n             ^^^^^^^^^^^^^^^^^^^^\\n  File \\\"/opt/conda/lib/python3.11/site-packages/starlette/requests.py\\\", line 244, in json\\n    self._json = json.loads(body)\\n                 ^^^^^^^^^^^^^^^^\\n  File \\\"/opt/conda/lib/python3.11/json/__init__.py\\\", line 346, in loads\\n    return _default_decoder.decode(s)\\n           ^^^^^^^^^^^^^^^^^^^^^^^^^^\\n  File \\\"/opt/conda/lib/python3.11/json/decoder.py\\\", line 337, in decode\\n    obj, end = self.raw_decode(s, idx=_w(s, 0).end())\\n               ^^^^^^^^^^^^^^^^^^^^^^^^^^^^^^^^^^^^^^\\n  File \\\"/opt/conda/lib/python3.11/json/decoder.py\\\", line 353, in raw_decode\\n    obj, end = self.scan_once(s, idx)\\n               ^^^^^^^^^^^^^^^^^^^^^^\\njson.decoder.JSONDecodeError: Unterminated string starting at: line 1 column 1 (char 0)\\n\"}"
     ]
    },
    {
     "ename": "CalledProcessError",
     "evalue": "Command 'b'curl http://${1}:8080/execute_code -X POST -d \\\\\"{\\'code\\': b\\'\\\\x01\\\\x02\\\\x02\\\\x00x\\\\xf7\\\\x81\\\\xe76[\\\\xa9\\\\xc5\\\\xe0\\\\xa2A\\\\xde\\\\xe1Q\\\\xebm\\\\x194\\\\x8c\\\\xe93T\\\\xf8\\\\xdf\\\\x93a\\\\x97(@\\\\x1c\\\\x14\\\\xfcQ\\\\x01`\\\\xd6\\\\xd2\\\\x04\\\\x8b&\\\\x11B\\\\xf8T\\\\x12\\\\xe3\\\\xd8\\\\xaa\\\\x82\\\\xdc\\\\x00\\\\x00\\\\x00o0m\\\\x06\\\\t*\\\\x86H\\\\x86\\\\xf7\\\\r\\\\x01\\\\x07\\\\x06\\\\xa0`0^\\\\x02\\\\x01\\\\x000Y\\\\x06\\\\t*\\\\x86H\\\\x86\\\\xf7\\\\r\\\\x01\\\\x07\\\\x010\\\\x1e\\\\x06\\\\t`\\\\x86H\\\\x01e\\\\x03\\\\x04\\\\x01.0\\\\x11\\\\x04\\\\x0c\\\\xdaC\\\\x1b\\\\xeb\\\\t\\\\x89\\\\xacJ0\\\\xb3^\\\\xf4\\\\x02\\\\x01\\\\x10\\\\x80,\\\\xfc\\\\x98U\\\\xb3\\\\x8e\\\\xa2\\\\x82\\\\x98SpM\\\\x00\\\\xba\\\\xc2\\\\xc6\\\\xd8O\\\\xbeI\\\\x8dh\\\\xef\\\\x16\\\\x8bx)M\\\\x958\\\\n(\\\\x06\\\\x9fO\\\\r\\\\xc2\\\\xd3gp\\\\xea44\\\\xf1\\\\xe9\\'}\\\\\"\\n'' returned non-zero exit status 3.",
     "output_type": "error",
     "traceback": [
      "\u001b[0;31m---------------------------------------------------------------------------\u001b[0m",
      "\u001b[0;31mCalledProcessError\u001b[0m                        Traceback (most recent call last)",
      "Cell \u001b[0;32mIn[117], line 1\u001b[0m\n\u001b[0;32m----> 1\u001b[0m \u001b[43mget_ipython\u001b[49m\u001b[43m(\u001b[49m\u001b[43m)\u001b[49m\u001b[38;5;241;43m.\u001b[39;49m\u001b[43mrun_cell_magic\u001b[49m\u001b[43m(\u001b[49m\u001b[38;5;124;43m'\u001b[39;49m\u001b[38;5;124;43mbash\u001b[39;49m\u001b[38;5;124;43m'\u001b[39;49m\u001b[43m,\u001b[49m\u001b[43m \u001b[49m\u001b[38;5;124;43m'\u001b[39;49m\u001b[38;5;124;43m-s $host_ip\u001b[39;49m\u001b[38;5;124;43m'\u001b[39;49m\u001b[43m,\u001b[49m\u001b[43m \u001b[49m\u001b[38;5;124;43m'\u001b[39;49m\u001b[38;5;124;43mcurl http://$\u001b[39;49m\u001b[38;5;132;43;01m{1}\u001b[39;49;00m\u001b[38;5;124;43m:8080/execute_code -X POST -d \u001b[39;49m\u001b[38;5;130;43;01m\\\\\u001b[39;49;00m\u001b[38;5;124;43m\"\u001b[39;49m\u001b[38;5;124;43m{\u001b[39;49m\u001b[38;5;130;43;01m\\'\u001b[39;49;00m\u001b[38;5;124;43mcode\u001b[39;49m\u001b[38;5;130;43;01m\\'\u001b[39;49;00m\u001b[38;5;124;43m: b\u001b[39;49m\u001b[38;5;130;43;01m\\'\u001b[39;49;00m\u001b[38;5;130;43;01m\\\\\u001b[39;49;00m\u001b[38;5;124;43mx01\u001b[39;49m\u001b[38;5;130;43;01m\\\\\u001b[39;49;00m\u001b[38;5;124;43mx02\u001b[39;49m\u001b[38;5;130;43;01m\\\\\u001b[39;49;00m\u001b[38;5;124;43mx02\u001b[39;49m\u001b[38;5;130;43;01m\\\\\u001b[39;49;00m\u001b[38;5;124;43mx00x\u001b[39;49m\u001b[38;5;130;43;01m\\\\\u001b[39;49;00m\u001b[38;5;124;43mxf7\u001b[39;49m\u001b[38;5;130;43;01m\\\\\u001b[39;49;00m\u001b[38;5;124;43mx81\u001b[39;49m\u001b[38;5;130;43;01m\\\\\u001b[39;49;00m\u001b[38;5;124;43mxe76[\u001b[39;49m\u001b[38;5;130;43;01m\\\\\u001b[39;49;00m\u001b[38;5;124;43mxa9\u001b[39;49m\u001b[38;5;130;43;01m\\\\\u001b[39;49;00m\u001b[38;5;124;43mxc5\u001b[39;49m\u001b[38;5;130;43;01m\\\\\u001b[39;49;00m\u001b[38;5;124;43mxe0\u001b[39;49m\u001b[38;5;130;43;01m\\\\\u001b[39;49;00m\u001b[38;5;124;43mxa2A\u001b[39;49m\u001b[38;5;130;43;01m\\\\\u001b[39;49;00m\u001b[38;5;124;43mxde\u001b[39;49m\u001b[38;5;130;43;01m\\\\\u001b[39;49;00m\u001b[38;5;124;43mxe1Q\u001b[39;49m\u001b[38;5;130;43;01m\\\\\u001b[39;49;00m\u001b[38;5;124;43mxebm\u001b[39;49m\u001b[38;5;130;43;01m\\\\\u001b[39;49;00m\u001b[38;5;124;43mx194\u001b[39;49m\u001b[38;5;130;43;01m\\\\\u001b[39;49;00m\u001b[38;5;124;43mx8c\u001b[39;49m\u001b[38;5;130;43;01m\\\\\u001b[39;49;00m\u001b[38;5;124;43mxe93T\u001b[39;49m\u001b[38;5;130;43;01m\\\\\u001b[39;49;00m\u001b[38;5;124;43mxf8\u001b[39;49m\u001b[38;5;130;43;01m\\\\\u001b[39;49;00m\u001b[38;5;124;43mxdf\u001b[39;49m\u001b[38;5;130;43;01m\\\\\u001b[39;49;00m\u001b[38;5;124;43mx93a\u001b[39;49m\u001b[38;5;130;43;01m\\\\\u001b[39;49;00m\u001b[38;5;124;43mx97(@\u001b[39;49m\u001b[38;5;130;43;01m\\\\\u001b[39;49;00m\u001b[38;5;124;43mx1c\u001b[39;49m\u001b[38;5;130;43;01m\\\\\u001b[39;49;00m\u001b[38;5;124;43mx14\u001b[39;49m\u001b[38;5;130;43;01m\\\\\u001b[39;49;00m\u001b[38;5;124;43mxfcQ\u001b[39;49m\u001b[38;5;130;43;01m\\\\\u001b[39;49;00m\u001b[38;5;124;43mx01`\u001b[39;49m\u001b[38;5;130;43;01m\\\\\u001b[39;49;00m\u001b[38;5;124;43mxd6\u001b[39;49m\u001b[38;5;130;43;01m\\\\\u001b[39;49;00m\u001b[38;5;124;43mxd2\u001b[39;49m\u001b[38;5;130;43;01m\\\\\u001b[39;49;00m\u001b[38;5;124;43mx04\u001b[39;49m\u001b[38;5;130;43;01m\\\\\u001b[39;49;00m\u001b[38;5;124;43mx8b&\u001b[39;49m\u001b[38;5;130;43;01m\\\\\u001b[39;49;00m\u001b[38;5;124;43mx11B\u001b[39;49m\u001b[38;5;130;43;01m\\\\\u001b[39;49;00m\u001b[38;5;124;43mxf8T\u001b[39;49m\u001b[38;5;130;43;01m\\\\\u001b[39;49;00m\u001b[38;5;124;43mx12\u001b[39;49m\u001b[38;5;130;43;01m\\\\\u001b[39;49;00m\u001b[38;5;124;43mxe3\u001b[39;49m\u001b[38;5;130;43;01m\\\\\u001b[39;49;00m\u001b[38;5;124;43mxd8\u001b[39;49m\u001b[38;5;130;43;01m\\\\\u001b[39;49;00m\u001b[38;5;124;43mxaa\u001b[39;49m\u001b[38;5;130;43;01m\\\\\u001b[39;49;00m\u001b[38;5;124;43mx82\u001b[39;49m\u001b[38;5;130;43;01m\\\\\u001b[39;49;00m\u001b[38;5;124;43mxdc\u001b[39;49m\u001b[38;5;130;43;01m\\\\\u001b[39;49;00m\u001b[38;5;124;43mx00\u001b[39;49m\u001b[38;5;130;43;01m\\\\\u001b[39;49;00m\u001b[38;5;124;43mx00\u001b[39;49m\u001b[38;5;130;43;01m\\\\\u001b[39;49;00m\u001b[38;5;124;43mx00o0m\u001b[39;49m\u001b[38;5;130;43;01m\\\\\u001b[39;49;00m\u001b[38;5;124;43mx06\u001b[39;49m\u001b[38;5;130;43;01m\\\\\u001b[39;49;00m\u001b[38;5;124;43mt*\u001b[39;49m\u001b[38;5;130;43;01m\\\\\u001b[39;49;00m\u001b[38;5;124;43mx86H\u001b[39;49m\u001b[38;5;130;43;01m\\\\\u001b[39;49;00m\u001b[38;5;124;43mx86\u001b[39;49m\u001b[38;5;130;43;01m\\\\\u001b[39;49;00m\u001b[38;5;124;43mxf7\u001b[39;49m\u001b[38;5;130;43;01m\\\\\u001b[39;49;00m\u001b[38;5;124;43mr\u001b[39;49m\u001b[38;5;130;43;01m\\\\\u001b[39;49;00m\u001b[38;5;124;43mx01\u001b[39;49m\u001b[38;5;130;43;01m\\\\\u001b[39;49;00m\u001b[38;5;124;43mx07\u001b[39;49m\u001b[38;5;130;43;01m\\\\\u001b[39;49;00m\u001b[38;5;124;43mx06\u001b[39;49m\u001b[38;5;130;43;01m\\\\\u001b[39;49;00m\u001b[38;5;124;43mxa0`0^\u001b[39;49m\u001b[38;5;130;43;01m\\\\\u001b[39;49;00m\u001b[38;5;124;43mx02\u001b[39;49m\u001b[38;5;130;43;01m\\\\\u001b[39;49;00m\u001b[38;5;124;43mx01\u001b[39;49m\u001b[38;5;130;43;01m\\\\\u001b[39;49;00m\u001b[38;5;124;43mx000Y\u001b[39;49m\u001b[38;5;130;43;01m\\\\\u001b[39;49;00m\u001b[38;5;124;43mx06\u001b[39;49m\u001b[38;5;130;43;01m\\\\\u001b[39;49;00m\u001b[38;5;124;43mt*\u001b[39;49m\u001b[38;5;130;43;01m\\\\\u001b[39;49;00m\u001b[38;5;124;43mx86H\u001b[39;49m\u001b[38;5;130;43;01m\\\\\u001b[39;49;00m\u001b[38;5;124;43mx86\u001b[39;49m\u001b[38;5;130;43;01m\\\\\u001b[39;49;00m\u001b[38;5;124;43mxf7\u001b[39;49m\u001b[38;5;130;43;01m\\\\\u001b[39;49;00m\u001b[38;5;124;43mr\u001b[39;49m\u001b[38;5;130;43;01m\\\\\u001b[39;49;00m\u001b[38;5;124;43mx01\u001b[39;49m\u001b[38;5;130;43;01m\\\\\u001b[39;49;00m\u001b[38;5;124;43mx07\u001b[39;49m\u001b[38;5;130;43;01m\\\\\u001b[39;49;00m\u001b[38;5;124;43mx010\u001b[39;49m\u001b[38;5;130;43;01m\\\\\u001b[39;49;00m\u001b[38;5;124;43mx1e\u001b[39;49m\u001b[38;5;130;43;01m\\\\\u001b[39;49;00m\u001b[38;5;124;43mx06\u001b[39;49m\u001b[38;5;130;43;01m\\\\\u001b[39;49;00m\u001b[38;5;124;43mt`\u001b[39;49m\u001b[38;5;130;43;01m\\\\\u001b[39;49;00m\u001b[38;5;124;43mx86H\u001b[39;49m\u001b[38;5;130;43;01m\\\\\u001b[39;49;00m\u001b[38;5;124;43mx01e\u001b[39;49m\u001b[38;5;130;43;01m\\\\\u001b[39;49;00m\u001b[38;5;124;43mx03\u001b[39;49m\u001b[38;5;130;43;01m\\\\\u001b[39;49;00m\u001b[38;5;124;43mx04\u001b[39;49m\u001b[38;5;130;43;01m\\\\\u001b[39;49;00m\u001b[38;5;124;43mx01.0\u001b[39;49m\u001b[38;5;130;43;01m\\\\\u001b[39;49;00m\u001b[38;5;124;43mx11\u001b[39;49m\u001b[38;5;130;43;01m\\\\\u001b[39;49;00m\u001b[38;5;124;43mx04\u001b[39;49m\u001b[38;5;130;43;01m\\\\\u001b[39;49;00m\u001b[38;5;124;43mx0c\u001b[39;49m\u001b[38;5;130;43;01m\\\\\u001b[39;49;00m\u001b[38;5;124;43mxdaC\u001b[39;49m\u001b[38;5;130;43;01m\\\\\u001b[39;49;00m\u001b[38;5;124;43mx1b\u001b[39;49m\u001b[38;5;130;43;01m\\\\\u001b[39;49;00m\u001b[38;5;124;43mxeb\u001b[39;49m\u001b[38;5;130;43;01m\\\\\u001b[39;49;00m\u001b[38;5;124;43mt\u001b[39;49m\u001b[38;5;130;43;01m\\\\\u001b[39;49;00m\u001b[38;5;124;43mx89\u001b[39;49m\u001b[38;5;130;43;01m\\\\\u001b[39;49;00m\u001b[38;5;124;43mxacJ0\u001b[39;49m\u001b[38;5;130;43;01m\\\\\u001b[39;49;00m\u001b[38;5;124;43mxb3^\u001b[39;49m\u001b[38;5;130;43;01m\\\\\u001b[39;49;00m\u001b[38;5;124;43mxf4\u001b[39;49m\u001b[38;5;130;43;01m\\\\\u001b[39;49;00m\u001b[38;5;124;43mx02\u001b[39;49m\u001b[38;5;130;43;01m\\\\\u001b[39;49;00m\u001b[38;5;124;43mx01\u001b[39;49m\u001b[38;5;130;43;01m\\\\\u001b[39;49;00m\u001b[38;5;124;43mx10\u001b[39;49m\u001b[38;5;130;43;01m\\\\\u001b[39;49;00m\u001b[38;5;124;43mx80,\u001b[39;49m\u001b[38;5;130;43;01m\\\\\u001b[39;49;00m\u001b[38;5;124;43mxfc\u001b[39;49m\u001b[38;5;130;43;01m\\\\\u001b[39;49;00m\u001b[38;5;124;43mx98U\u001b[39;49m\u001b[38;5;130;43;01m\\\\\u001b[39;49;00m\u001b[38;5;124;43mxb3\u001b[39;49m\u001b[38;5;130;43;01m\\\\\u001b[39;49;00m\u001b[38;5;124;43mx8e\u001b[39;49m\u001b[38;5;130;43;01m\\\\\u001b[39;49;00m\u001b[38;5;124;43mxa2\u001b[39;49m\u001b[38;5;130;43;01m\\\\\u001b[39;49;00m\u001b[38;5;124;43mx82\u001b[39;49m\u001b[38;5;130;43;01m\\\\\u001b[39;49;00m\u001b[38;5;124;43mx98SpM\u001b[39;49m\u001b[38;5;130;43;01m\\\\\u001b[39;49;00m\u001b[38;5;124;43mx00\u001b[39;49m\u001b[38;5;130;43;01m\\\\\u001b[39;49;00m\u001b[38;5;124;43mxba\u001b[39;49m\u001b[38;5;130;43;01m\\\\\u001b[39;49;00m\u001b[38;5;124;43mxc2\u001b[39;49m\u001b[38;5;130;43;01m\\\\\u001b[39;49;00m\u001b[38;5;124;43mxc6\u001b[39;49m\u001b[38;5;130;43;01m\\\\\u001b[39;49;00m\u001b[38;5;124;43mxd8O\u001b[39;49m\u001b[38;5;130;43;01m\\\\\u001b[39;49;00m\u001b[38;5;124;43mxbeI\u001b[39;49m\u001b[38;5;130;43;01m\\\\\u001b[39;49;00m\u001b[38;5;124;43mx8dh\u001b[39;49m\u001b[38;5;130;43;01m\\\\\u001b[39;49;00m\u001b[38;5;124;43mxef\u001b[39;49m\u001b[38;5;130;43;01m\\\\\u001b[39;49;00m\u001b[38;5;124;43mx16\u001b[39;49m\u001b[38;5;130;43;01m\\\\\u001b[39;49;00m\u001b[38;5;124;43mx8bx)M\u001b[39;49m\u001b[38;5;130;43;01m\\\\\u001b[39;49;00m\u001b[38;5;124;43mx958\u001b[39;49m\u001b[38;5;130;43;01m\\\\\u001b[39;49;00m\u001b[38;5;124;43mn(\u001b[39;49m\u001b[38;5;130;43;01m\\\\\u001b[39;49;00m\u001b[38;5;124;43mx06\u001b[39;49m\u001b[38;5;130;43;01m\\\\\u001b[39;49;00m\u001b[38;5;124;43mx9fO\u001b[39;49m\u001b[38;5;130;43;01m\\\\\u001b[39;49;00m\u001b[38;5;124;43mr\u001b[39;49m\u001b[38;5;130;43;01m\\\\\u001b[39;49;00m\u001b[38;5;124;43mxc2\u001b[39;49m\u001b[38;5;130;43;01m\\\\\u001b[39;49;00m\u001b[38;5;124;43mxd3gp\u001b[39;49m\u001b[38;5;130;43;01m\\\\\u001b[39;49;00m\u001b[38;5;124;43mxea44\u001b[39;49m\u001b[38;5;130;43;01m\\\\\u001b[39;49;00m\u001b[38;5;124;43mxf1\u001b[39;49m\u001b[38;5;130;43;01m\\\\\u001b[39;49;00m\u001b[38;5;124;43mxe9\u001b[39;49m\u001b[38;5;130;43;01m\\'\u001b[39;49;00m\u001b[38;5;124;43m}\u001b[39;49m\u001b[38;5;130;43;01m\\\\\u001b[39;49;00m\u001b[38;5;124;43m\"\u001b[39;49m\u001b[38;5;130;43;01m\\n\u001b[39;49;00m\u001b[38;5;124;43m'\u001b[39;49m\u001b[43m)\u001b[49m\n",
      "File \u001b[0;32m/opt/conda/lib/python3.10/site-packages/IPython/core/interactiveshell.py:2493\u001b[0m, in \u001b[0;36mInteractiveShell.run_cell_magic\u001b[0;34m(self, magic_name, line, cell)\u001b[0m\n\u001b[1;32m   2491\u001b[0m \u001b[38;5;28;01mwith\u001b[39;00m \u001b[38;5;28mself\u001b[39m\u001b[38;5;241m.\u001b[39mbuiltin_trap:\n\u001b[1;32m   2492\u001b[0m     args \u001b[38;5;241m=\u001b[39m (magic_arg_s, cell)\n\u001b[0;32m-> 2493\u001b[0m     result \u001b[38;5;241m=\u001b[39m \u001b[43mfn\u001b[49m\u001b[43m(\u001b[49m\u001b[38;5;241;43m*\u001b[39;49m\u001b[43margs\u001b[49m\u001b[43m,\u001b[49m\u001b[43m \u001b[49m\u001b[38;5;241;43m*\u001b[39;49m\u001b[38;5;241;43m*\u001b[39;49m\u001b[43mkwargs\u001b[49m\u001b[43m)\u001b[49m\n\u001b[1;32m   2495\u001b[0m \u001b[38;5;66;03m# The code below prevents the output from being displayed\u001b[39;00m\n\u001b[1;32m   2496\u001b[0m \u001b[38;5;66;03m# when using magics with decorator @output_can_be_silenced\u001b[39;00m\n\u001b[1;32m   2497\u001b[0m \u001b[38;5;66;03m# when the last Python token in the expression is a ';'.\u001b[39;00m\n\u001b[1;32m   2498\u001b[0m \u001b[38;5;28;01mif\u001b[39;00m \u001b[38;5;28mgetattr\u001b[39m(fn, magic\u001b[38;5;241m.\u001b[39mMAGIC_OUTPUT_CAN_BE_SILENCED, \u001b[38;5;28;01mFalse\u001b[39;00m):\n",
      "File \u001b[0;32m/opt/conda/lib/python3.10/site-packages/IPython/core/magics/script.py:154\u001b[0m, in \u001b[0;36mScriptMagics._make_script_magic.<locals>.named_script_magic\u001b[0;34m(line, cell)\u001b[0m\n\u001b[1;32m    152\u001b[0m \u001b[38;5;28;01melse\u001b[39;00m:\n\u001b[1;32m    153\u001b[0m     line \u001b[38;5;241m=\u001b[39m script\n\u001b[0;32m--> 154\u001b[0m \u001b[38;5;28;01mreturn\u001b[39;00m \u001b[38;5;28;43mself\u001b[39;49m\u001b[38;5;241;43m.\u001b[39;49m\u001b[43mshebang\u001b[49m\u001b[43m(\u001b[49m\u001b[43mline\u001b[49m\u001b[43m,\u001b[49m\u001b[43m \u001b[49m\u001b[43mcell\u001b[49m\u001b[43m)\u001b[49m\n",
      "File \u001b[0;32m/opt/conda/lib/python3.10/site-packages/IPython/core/magics/script.py:314\u001b[0m, in \u001b[0;36mScriptMagics.shebang\u001b[0;34m(self, line, cell)\u001b[0m\n\u001b[1;32m    309\u001b[0m \u001b[38;5;28;01mif\u001b[39;00m args\u001b[38;5;241m.\u001b[39mraise_error \u001b[38;5;129;01mand\u001b[39;00m p\u001b[38;5;241m.\u001b[39mreturncode \u001b[38;5;241m!=\u001b[39m \u001b[38;5;241m0\u001b[39m:\n\u001b[1;32m    310\u001b[0m     \u001b[38;5;66;03m# If we get here and p.returncode is still None, we must have\u001b[39;00m\n\u001b[1;32m    311\u001b[0m     \u001b[38;5;66;03m# killed it but not yet seen its return code. We don't wait for it,\u001b[39;00m\n\u001b[1;32m    312\u001b[0m     \u001b[38;5;66;03m# in case it's stuck in uninterruptible sleep. -9 = SIGKILL\u001b[39;00m\n\u001b[1;32m    313\u001b[0m     rc \u001b[38;5;241m=\u001b[39m p\u001b[38;5;241m.\u001b[39mreturncode \u001b[38;5;129;01mor\u001b[39;00m \u001b[38;5;241m-\u001b[39m\u001b[38;5;241m9\u001b[39m\n\u001b[0;32m--> 314\u001b[0m     \u001b[38;5;28;01mraise\u001b[39;00m CalledProcessError(rc, cell)\n",
      "\u001b[0;31mCalledProcessError\u001b[0m: Command 'b'curl http://${1}:8080/execute_code -X POST -d \\\\\"{\\'code\\': b\\'\\\\x01\\\\x02\\\\x02\\\\x00x\\\\xf7\\\\x81\\\\xe76[\\\\xa9\\\\xc5\\\\xe0\\\\xa2A\\\\xde\\\\xe1Q\\\\xebm\\\\x194\\\\x8c\\\\xe93T\\\\xf8\\\\xdf\\\\x93a\\\\x97(@\\\\x1c\\\\x14\\\\xfcQ\\\\x01`\\\\xd6\\\\xd2\\\\x04\\\\x8b&\\\\x11B\\\\xf8T\\\\x12\\\\xe3\\\\xd8\\\\xaa\\\\x82\\\\xdc\\\\x00\\\\x00\\\\x00o0m\\\\x06\\\\t*\\\\x86H\\\\x86\\\\xf7\\\\r\\\\x01\\\\x07\\\\x06\\\\xa0`0^\\\\x02\\\\x01\\\\x000Y\\\\x06\\\\t*\\\\x86H\\\\x86\\\\xf7\\\\r\\\\x01\\\\x07\\\\x010\\\\x1e\\\\x06\\\\t`\\\\x86H\\\\x01e\\\\x03\\\\x04\\\\x01.0\\\\x11\\\\x04\\\\x0c\\\\xdaC\\\\x1b\\\\xeb\\\\t\\\\x89\\\\xacJ0\\\\xb3^\\\\xf4\\\\x02\\\\x01\\\\x10\\\\x80,\\\\xfc\\\\x98U\\\\xb3\\\\x8e\\\\xa2\\\\x82\\\\x98SpM\\\\x00\\\\xba\\\\xc2\\\\xc6\\\\xd8O\\\\xbeI\\\\x8dh\\\\xef\\\\x16\\\\x8bx)M\\\\x958\\\\n(\\\\x06\\\\x9fO\\\\r\\\\xc2\\\\xd3gp\\\\xea44\\\\xf1\\\\xe9\\'}\\\\\"\\n'' returned non-zero exit status 3."
     ]
    }
   ],
   "source": [
    "%%bash -s $host_ip\n",
    "curl http://${1}:8080/execute_code -X POST -d \\\"{'code': b'\\x01\\x02\\x02\\x00x\\xf7\\x81\\xe76[\\xa9\\xc5\\xe0\\xa2A\\xde\\xe1Q\\xebm\\x194\\x8c\\xe93T\\xf8\\xdf\\x93a\\x97(@\\x1c\\x14\\xfcQ\\x01`\\xd6\\xd2\\x04\\x8b&\\x11B\\xf8T\\x12\\xe3\\xd8\\xaa\\x82\\xdc\\x00\\x00\\x00o0m\\x06\\t*\\x86H\\x86\\xf7\\r\\x01\\x07\\x06\\xa0`0^\\x02\\x01\\x000Y\\x06\\t*\\x86H\\x86\\xf7\\r\\x01\\x07\\x010\\x1e\\x06\\t`\\x86H\\x01e\\x03\\x04\\x01.0\\x11\\x04\\x0c\\xdaC\\x1b\\xeb\\t\\x89\\xacJ0\\xb3^\\xf4\\x02\\x01\\x10\\x80,\\xfc\\x98U\\xb3\\x8e\\xa2\\x82\\x98SpM\\x00\\xba\\xc2\\xc6\\xd8O\\xbeI\\x8dh\\xef\\x16\\x8bx)M\\x958\\n(\\x06\\x9fO\\r\\xc2\\xd3gp\\xea44\\xf1\\xe9'}\\\""
   ]
  },
  {
   "cell_type": "code",
   "execution_count": 59,
   "id": "61b2136b-c163-4072-a81e-984bc681c96f",
   "metadata": {
    "tags": []
   },
   "outputs": [
    {
     "ename": "SyntaxError",
     "evalue": "invalid syntax (3883501092.py, line 3)",
     "output_type": "error",
     "traceback": [
      "\u001b[0;36m  Cell \u001b[0;32mIn[59], line 3\u001b[0;36m\u001b[0m\n\u001b[0;31m    curl ${1}:8080/execute_code -X POST -d '{\"code\": \"print(\\\"Hello ok)\"}'\u001b[0m\n\u001b[0m         ^\u001b[0m\n\u001b[0;31mSyntaxError\u001b[0m\u001b[0;31m:\u001b[0m invalid syntax\n"
     ]
    }
   ],
   "source": [
    "# Test broken code execution\n",
    "%%bash -s $host_ip\n",
    "curl ${1}:8080/execute_code -X POST -d '{\"code\": \"print(\\\"Hello ok)\"}'"
   ]
  },
  {
   "cell_type": "code",
   "execution_count": 60,
   "id": "f1075e59-c8e3-43f8-9f42-f3a0ccc07fde",
   "metadata": {
    "tags": []
   },
   "outputs": [
    {
     "ename": "SyntaxError",
     "evalue": "invalid syntax (3587098348.py, line 3)",
     "output_type": "error",
     "traceback": [
      "\u001b[0;36m  Cell \u001b[0;32mIn[60], line 3\u001b[0;36m\u001b[0m\n\u001b[0;31m    curl -X POST ${1}:8080/execute_code -d '{\"code\": \"print(\\\"Hello ok\\\")\", \"timeout\": 10}'\u001b[0m\n\u001b[0m            ^\u001b[0m\n\u001b[0;31mSyntaxError\u001b[0m\u001b[0;31m:\u001b[0m invalid syntax\n"
     ]
    }
   ],
   "source": [
    "# test working code execution\n",
    "%%bash -s $host_ip\n",
    "curl -X POST ${1}:8080/execute_code -d '{\"code\": \"print(\\\"Hello ok\\\")\", \"timeout\": 10}'"
   ]
  },
  {
   "cell_type": "code",
   "execution_count": 8,
   "id": "8a9acb37-ef59-4d3b-a309-839ca7de91ee",
   "metadata": {
    "tags": []
   },
   "outputs": [
    {
     "name": "stderr",
     "output_type": "stream",
     "text": [
      "  % Total    % Received % Xferd  Average Speed   Time    Time     Time  Current\n",
      "                                 Dload  Upload   Total   Spent    Left  Speed\n",
      "100    58  100    27  100    31   3287   3774 --:--:-- --:--:-- --:--:--  7250\n"
     ]
    },
    {
     "name": "stdout",
     "output_type": "stream",
     "text": [
      "{\"output\":\"\",\"error\":false}"
     ]
    }
   ],
   "source": [
    "# test variable persistance\n",
    "%%bash -s $host_ip\n",
    "curl -X POST ${1}:8080/execute_code -d '{\"code\": \"a=10\", \"timeout\": 10}'"
   ]
  },
  {
   "cell_type": "code",
   "execution_count": 9,
   "id": "9a7c6cd1-f454-45b2-b0ad-9af32c5a691e",
   "metadata": {
    "tags": []
   },
   "outputs": [
    {
     "name": "stderr",
     "output_type": "stream",
     "text": [
      "  % Total    % Received % Xferd  Average Speed   Time    Time     Time  Current\n",
      "                                 Dload  Upload   Total   Spent    Left  Speed\n",
      "100    64  100    29  100    35   3200   3862 --:--:-- --:--:-- --:--:--  8000\n"
     ]
    },
    {
     "name": "stdout",
     "output_type": "stream",
     "text": [
      "{\"output\":\"10\",\"error\":false}"
     ]
    }
   ],
   "source": [
    "# test variable persistance\n",
    "%%bash -s $host_ip\n",
    "curl -X POST ${1}:8080/execute_code -d '{\"code\": \"print(a)\", \"timeout\": 10}'"
   ]
  },
  {
   "cell_type": "code",
   "execution_count": 10,
   "id": "862aec25-5532-45be-a9c2-e416deb8dfba",
   "metadata": {
    "tags": []
   },
   "outputs": [
    {
     "name": "stderr",
     "output_type": "stream",
     "text": [
      "  % Total    % Received % Xferd  Average Speed   Time    Time     Time  Current\n",
      "                                 Dload  Upload   Total   Spent    Left  Speed\n",
      "100   114  100    47  100    67    375    534 --:--:-- --:--:-- --:--:--   912\n"
     ]
    },
    {
     "name": "stdout",
     "output_type": "stream",
     "text": [
      "{\"output\":\"Kernel ir restarted!\",\"error\":false}"
     ]
    }
   ],
   "source": [
    "# test restart kernel\n",
    "%%bash -s $host_ip\n",
    "curl -X POST ${1}:8080/restart_kernel -d '{\"code\": \"print(\\\"Hello ok\\\")\", \"timeout\": 10, \"kernel_name\": \"ir\"}'"
   ]
  },
  {
   "cell_type": "code",
   "execution_count": 11,
   "id": "2a2f4194-1773-4866-85dd-0aa28bd10caa",
   "metadata": {
    "tags": []
   },
   "outputs": [
    {
     "name": "stderr",
     "output_type": "stream",
     "text": [
      "  % Total    % Received % Xferd  Average Speed   Time    Time     Time  Current\n",
      "                                 Dload  Upload   Total   Spent    Left  Speed\n",
      "100   349  100   349    0     0  37934      0 --:--:-- --:--:-- --:--:-- 43625\n"
     ]
    },
    {
     "name": "stdout",
     "output_type": "stream",
     "text": [
      "{\"python3\":{\"display_name\":\"Python 3 (ipykernel)\",\"language\":\"python\"},\"ir\":{\"display_name\":\"R\",\"language\":\"R\"},\"julia-1.9\":{\"display_name\":\"Julia 1.9.3\",\"language\":\"julia\"},\"javascript\":{\"display_name\":\"JavaScript (Node.js)\",\"language\":\"javascript\"},\"bash\":{\"display_name\":\"Bash\",\"language\":\"bash\"},\"java\":{\"display_name\":\"Java\",\"language\":\"java\"}}"
     ]
    }
   ],
   "source": [
    "# test listing kernel specs\n",
    "%%bash -s $host_ip\n",
    "curl ${1}:8080/list_kernel_specs"
   ]
  },
  {
   "cell_type": "code",
   "execution_count": 75,
   "id": "e996846c-b3d2-4bd4-b792-9e053db8b478",
   "metadata": {
    "tags": []
   },
   "outputs": [],
   "source": [
    "host_ip = \"internal-codenator-899847730.us-west-2.elb.amazonaws.com\"\n",
    "host_ip = \"ip-10-3-1-6.us-west-2.compute.internal\""
   ]
  },
  {
   "cell_type": "code",
   "execution_count": 94,
   "id": "2f825128-26e0-4748-9c95-5dfc1607b56a",
   "metadata": {
    "tags": []
   },
   "outputs": [],
   "source": [
    "# test java code\n",
    "python_code = \"\"\"import yfinance as yf\n",
    "import matplotlib.pyplot as plt\n",
    "\n",
    "amzn = yf.Ticker(\"AMZN\")\n",
    "hist = amzn.history(period=\"1y\")\n",
    "\n",
    "plt.plot(hist['Close'])\n",
    "plt.title('Amazon Stock Price Last Year')\n",
    "plt.xlabel('Date') \n",
    "plt.ylabel('Price ($)')\n",
    "\"\"\"\n",
    "# plt.savefig('tmp/amzn_price.png')\n",
    "# \"\"\"\n",
    "\n",
    "#java_code += \"Main.main(new String[] {})\""
   ]
  },
  {
   "cell_type": "code",
   "execution_count": 95,
   "id": "afc3eb49-7685-4c1f-b62a-a9510ef8d809",
   "metadata": {
    "tags": []
   },
   "outputs": [],
   "source": [
    "class EncryptorClass:\n",
    "    def __init__(self, key_id):\n",
    "        self.kms_client = boto3.client(\"kms\")\n",
    "        self.key_id = key_id\n",
    "    def encrypt(self, text):\n",
    "        ret = self.kms_client.encrypt(\n",
    "            KeyId=self.key_id,\n",
    "            Plaintext=text\n",
    "        )\n",
    "        return base64.b64encode(ret[\"CiphertextBlob\"]).decode()\n",
    "    def decrypt(self, cipher_text_blob):\n",
    "        ret = self.kms_client.decrypt(\n",
    "            KeyId=self.key_id,\n",
    "            CiphertextBlob=base64.b64decode(cipher_text_blob)\n",
    "        )\n",
    "        return ret[\"Plaintext\"].decode()"
   ]
  },
  {
   "cell_type": "code",
   "execution_count": 96,
   "id": "4d3d045a-49e3-46e8-adbb-16f8fa1203d6",
   "metadata": {
    "tags": []
   },
   "outputs": [],
   "source": [
    "import requests\n",
    "import json\n",
    "import boto3\n",
    "import base64\n",
    "import matplotlib as plt\n",
    "\n",
    "enc = EncryptorClass(key_id=\"alias/codenator-kms\")\n",
    "java_code_blob = enc.encrypt(python_code)\n",
    "data = {\"code\": java_code_blob, \"timeout\": 10, \"kernel_name\": \"python\"}\n",
    "req = requests.post(f\"http://{host_ip}:8080/execute_code\", data=json.dumps(data)).text\n",
    "\n"
   ]
  },
  {
   "cell_type": "code",
   "execution_count": 97,
   "id": "bbb4fc09-0c43-47b3-9228-c4a20919e5e9",
   "metadata": {
    "tags": []
   },
   "outputs": [
    {
     "data": {
      "text/plain": [
       "'{\"output\":\"Text(0, 0.5, \\'Price ($)\\')\",\"error\":false,\"files\":[]}'"
      ]
     },
     "execution_count": 97,
     "metadata": {},
     "output_type": "execute_result"
    }
   ],
   "source": [
    "req"
   ]
  },
  {
   "cell_type": "code",
   "execution_count": 43,
   "id": "834a9ee2-d265-4f08-914a-5b899d8c9fd8",
   "metadata": {
    "tags": []
   },
   "outputs": [
    {
     "name": "stdout",
     "output_type": "stream",
     "text": [
      "{'code': 'Main.main(new String[] {\"\"})', 'timeout': 10, 'kernel_name': 'java'}\n"
     ]
    },
    {
     "data": {
      "text/plain": [
       "'{\"output\":\"Hello World!\",\"error\":false}'"
      ]
     },
     "execution_count": 43,
     "metadata": {},
     "output_type": "execute_result"
    }
   ],
   "source": [
    "import requests\n",
    "import json\n",
    "data = {\"code\": \"Main.main(new String[] {\\\"\\\"})\", \"timeout\": 10, \"kernel_name\": \"java\"}\n",
    "print(data)\n",
    "requests.post(f\"http://{host_ip}:8080/execute_code\", data=json.dumps(data)).text"
   ]
  },
  {
   "cell_type": "code",
   "execution_count": 21,
   "id": "66f331dd-8847-4c1f-9e0f-539b60504776",
   "metadata": {
    "tags": []
   },
   "outputs": [
    {
     "name": "stdout",
     "output_type": "stream",
     "text": [
      "public\n",
      "{\"code\": \"public\", \"timeout\": 10, \"kernel_name\": \"java\"}\n"
     ]
    },
    {
     "name": "stderr",
     "output_type": "stream",
     "text": [
      "  % Total    % Received % Xferd  Average Speed   Time    Time     Time  Current\n",
      "                                 Dload  Upload   Total   Spent    Left  Speed\n",
      "100    29  100    21  100     8   5312   2023 --:--:-- --:--:-- --:--:--  9666\n",
      "  % Total    % Received % Xferd  Average Speed   Time    Time     Time  Current\n",
      "                                 Dload  Upload   Total   Spent    Left  Speed\n",
      "  0     0    0     0    0     0      0      0 --:--:-- --:--:-- --:--:--     0curl: (6) Could not resolve host: \"public\",\n",
      "curl: (3) URL using bad/illegal format or missing URL\n",
      "  % Total    % Received % Xferd  Average Speed   Time    Time     Time  Current\n",
      "                                 Dload  Upload   Total   Spent    Left  Speed\n",
      "  0     0    0     0    0     0      0      0 --:--:-- --:--:-- --:--:--     0curl: (6) Could not resolve host: 10,\n",
      "curl: (3) URL using bad/illegal format or missing URL\n",
      "curl: (3) unmatched close brace/bracket in URL position 7:\n",
      "\"java\"}\n",
      "      ^\n"
     ]
    },
    {
     "name": "stdout",
     "output_type": "stream",
     "text": [
      "Internal Server Error"
     ]
    },
    {
     "ename": "CalledProcessError",
     "evalue": "Command 'b'echo ${2}\\ndata=\\'{\"code\": \"\\'${2}\\'\", \"timeout\": 10, \"kernel_name\": \"java\"}\\'\\necho $data\\ncurl -X POST ${1}:8080/execute_code -d ${data}\\n'' returned non-zero exit status 3.",
     "output_type": "error",
     "traceback": [
      "\u001b[0;31m---------------------------------------------------------------------------\u001b[0m",
      "\u001b[0;31mCalledProcessError\u001b[0m                        Traceback (most recent call last)",
      "Cell \u001b[0;32mIn[21], line 1\u001b[0m\n\u001b[0;32m----> 1\u001b[0m \u001b[43mget_ipython\u001b[49m\u001b[43m(\u001b[49m\u001b[43m)\u001b[49m\u001b[38;5;241;43m.\u001b[39;49m\u001b[43mrun_cell_magic\u001b[49m\u001b[43m(\u001b[49m\u001b[38;5;124;43m'\u001b[39;49m\u001b[38;5;124;43mbash\u001b[39;49m\u001b[38;5;124;43m'\u001b[39;49m\u001b[43m,\u001b[49m\u001b[43m \u001b[49m\u001b[38;5;124;43m'\u001b[39;49m\u001b[38;5;124;43m-s $host_ip $java_code\u001b[39;49m\u001b[38;5;124;43m'\u001b[39;49m\u001b[43m,\u001b[49m\u001b[43m \u001b[49m\u001b[38;5;124;43m'\u001b[39;49m\u001b[38;5;124;43mecho $\u001b[39;49m\u001b[38;5;132;43;01m{2}\u001b[39;49;00m\u001b[38;5;130;43;01m\\n\u001b[39;49;00m\u001b[38;5;124;43mdata=\u001b[39;49m\u001b[38;5;130;43;01m\\'\u001b[39;49;00m\u001b[38;5;124;43m{\u001b[39;49m\u001b[38;5;124;43m\"\u001b[39;49m\u001b[38;5;124;43mcode\u001b[39;49m\u001b[38;5;124;43m\"\u001b[39;49m\u001b[38;5;124;43m: \u001b[39;49m\u001b[38;5;124;43m\"\u001b[39;49m\u001b[38;5;130;43;01m\\'\u001b[39;49;00m\u001b[38;5;124;43m$\u001b[39;49m\u001b[38;5;132;43;01m{2}\u001b[39;49;00m\u001b[38;5;130;43;01m\\'\u001b[39;49;00m\u001b[38;5;124;43m\"\u001b[39;49m\u001b[38;5;124;43m, \u001b[39;49m\u001b[38;5;124;43m\"\u001b[39;49m\u001b[38;5;124;43mtimeout\u001b[39;49m\u001b[38;5;124;43m\"\u001b[39;49m\u001b[38;5;124;43m: 10, \u001b[39;49m\u001b[38;5;124;43m\"\u001b[39;49m\u001b[38;5;124;43mkernel_name\u001b[39;49m\u001b[38;5;124;43m\"\u001b[39;49m\u001b[38;5;124;43m: \u001b[39;49m\u001b[38;5;124;43m\"\u001b[39;49m\u001b[38;5;124;43mjava\u001b[39;49m\u001b[38;5;124;43m\"\u001b[39;49m\u001b[38;5;124;43m}\u001b[39;49m\u001b[38;5;130;43;01m\\'\u001b[39;49;00m\u001b[38;5;130;43;01m\\n\u001b[39;49;00m\u001b[38;5;124;43mecho $data\u001b[39;49m\u001b[38;5;130;43;01m\\n\u001b[39;49;00m\u001b[38;5;124;43mcurl -X POST $\u001b[39;49m\u001b[38;5;132;43;01m{1}\u001b[39;49;00m\u001b[38;5;124;43m:8080/execute_code -d $\u001b[39;49m\u001b[38;5;132;43;01m{data}\u001b[39;49;00m\u001b[38;5;130;43;01m\\n\u001b[39;49;00m\u001b[38;5;124;43m'\u001b[39;49m\u001b[43m)\u001b[49m\n",
      "File \u001b[0;32m/opt/conda/lib/python3.10/site-packages/IPython/core/interactiveshell.py:2493\u001b[0m, in \u001b[0;36mInteractiveShell.run_cell_magic\u001b[0;34m(self, magic_name, line, cell)\u001b[0m\n\u001b[1;32m   2491\u001b[0m \u001b[38;5;28;01mwith\u001b[39;00m \u001b[38;5;28mself\u001b[39m\u001b[38;5;241m.\u001b[39mbuiltin_trap:\n\u001b[1;32m   2492\u001b[0m     args \u001b[38;5;241m=\u001b[39m (magic_arg_s, cell)\n\u001b[0;32m-> 2493\u001b[0m     result \u001b[38;5;241m=\u001b[39m \u001b[43mfn\u001b[49m\u001b[43m(\u001b[49m\u001b[38;5;241;43m*\u001b[39;49m\u001b[43margs\u001b[49m\u001b[43m,\u001b[49m\u001b[43m \u001b[49m\u001b[38;5;241;43m*\u001b[39;49m\u001b[38;5;241;43m*\u001b[39;49m\u001b[43mkwargs\u001b[49m\u001b[43m)\u001b[49m\n\u001b[1;32m   2495\u001b[0m \u001b[38;5;66;03m# The code below prevents the output from being displayed\u001b[39;00m\n\u001b[1;32m   2496\u001b[0m \u001b[38;5;66;03m# when using magics with decorator @output_can_be_silenced\u001b[39;00m\n\u001b[1;32m   2497\u001b[0m \u001b[38;5;66;03m# when the last Python token in the expression is a ';'.\u001b[39;00m\n\u001b[1;32m   2498\u001b[0m \u001b[38;5;28;01mif\u001b[39;00m \u001b[38;5;28mgetattr\u001b[39m(fn, magic\u001b[38;5;241m.\u001b[39mMAGIC_OUTPUT_CAN_BE_SILENCED, \u001b[38;5;28;01mFalse\u001b[39;00m):\n",
      "File \u001b[0;32m/opt/conda/lib/python3.10/site-packages/IPython/core/magics/script.py:154\u001b[0m, in \u001b[0;36mScriptMagics._make_script_magic.<locals>.named_script_magic\u001b[0;34m(line, cell)\u001b[0m\n\u001b[1;32m    152\u001b[0m \u001b[38;5;28;01melse\u001b[39;00m:\n\u001b[1;32m    153\u001b[0m     line \u001b[38;5;241m=\u001b[39m script\n\u001b[0;32m--> 154\u001b[0m \u001b[38;5;28;01mreturn\u001b[39;00m \u001b[38;5;28;43mself\u001b[39;49m\u001b[38;5;241;43m.\u001b[39;49m\u001b[43mshebang\u001b[49m\u001b[43m(\u001b[49m\u001b[43mline\u001b[49m\u001b[43m,\u001b[49m\u001b[43m \u001b[49m\u001b[43mcell\u001b[49m\u001b[43m)\u001b[49m\n",
      "File \u001b[0;32m/opt/conda/lib/python3.10/site-packages/IPython/core/magics/script.py:314\u001b[0m, in \u001b[0;36mScriptMagics.shebang\u001b[0;34m(self, line, cell)\u001b[0m\n\u001b[1;32m    309\u001b[0m \u001b[38;5;28;01mif\u001b[39;00m args\u001b[38;5;241m.\u001b[39mraise_error \u001b[38;5;129;01mand\u001b[39;00m p\u001b[38;5;241m.\u001b[39mreturncode \u001b[38;5;241m!=\u001b[39m \u001b[38;5;241m0\u001b[39m:\n\u001b[1;32m    310\u001b[0m     \u001b[38;5;66;03m# If we get here and p.returncode is still None, we must have\u001b[39;00m\n\u001b[1;32m    311\u001b[0m     \u001b[38;5;66;03m# killed it but not yet seen its return code. We don't wait for it,\u001b[39;00m\n\u001b[1;32m    312\u001b[0m     \u001b[38;5;66;03m# in case it's stuck in uninterruptible sleep. -9 = SIGKILL\u001b[39;00m\n\u001b[1;32m    313\u001b[0m     rc \u001b[38;5;241m=\u001b[39m p\u001b[38;5;241m.\u001b[39mreturncode \u001b[38;5;129;01mor\u001b[39;00m \u001b[38;5;241m-\u001b[39m\u001b[38;5;241m9\u001b[39m\n\u001b[0;32m--> 314\u001b[0m     \u001b[38;5;28;01mraise\u001b[39;00m CalledProcessError(rc, cell)\n",
      "\u001b[0;31mCalledProcessError\u001b[0m: Command 'b'echo ${2}\\ndata=\\'{\"code\": \"\\'${2}\\'\", \"timeout\": 10, \"kernel_name\": \"java\"}\\'\\necho $data\\ncurl -X POST ${1}:8080/execute_code -d ${data}\\n'' returned non-zero exit status 3."
     ]
    }
   ],
   "source": [
    "%%bash -s $host_ip $java_code\n",
    "echo ${2}\n",
    "data='{\"code\": \"'${2}'\", \"timeout\": 10, \"kernel_name\": \"java\"}'\n",
    "echo $data\n",
    "curl -X POST ${1}:8080/execute_code -d ${data}"
   ]
  },
  {
   "cell_type": "code",
   "execution_count": 219,
   "id": "a75ff3d6-b42d-4cb0-8778-30f4b38f5031",
   "metadata": {
    "tags": []
   },
   "outputs": [
    {
     "name": "stdout",
     "output_type": "stream",
     "text": [
      "{\"output\":\"1\",\"error\":false}"
     ]
    }
   ],
   "source": [
    "%%bash -s $host_ip\n",
    "curl -X POST ${1}:8080/execute_code -d '{\"code\": \"echo 1\", \"timeout\": 10, \"kernel_name\": \"bash\"}'"
   ]
  },
  {
   "cell_type": "code",
   "execution_count": 12,
   "id": "e00f4ff1-fc68-47a9-a310-24367609abe7",
   "metadata": {
    "tags": []
   },
   "outputs": [
    {
     "name": "stderr",
     "output_type": "stream",
     "text": [
      "  % Total    % Received % Xferd  Average Speed   Time    Time     Time  Current\n",
      "                                 Dload  Upload   Total   Spent    Left  Speed\n",
      "100    99  100    28  100    71     26     66  0:00:01  0:00:01 --:--:--    93\n"
     ]
    },
    {
     "name": "stdout",
     "output_type": "stream",
     "text": [
      "{\"output\":\"6\",\"error\":false}"
     ]
    }
   ],
   "source": [
    "%%bash -s $host_ip\n",
    "curl -X POST ${1}:8080/execute_code -d '{\"code\": \"(int) eval(\\\"1+2\\\")+3\", \"timeout\": 10, \"kernel_name\": \"java\"}'"
   ]
  },
  {
   "cell_type": "code",
   "execution_count": 246,
   "id": "5b95cf88-d167-4626-ac94-14cddc443c88",
   "metadata": {
    "tags": []
   },
   "outputs": [
    {
     "name": "stdout",
     "output_type": "stream",
     "text": [
      "{\"output\":\"Hello World\",\"error\":false}"
     ]
    }
   ],
   "source": [
    "%%bash -s $host_ip\n",
    "curl -X POST ${1}:8080/execute_code -d '{\"code\": \"console.log(\\\"Hello World\\\");\", \"timeout\": 10, \"kernel_name\": \"javascript\"}'\n"
   ]
  },
  {
   "cell_type": "code",
   "execution_count": 19,
   "id": "ee87be0f-2063-424c-8f3a-8ad6b6d13f8c",
   "metadata": {
    "tags": []
   },
   "outputs": [
    {
     "name": "stdout",
     "output_type": "stream",
     "text": [
      "curl: (6) Could not resolve host: ip-172-31-65-185.ap-southeast-2.compute.internal\n"
     ]
    }
   ],
   "source": [
    "%%bash -s $host_ip\n",
    "curl ${1}:8080/list_kernel_specs"
   ]
  },
  {
   "cell_type": "code",
   "execution_count": 45,
   "id": "f60bc132-4e83-47ba-af5f-8594a80c027a",
   "metadata": {
    "tags": []
   },
   "outputs": [
    {
     "name": "stderr",
     "output_type": "stream",
     "text": [
      "  % Total    % Received % Xferd  Average Speed   Time    Time     Time  Current\n",
      "                                 Dload  Upload   Total   Spent    Left  Speed\n",
      "100   143  100    34  100   109    393   1260 --:--:-- --:--:-- --:--:--  1662\n"
     ]
    },
    {
     "name": "stdout",
     "output_type": "stream",
     "text": [
      "{\"output\":\"[1] 3.4\",\"error\":false}"
     ]
    }
   ],
   "source": [
    "%%bash -s $host_ip\n",
    "curl -X POST ${1}:8080/execute_code -d '{\"code\": \"numbers <- c(1, 4, 7, 3, 2)\\navg <- mean(numbers)\\nprint(avg)\", \"timeout\": 10, \"kernel_name\": \"ir\"}'"
   ]
  },
  {
   "cell_type": "code",
   "execution_count": 40,
   "id": "4244d9a5-43d8-43fc-8e18-d510dafec025",
   "metadata": {
    "tags": []
   },
   "outputs": [
    {
     "name": "stdout",
     "output_type": "stream",
     "text": [
      "numbers <- c(1, 4, 7, 3, 2)\\navg <- mean(numbers)\\nprint(avg)\n"
     ]
    }
   ],
   "source": [
    "!A=$\"numbers <- c(1, 4, 7, 3, 2)\\\\navg <- mean(numbers)\\nprint(avg)\"; echo $A"
   ]
  },
  {
   "cell_type": "code",
   "execution_count": null,
   "id": "ab1976db-5bf0-4e6c-acbb-924f376ae3ad",
   "metadata": {
    "tags": []
   },
   "outputs": [],
   "source": [
    "%%bash -s $host_ip\n",
    "curl -X POST ${1}:8080/execute_code -d '{\"code\": \"print(\\\"Hello World!\\\")\", \"timeout\": 10, \"kernel_name\": \"ir\"}'"
   ]
  },
  {
   "cell_type": "code",
   "execution_count": 3,
   "id": "e4310c85-942f-44a2-8566-df8f4063b0a3",
   "metadata": {
    "tags": []
   },
   "outputs": [],
   "source": [
    "from jupyter_client import run_kernel"
   ]
  },
  {
   "cell_type": "code",
   "execution_count": 4,
   "id": "1162e343-a966-4abd-95ef-145e34e80d4b",
   "metadata": {
    "tags": []
   },
   "outputs": [
    {
     "name": "stdout",
     "output_type": "stream",
     "text": [
      "Available kernels:\n",
      "  python3    /opt/conda/share/jupyter/kernels/python3\n"
     ]
    }
   ],
   "source": [
    "!jupyter kernelspec list"
   ]
  },
  {
   "cell_type": "code",
   "execution_count": 34,
   "id": "b33940c1-e288-4f7b-b8ae-c87fac4a60b8",
   "metadata": {
    "tags": []
   },
   "outputs": [],
   "source": [
    "a = run_kernel(kernel_name=\"python3\")"
   ]
  },
  {
   "cell_type": "code",
   "execution_count": 29,
   "id": "b13d20d2-9634-441b-bb44-3e04b0639e38",
   "metadata": {
    "tags": []
   },
   "outputs": [
    {
     "data": {
      "text/plain": [
       "{'gen': <generator object run_kernel at 0x7f567824b1b0>,\n",
       " 'func': <function jupyter_client.manager.run_kernel(**kwargs: Any) -> Iterator[jupyter_client.client.KernelClient]>,\n",
       " 'args': (),\n",
       " 'kwds': {'kernel_name': 'python3'},\n",
       " '__doc__': 'Context manager to create a kernel in a subprocess.\\n\\n    The kernel is shut down when the context exits.\\n\\n    Returns\\n    -------\\n    kernel_client: connected KernelClient instance\\n    '}"
      ]
     },
     "execution_count": 29,
     "metadata": {},
     "output_type": "execute_result"
    }
   ],
   "source": [
    "a.__dict__"
   ]
  },
  {
   "cell_type": "code",
   "execution_count": 35,
   "id": "4ae7974a-2fd7-4b99-8160-73dccae92e57",
   "metadata": {
    "tags": []
   },
   "outputs": [
    {
     "name": "stdout",
     "output_type": "stream",
     "text": [
      "3ecbd2d1-1c918faad191aa2ba8d110aa_1031_2\n",
      "{'header': {'msg_id': '028c91b8-c7e3980990078315a2ee15b2_1822_9', 'msg_type': 'stream', 'username': 'username', 'session': '028c91b8-c7e3980990078315a2ee15b2', 'date': datetime.datetime(2023, 11, 16, 4, 15, 36, 317538, tzinfo=tzlocal()), 'version': '5.3'}, 'msg_id': '028c91b8-c7e3980990078315a2ee15b2_1822_9', 'msg_type': 'stream', 'parent_header': {'msg_id': '3ecbd2d1-1c918faad191aa2ba8d110aa_1031_2', 'msg_type': 'execute_request', 'username': 'username', 'session': '3ecbd2d1-1c918faad191aa2ba8d110aa', 'date': datetime.datetime(2023, 11, 16, 4, 15, 36, 306969, tzinfo=tzlocal()), 'version': '5.3'}, 'metadata': {}, 'content': {'name': 'stdout', 'text': 'hello\\n'}, 'buffers': []}\n"
     ]
    }
   ],
   "source": [
    "a1 = next(a.gen)\n",
    "print(a1.execute(\"print('hello')\"))\n",
    "while True:\n",
    "    try:\n",
    "        msg = a1.get_iopub_msg(timeout=20)\n",
    "\n",
    "        msg_type = msg[\"header\"][\"msg_type\"]\n",
    "        content = msg[\"content\"]\n",
    "\n",
    "        if msg_type == \"execute_result\":\n",
    "            outputs.append(content[\"data\"])\n",
    "        elif msg_type == \"stream\":\n",
    "            outputs.append(content[\"text\"])\n",
    "        elif msg_type == \"error\":\n",
    "            error_flag = True\n",
    "            outputs.append(content[\"traceback\"])\n",
    "\n",
    "        # If the execution state of the kernel is idle, it means the cell finished executing\n",
    "        if msg_type == \"status\" and content[\"execution_state\"] == \"idle\":\n",
    "            break\n",
    "    except:\n",
    "        break\n",
    "print(msg)"
   ]
  },
  {
   "cell_type": "code",
   "execution_count": 31,
   "id": "a3c00a85-b393-464c-ad8a-c4f8edc1d252",
   "metadata": {
    "tags": []
   },
   "outputs": [
    {
     "data": {
      "text/plain": [
       "<contextlib._GeneratorContextManager at 0x7f56782cf730>"
      ]
     },
     "execution_count": 31,
     "metadata": {},
     "output_type": "execute_result"
    }
   ],
   "source": [
    "a"
   ]
  },
  {
   "cell_type": "code",
   "execution_count": null,
   "id": "1c02ba8c-9d38-4d3d-9289-ebc93980e3e6",
   "metadata": {},
   "outputs": [],
   "source": [
    "class JupyterCell:\n",
    "    def clean_output(self, outputs):\n",
    "        outputs_only_str = list()\n",
    "        for i in outputs:\n",
    "            if type(i) == dict:\n",
    "                if \"text/plain\" in list(i.keys()):\n",
    "                    outputs_only_str.append(i[\"text/plain\"])\n",
    "            elif type(i) == str:\n",
    "                outputs_only_str.append(i)\n",
    "            elif type(i) == list:\n",
    "                error_msg = \"\\n\".join(i)\n",
    "                error_msg = re.sub(r\"\\x1b\\[.*?m\", \"\", error_msg)\n",
    "                outputs_only_str.append(error_msg)\n",
    "\n",
    "        return \"\\n\".join(outputs_only_str).strip()\n",
    "    def run_cell"
   ]
  },
  {
   "cell_type": "code",
   "execution_count": 71,
   "id": "1cb6a88e-b0e8-49f3-9c20-00576fb71f33",
   "metadata": {
    "tags": []
   },
   "outputs": [
    {
     "data": {
      "text/plain": [
       "('Hello World!', False)"
      ]
     },
     "execution_count": 71,
     "metadata": {},
     "output_type": "execute_result"
    }
   ],
   "source": [
    "class JupyterNotebook:\n",
    "    def __init__(self, kernel_name: str = \"python3\", startup_timeout: float = 60):\n",
    "        self.kc = run_kernel(kernel_name=kernel_name).gen\n",
    "\n",
    "    def clean_output(self, outputs):\n",
    "        outputs_only_str = list()\n",
    "        for i in outputs:\n",
    "            if type(i) == dict:\n",
    "                if \"text/plain\" in list(i.keys()):\n",
    "                    outputs_only_str.append(i[\"text/plain\"])\n",
    "            elif type(i) == str:\n",
    "                outputs_only_str.append(i)\n",
    "            elif type(i) == list:\n",
    "                error_msg = \"\\n\".join(i)\n",
    "                error_msg = re.sub(r\"\\x1b\\[.*?m\", \"\", error_msg)\n",
    "                outputs_only_str.append(error_msg)\n",
    "\n",
    "        return \"\\n\".join(outputs_only_str).strip()\n",
    "\n",
    "    def run_cell(self, code_string, timeout=10):\n",
    "        # Execute the code and get the execution count\n",
    "        outputs = []\n",
    "        error_flag = False\n",
    "        client = next(self.kc)\n",
    "        msg_id = client.execute(code_string)\n",
    "\n",
    "        while True:\n",
    "            try:\n",
    "                msg = client.get_iopub_msg(timeout=timeout)\n",
    "\n",
    "                msg_type = msg[\"header\"][\"msg_type\"]\n",
    "                content = msg[\"content\"]\n",
    "\n",
    "                if msg_type == \"execute_result\":\n",
    "                    outputs.append(content[\"data\"])\n",
    "                elif msg_type == \"stream\":\n",
    "                    outputs.append(content[\"text\"])\n",
    "                elif msg_type == \"error\":\n",
    "                    error_flag = True\n",
    "                    outputs.append(content[\"traceback\"])\n",
    "\n",
    "                # If the execution state of the kernel is idle, it means the cell finished executing\n",
    "                if msg_type == \"status\" and content[\"execution_state\"] == \"idle\":\n",
    "                    break\n",
    "            except:\n",
    "                print(\"here\")\n",
    "                break\n",
    "\n",
    "        return self.clean_output(outputs), error_flag\n",
    "    \n",
    "s = JupyterNotebook()\n",
    "s.run_cell(\"print('Hello World!')\", 20) "
   ]
  },
  {
   "cell_type": "code",
   "execution_count": 17,
   "id": "8460a762-002a-4531-b92a-82c0d15c3f58",
   "metadata": {
    "tags": []
   },
   "outputs": [
    {
     "name": "stdout",
     "output_type": "stream",
     "text": [
      "{\n",
      "    \"CiphertextBlob\": \"AQICAHj3gec2W6nF4KJB3uFR620ZNIzpM1T435NhlyhAHBT8UQGOk4lcSioVCNmjVqumURmZAAAAYjBgBgkqhkiG9w0BBwagUzBRAgEAMEwGCSqGSIb3DQEHATAeBglghkgBZQMEAS4wEQQM+i5+mfUfCH1SyH8aAgEQgB/MFKYReUOaiKMNM4GftNjNoYz5SW9eLiLJi3vED0uz\",\n",
      "    \"KeyId\": \"arn:aws:kms:us-west-2:871623330196:key/6438549b-def7-4035-92b8-00e6d1d534bf\",\n",
      "    \"EncryptionAlgorithm\": \"SYMMETRIC_DEFAULT\"\n",
      "}\n"
     ]
    }
   ],
   "source": [
    "!aws kms encrypt --plaintext \"here\" --key-id alias/codenator-kms"
   ]
  },
  {
   "cell_type": "code",
   "execution_count": 19,
   "id": "5365304e-6155-4a33-bba1-0a9f9581a306",
   "metadata": {
    "tags": []
   },
   "outputs": [
    {
     "name": "stdout",
     "output_type": "stream",
     "text": [
      "here"
     ]
    }
   ],
   "source": [
    "!aws kms decrypt --ciphertext-blob fileb://<(echo  \"AQICAHj3gec2W6nF4KJB3uFR620ZNIzpM1T435NhlyhAHBT8UQGOk4lcSioVCNmjVqumURmZAAAAYjBgBgkqhkiG9w0BBwagUzBRAgEAMEwGCSqGSIb3DQEHATAeBglghkgBZQMEAS4wEQQM+i5+mfUfCH1SyH8aAgEQgB/MFKYReUOaiKMNM4GftNjNoYz5SW9eLiLJi3vED0uz\" | base64 -d) --key-id alias/codenator-kms --output text --query Plaintext | base64 -d"
   ]
  },
  {
   "cell_type": "code",
   "execution_count": 49,
   "id": "d88ff5cd-5de0-434f-9a3c-fcac490c1270",
   "metadata": {
    "tags": []
   },
   "outputs": [],
   "source": [
    "import boto3\n",
    "\n",
    "input_text = \"some text\"\n",
    "\n",
    "class EncryptorClass:\n",
    "    def __init__(self, key_id):\n",
    "        self.kms_client = boto3.client(\"kms\")\n",
    "        self.key_id = key_id\n",
    "    def encrypt(self, text):\n",
    "        ret = self.kms_client.encrypt(\n",
    "            KeyId=self.key_id,\n",
    "            Plaintext=text\n",
    "        )\n",
    "        return ret[\"CiphertextBlob\"]\n",
    "    def decrypt(self, cipher_text_blob):\n",
    "        ret = self.kms_client.decrypt(\n",
    "            KeyId=self.key_id,\n",
    "            CiphertextBlob=cipher_text_blob\n",
    "        )\n",
    "        return ret[\"Plaintext\"].decode()\n",
    "    "
   ]
  },
  {
   "cell_type": "code",
   "execution_count": 93,
   "id": "b2727fe9-c604-4b87-89fb-ff494083aaa9",
   "metadata": {
    "tags": []
   },
   "outputs": [],
   "source": [
    "enc = EncryptorClass(\"alias/codenator-kms\")\n",
    "blob = enc.encrypt(\"print(\\\"Hello ok\\\")\")"
   ]
  },
  {
   "cell_type": "code",
   "execution_count": 94,
   "id": "31bee752-66f3-4abf-8b11-e24b70f4b51d",
   "metadata": {
    "tags": []
   },
   "outputs": [
    {
     "data": {
      "text/plain": [
       "'print(\"Hello ok\")'"
      ]
     },
     "execution_count": 94,
     "metadata": {},
     "output_type": "execute_result"
    }
   ],
   "source": [
    "enc.decrypt(blob)"
   ]
  },
  {
   "cell_type": "code",
   "execution_count": 95,
   "id": "55cbf11c-a6e9-45b0-8151-86d440f5020a",
   "metadata": {
    "tags": []
   },
   "outputs": [
    {
     "data": {
      "text/plain": [
       "b'\\x01\\x02\\x02\\x00x\\xf7\\x81\\xe76[\\xa9\\xc5\\xe0\\xa2A\\xde\\xe1Q\\xebm\\x194\\x8c\\xe93T\\xf8\\xdf\\x93a\\x97(@\\x1c\\x14\\xfcQ\\x01`\\xd6\\xd2\\x04\\x8b&\\x11B\\xf8T\\x12\\xe3\\xd8\\xaa\\x82\\xdc\\x00\\x00\\x00o0m\\x06\\t*\\x86H\\x86\\xf7\\r\\x01\\x07\\x06\\xa0`0^\\x02\\x01\\x000Y\\x06\\t*\\x86H\\x86\\xf7\\r\\x01\\x07\\x010\\x1e\\x06\\t`\\x86H\\x01e\\x03\\x04\\x01.0\\x11\\x04\\x0c\\xdaC\\x1b\\xeb\\t\\x89\\xacJ0\\xb3^\\xf4\\x02\\x01\\x10\\x80,\\xfc\\x98U\\xb3\\x8e\\xa2\\x82\\x98SpM\\x00\\xba\\xc2\\xc6\\xd8O\\xbeI\\x8dh\\xef\\x16\\x8bx)M\\x958\\n(\\x06\\x9fO\\r\\xc2\\xd3gp\\xea44\\xf1\\xe9'"
      ]
     },
     "execution_count": 95,
     "metadata": {},
     "output_type": "execute_result"
    }
   ],
   "source": [
    "blob"
   ]
  },
  {
   "cell_type": "code",
   "execution_count": 114,
   "id": "1148c0a3-5f01-4dbb-b609-917471577e08",
   "metadata": {
    "tags": []
   },
   "outputs": [
    {
     "name": "stdout",
     "output_type": "stream",
     "text": [
      "\"{code: b\\x01\\x02\\x02\\x00x\\xf7\\x81\\xe76[\\xa9\\xc5\\xe0\\xa2A\\xde\\xe1Q\\xebm\\x194\\x8c\\xe93T\\xf8\\xdf\\x93a\\x97(@\\x1c\\x14\\xfcQ\\x01`\\xd6\\xd2\\x04\\x8b&\\x11B\\xf8T\\x12\\xe3\\xd8\\xaa\\x82\\xdc\\x00\\x00\\x00o0m\\x06\\t*\\x86H\\x86\\xf7\\r\\x01\\x07\\x06\\xa0`0^\\x02\\x01\\x000Y\\x06\\t*\\x86H\\x86\\xf7\\r\\x01\\x07\\x010\\x1e\\x06\\t`\\x86H\\x01e\\x03\\x04\\x01.0\\x11\\x04\\x0c\\xdaC\\x1b\\xeb\\t\\x89\\xacJ0\\xb3^\\xf4\\x02\\x01\\x10\\x80,\\xfc\\x98U\\xb3\\x8e\\xa2\\x82\\x98SpM\\x00\\xba\\xc2\\xc6\\xd8O\\xbeI\\x8dh\\xef\\x16\\x8bx)M\\x958\\n(\\x06\\x9fO\\r\\xc2\\xd3gp\\xea44\\xf1\\xe9}\"\n"
     ]
    }
   ],
   "source": [
    "!echo \\\"{\"code\": b'\\x01\\x02\\x02\\x00x\\xf7\\x81\\xe76[\\xa9\\xc5\\xe0\\xa2A\\xde\\xe1Q\\xebm\\x194\\x8c\\xe93T\\xf8\\xdf\\x93a\\x97(@\\x1c\\x14\\xfcQ\\x01`\\xd6\\xd2\\x04\\x8b&\\x11B\\xf8T\\x12\\xe3\\xd8\\xaa\\x82\\xdc\\x00\\x00\\x00o0m\\x06\\t*\\x86H\\x86\\xf7\\r\\x01\\x07\\x06\\xa0`0^\\x02\\x01\\x000Y\\x06\\t*\\x86H\\x86\\xf7\\r\\x01\\x07\\x010\\x1e\\x06\\t`\\x86H\\x01e\\x03\\x04\\x01.0\\x11\\x04\\x0c\\xdaC\\x1b\\xeb\\t\\x89\\xacJ0\\xb3^\\xf4\\x02\\x01\\x10\\x80,\\xfc\\x98U\\xb3\\x8e\\xa2\\x82\\x98SpM\\x00\\xba\\xc2\\xc6\\xd8O\\xbeI\\x8dh\\xef\\x16\\x8bx)M\\x958\\n(\\x06\\x9fO\\r\\xc2\\xd3gp\\xea44\\xf1\\xe9'}\\\""
   ]
  },
  {
   "cell_type": "code",
   "execution_count": 25,
   "id": "d1bdfd01-0429-4392-a082-526fce905304",
   "metadata": {
    "tags": []
   },
   "outputs": [
    {
     "data": {
      "image/png": "[encoded data removed]",
      "text/plain": [
       "<Figure size 640x480 with 1 Axes>"
      ]
     },
     "metadata": {},
     "output_type": "display_data"
    }
   ],
   "source": [
    "import yfinance as yf\n",
    "import matplotlib.pyplot as plt\n",
    "\n",
    "btc = yf.Ticker(\"BTC-USD\")\n",
    "hist = btc.history(period=\"1y\")\n",
    "plt.plot(hist['Close'])\n",
    "plt.title('Bitcoin Price Over 1 Year')\n",
    "plt.xlabel('Date') \n",
    "plt.ylabel('Price (USD)')\n",
    "plt.savefig('btc_price.png')"
   ]
  },
  {
   "cell_type": "code",
   "execution_count": 22,
   "id": "765be0eb-983a-44c0-8999-ec3a8f628979",
   "metadata": {
    "tags": []
   },
   "outputs": [
    {
     "name": "stdout",
     "output_type": "stream",
     "text": [
      "Collecting yfinance\n",
      "  Obtaining dependency information for yfinance from https://files.pythonhosted.org/packages/1c/19/bf19123baf16a55fd38cbb100b5a49380b9b6db7279987034689d11254c7/yfinance-0.2.32-py2.py3-none-any.whl.metadata\n",
      "  Downloading yfinance-0.2.32-py2.py3-none-any.whl.metadata (11 kB)\n",
      "Requirement already satisfied: pandas>=1.3.0 in /opt/conda/lib/python3.10/site-packages (from yfinance) (1.4.4)\n",
      "Requirement already satisfied: numpy>=1.16.5 in /opt/conda/lib/python3.10/site-packages (from yfinance) (1.26.0)\n",
      "Requirement already satisfied: requests>=2.31 in /opt/conda/lib/python3.10/site-packages (from yfinance) (2.31.0)\n",
      "Collecting multitasking>=0.0.7 (from yfinance)\n",
      "  Downloading multitasking-0.0.11-py3-none-any.whl (8.5 kB)\n",
      "Requirement already satisfied: lxml>=4.9.1 in /opt/conda/lib/python3.10/site-packages (from yfinance) (4.9.3)\n",
      "Requirement already satisfied: appdirs>=1.4.4 in /opt/conda/lib/python3.10/site-packages (from yfinance) (1.4.4)\n",
      "Collecting pytz>=2022.5 (from yfinance)\n",
      "  Obtaining dependency information for pytz>=2022.5 from https://files.pythonhosted.org/packages/32/4d/aaf7eff5deb402fd9a24a1449a8119f00d74ae9c2efa79f8ef9994261fc2/pytz-2023.3.post1-py2.py3-none-any.whl.metadata\n",
      "  Downloading pytz-2023.3.post1-py2.py3-none-any.whl.metadata (22 kB)\n",
      "Collecting frozendict>=2.3.4 (from yfinance)\n",
      "  Downloading frozendict-2.3.8-cp310-cp310-manylinux_2_17_x86_64.manylinux2014_x86_64.whl (115 kB)\n",
      "\u001b[2K     \u001b[90m━━━━━━━━━━━━━━━━━━━━━━━━━━━━━━━━━━━━━━━\u001b[0m \u001b[32m115.3/115.3 kB\u001b[0m \u001b[31m2.1 MB/s\u001b[0m eta \u001b[36m0:00:00\u001b[0m00:01\u001b[0m\n",
      "\u001b[?25hCollecting peewee>=3.16.2 (from yfinance)\n",
      "  Downloading peewee-3.17.0.tar.gz (2.9 MB)\n",
      "\u001b[2K     \u001b[90m━━━━━━━━━━━━━━━━━━━━━━━━━━━━━━━━━━━━━━━━\u001b[0m \u001b[32m2.9/2.9 MB\u001b[0m \u001b[31m21.9 MB/s\u001b[0m eta \u001b[36m0:00:00\u001b[0m00:01\u001b[0m\n",
      "\u001b[?25h  Installing build dependencies ... \u001b[?25ldone\n",
      "\u001b[?25h  Getting requirements to build wheel ... \u001b[?25ldone\n",
      "\u001b[?25h  Preparing metadata (pyproject.toml) ... \u001b[?25ldone\n",
      "\u001b[?25hRequirement already satisfied: beautifulsoup4>=4.11.1 in /opt/conda/lib/python3.10/site-packages (from yfinance) (4.11.1)\n",
      "Collecting html5lib>=1.1 (from yfinance)\n",
      "  Downloading html5lib-1.1-py2.py3-none-any.whl (112 kB)\n",
      "\u001b[2K     \u001b[90m━━━━━━━━━━━━━━━━━━━━━━━━━━━━━━━━━━━━━━━\u001b[0m \u001b[32m112.2/112.2 kB\u001b[0m \u001b[31m2.5 MB/s\u001b[0m eta \u001b[36m0:00:00\u001b[0ma \u001b[36m0:00:01\u001b[0m\n",
      "\u001b[?25hRequirement already satisfied: soupsieve>1.2 in /opt/conda/lib/python3.10/site-packages (from beautifulsoup4>=4.11.1->yfinance) (2.3.1)\n",
      "Requirement already satisfied: six>=1.9 in /opt/conda/lib/python3.10/site-packages (from html5lib>=1.1->yfinance) (1.16.0)\n",
      "Requirement already satisfied: webencodings in /opt/conda/lib/python3.10/site-packages (from html5lib>=1.1->yfinance) (0.5.1)\n",
      "Requirement already satisfied: python-dateutil>=2.8.1 in /opt/conda/lib/python3.10/site-packages (from pandas>=1.3.0->yfinance) (2.8.2)\n",
      "Requirement already satisfied: charset-normalizer<4,>=2 in /opt/conda/lib/python3.10/site-packages (from requests>=2.31->yfinance) (2.0.4)\n",
      "Requirement already satisfied: idna<4,>=2.5 in /opt/conda/lib/python3.10/site-packages (from requests>=2.31->yfinance) (3.3)\n",
      "Requirement already satisfied: urllib3<3,>=1.21.1 in /opt/conda/lib/python3.10/site-packages (from requests>=2.31->yfinance) (2.0.6)\n",
      "Requirement already satisfied: certifi>=2017.4.17 in /opt/conda/lib/python3.10/site-packages (from requests>=2.31->yfinance) (2023.7.22)\n",
      "Downloading yfinance-0.2.32-py2.py3-none-any.whl (68 kB)\n",
      "\u001b[2K   \u001b[90m━━━━━━━━━━━━━━━━━━━━━━━━━━━━━━━━━━━━━━━━\u001b[0m \u001b[32m69.0/69.0 kB\u001b[0m \u001b[31m1.3 MB/s\u001b[0m eta \u001b[36m0:00:00\u001b[0meta \u001b[36m0:00:01\u001b[0m\n",
      "\u001b[?25hDownloading pytz-2023.3.post1-py2.py3-none-any.whl (502 kB)\n",
      "\u001b[2K   \u001b[90m━━━━━━━━━━━━━━━━━━━━━━━━━━━━━━━━━━━━━━━━\u001b[0m \u001b[32m502.5/502.5 kB\u001b[0m \u001b[31m7.9 MB/s\u001b[0m eta \u001b[36m0:00:00\u001b[0m:00:01\u001b[0m\n",
      "\u001b[?25hBuilding wheels for collected packages: peewee\n",
      "  Building wheel for peewee (pyproject.toml) ... \u001b[?25ldone\n",
      "\u001b[?25h  Created wheel for peewee: filename=peewee-3.17.0-cp310-cp310-linux_x86_64.whl size=271723 sha256=bdc810735f4701ad0143f69140db6d46cdd9dcda72b4c824032d58d0d148fdec\n",
      "  Stored in directory: /root/.cache/pip/wheels/c7/70/ad/212867e96e7004265a69c4aa5dcff00a95f547a67ba26e7e76\n",
      "Successfully built peewee\n",
      "Installing collected packages: pytz, peewee, multitasking, html5lib, frozendict, yfinance\n",
      "  Attempting uninstall: pytz\n",
      "    Found existing installation: pytz 2022.1\n",
      "    Uninstalling pytz-2022.1:\n",
      "      Successfully uninstalled pytz-2022.1\n",
      "\u001b[31mERROR: pip's dependency resolver does not currently take into account all the packages that are installed. This behaviour is the source of the following dependency conflicts.\n",
      "spyder 5.3.3 requires pyqt5<5.16, which is not installed.\n",
      "spyder 5.3.3 requires pyqtwebengine<5.16, which is not installed.\n",
      "jupyterlab-server 2.10.3 requires jupyter-server~=1.4, but you have jupyter-server 2.7.3 which is incompatible.\n",
      "sagemaker-datawrangler 0.4.3 requires sagemaker-data-insights==0.4.0, but you have sagemaker-data-insights 0.3.3 which is incompatible.\n",
      "spyder 5.3.3 requires ipython<8.0.0,>=7.31.1, but you have ipython 8.16.1 which is incompatible.\n",
      "spyder 5.3.3 requires pylint<3.0,>=2.5.0, but you have pylint 3.0.1 which is incompatible.\u001b[0m\u001b[31m\n",
      "\u001b[0mSuccessfully installed frozendict-2.3.8 html5lib-1.1 multitasking-0.0.11 peewee-3.17.0 pytz-2023.3.post1 yfinance-0.2.32\n",
      "\u001b[33mWARNING: Running pip as the 'root' user can result in broken permissions and conflicting behaviour with the system package manager. It is recommended to use a virtual environment instead: https://pip.pypa.io/warnings/venv\u001b[0m\u001b[33m\n",
      "\u001b[0m\n",
      "\u001b[1m[\u001b[0m\u001b[34;49mnotice\u001b[0m\u001b[1;39;49m]\u001b[0m\u001b[39;49m A new release of pip is available: \u001b[0m\u001b[31;49m23.2.1\u001b[0m\u001b[39;49m -> \u001b[0m\u001b[32;49m23.3.1\u001b[0m\n",
      "\u001b[1m[\u001b[0m\u001b[34;49mnotice\u001b[0m\u001b[1;39;49m]\u001b[0m\u001b[39;49m To update, run: \u001b[0m\u001b[32;49mpip install --upgrade pip\u001b[0m\n"
     ]
    }
   ],
   "source": [
    "!pip install yfinance"
   ]
  },
  {
   "cell_type": "code",
   "execution_count": 28,
   "id": "f9dd98d8-8250-4d6f-9a4d-f10de6a9d5a4",
   "metadata": {
    "tags": []
   },
   "outputs": [
    {
     "data": {
      "image/png": "[encoded data removed]",
      "text/plain": [
       "<Figure size 640x480 with 1 Axes>"
      ]
     },
     "metadata": {},
     "output_type": "display_data"
    }
   ],
   "source": [
    "import yfinance as yf\n",
    "import matplotlib.pyplot as plt\n",
    "\n",
    "amzn = yf.Ticker(\"AMZN\")\n",
    "hist = amzn.history(period=\"1y\")\n",
    "\n",
    "plt.plot(hist['Close'])\n",
    "plt.title('Amazon Stock Price Last Year')\n",
    "plt.xlabel('Date') \n",
    "plt.ylabel('Price ($)')\n",
    "plt.savefig('tmp/amzn_price.png')"
   ]
  },
  {
   "cell_type": "code",
   "execution_count": 34,
   "id": "949a3885-89f5-4f3a-a187-1b22c5fd833c",
   "metadata": {
    "tags": []
   },
   "outputs": [
    {
     "name": "stdout",
     "output_type": "stream",
     "text": [
      "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\n",
      "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\n"
     ]
    }
   ],
   "source": [
    "import os\n",
    "import base64\n",
    "\n",
    "path = \"app/tmp/\"\n",
    "files = os.listdir(path)\n",
    "for file in files:\n",
    "    file_path = os.path.join(path, file)\n",
    "    if os.path.isfile(file_path):\n",
    "        with open(file_path, \"rb\") as image_file:\n",
    "            encoded_string = base64.b64encode(image_file.read())\n",
    "            print(encoded_string.decode())\n",
    "        os.remove(file_path)"
   ]
  },
  {
   "cell_type": "code",
   "execution_count": null,
   "id": "31108a7d-842f-489e-9bc9-20648de3cea3",
   "metadata": {},
   "outputs": [],
   "source": []
  }
 ],
 "metadata": {
  "availableInstances": [
   {
    "_defaultOrder": 0,
    "_isFastLaunch": true,
    "category": "General purpose",
    "gpuNum": 0,
    "hideHardwareSpecs": false,
    "memoryGiB": 4,
    "name": "ml.t3.medium",
    "vcpuNum": 2
   },
   {
    "_defaultOrder": 1,
    "_isFastLaunch": false,
    "category": "General purpose",
    "gpuNum": 0,
    "hideHardwareSpecs": false,
    "memoryGiB": 8,
    "name": "ml.t3.large",
    "vcpuNum": 2
   },
   {
    "_defaultOrder": 2,
    "_isFastLaunch": false,
    "category": "General purpose",
    "gpuNum": 0,
    "hideHardwareSpecs": false,
    "memoryGiB": 16,
    "name": "ml.t3.xlarge",
    "vcpuNum": 4
   },
   {
    "_defaultOrder": 3,
    "_isFastLaunch": false,
    "category": "General purpose",
    "gpuNum": 0,
    "hideHardwareSpecs": false,
    "memoryGiB": 32,
    "name": "ml.t3.2xlarge",
    "vcpuNum": 8
   },
   {
    "_defaultOrder": 4,
    "_isFastLaunch": true,
    "category": "General purpose",
    "gpuNum": 0,
    "hideHardwareSpecs": false,
    "memoryGiB": 8,
    "name": "ml.m5.large",
    "vcpuNum": 2
   },
   {
    "_defaultOrder": 5,
    "_isFastLaunch": false,
    "category": "General purpose",
    "gpuNum": 0,
    "hideHardwareSpecs": false,
    "memoryGiB": 16,
    "name": "ml.m5.xlarge",
    "vcpuNum": 4
   },
   {
    "_defaultOrder": 6,
    "_isFastLaunch": false,
    "category": "General purpose",
    "gpuNum": 0,
    "hideHardwareSpecs": false,
    "memoryGiB": 32,
    "name": "ml.m5.2xlarge",
    "vcpuNum": 8
   },
   {
    "_defaultOrder": 7,
    "_isFastLaunch": false,
    "category": "General purpose",
    "gpuNum": 0,
    "hideHardwareSpecs": false,
    "memoryGiB": 64,
    "name": "ml.m5.4xlarge",
    "vcpuNum": 16
   },
   {
    "_defaultOrder": 8,
    "_isFastLaunch": false,
    "category": "General purpose",
    "gpuNum": 0,
    "hideHardwareSpecs": false,
    "memoryGiB": 128,
    "name": "ml.m5.8xlarge",
    "vcpuNum": 32
   },
   {
    "_defaultOrder": 9,
    "_isFastLaunch": false,
    "category": "General purpose",
    "gpuNum": 0,
    "hideHardwareSpecs": false,
    "memoryGiB": 192,
    "name": "ml.m5.12xlarge",
    "vcpuNum": 48
   },
   {
    "_defaultOrder": 10,
    "_isFastLaunch": false,
    "category": "General purpose",
    "gpuNum": 0,
    "hideHardwareSpecs": false,
    "memoryGiB": 256,
    "name": "ml.m5.16xlarge",
    "vcpuNum": 64
   },
   {
    "_defaultOrder": 11,
    "_isFastLaunch": false,
    "category": "General purpose",
    "gpuNum": 0,
    "hideHardwareSpecs": false,
    "memoryGiB": 384,
    "name": "ml.m5.24xlarge",
    "vcpuNum": 96
   },
   {
    "_defaultOrder": 12,
    "_isFastLaunch": false,
    "category": "General purpose",
    "gpuNum": 0,
    "hideHardwareSpecs": false,
    "memoryGiB": 8,
    "name": "ml.m5d.large",
    "vcpuNum": 2
   },
   {
    "_defaultOrder": 13,
    "_isFastLaunch": false,
    "category": "General purpose",
    "gpuNum": 0,
    "hideHardwareSpecs": false,
    "memoryGiB": 16,
    "name": "ml.m5d.xlarge",
    "vcpuNum": 4
   },
   {
    "_defaultOrder": 14,
    "_isFastLaunch": false,
    "category": "General purpose",
    "gpuNum": 0,
    "hideHardwareSpecs": false,
    "memoryGiB": 32,
    "name": "ml.m5d.2xlarge",
    "vcpuNum": 8
   },
   {
    "_defaultOrder": 15,
    "_isFastLaunch": false,
    "category": "General purpose",
    "gpuNum": 0,
    "hideHardwareSpecs": false,
    "memoryGiB": 64,
    "name": "ml.m5d.4xlarge",
    "vcpuNum": 16
   },
   {
    "_defaultOrder": 16,
    "_isFastLaunch": false,
    "category": "General purpose",
    "gpuNum": 0,
    "hideHardwareSpecs": false,
    "memoryGiB": 128,
    "name": "ml.m5d.8xlarge",
    "vcpuNum": 32
   },
   {
    "_defaultOrder": 17,
    "_isFastLaunch": false,
    "category": "General purpose",
    "gpuNum": 0,
    "hideHardwareSpecs": false,
    "memoryGiB": 192,
    "name": "ml.m5d.12xlarge",
    "vcpuNum": 48
   },
   {
    "_defaultOrder": 18,
    "_isFastLaunch": false,
    "category": "General purpose",
    "gpuNum": 0,
    "hideHardwareSpecs": false,
    "memoryGiB": 256,
    "name": "ml.m5d.16xlarge",
    "vcpuNum": 64
   },
   {
    "_defaultOrder": 19,
    "_isFastLaunch": false,
    "category": "General purpose",
    "gpuNum": 0,
    "hideHardwareSpecs": false,
    "memoryGiB": 384,
    "name": "ml.m5d.24xlarge",
    "vcpuNum": 96
   },
   {
    "_defaultOrder": 20,
    "_isFastLaunch": false,
    "category": "General purpose",
    "gpuNum": 0,
    "hideHardwareSpecs": true,
    "memoryGiB": 0,
    "name": "ml.geospatial.interactive",
    "supportedImageNames": [
     "sagemaker-geospatial-v1-0"
    ],
    "vcpuNum": 0
   },
   {
    "_defaultOrder": 21,
    "_isFastLaunch": true,
    "category": "Compute optimized",
    "gpuNum": 0,
    "hideHardwareSpecs": false,
    "memoryGiB": 4,
    "name": "ml.c5.large",
    "vcpuNum": 2
   },
   {
    "_defaultOrder": 22,
    "_isFastLaunch": false,
    "category": "Compute optimized",
    "gpuNum": 0,
    "hideHardwareSpecs": false,
    "memoryGiB": 8,
    "name": "ml.c5.xlarge",
    "vcpuNum": 4
   },
   {
    "_defaultOrder": 23,
    "_isFastLaunch": false,
    "category": "Compute optimized",
    "gpuNum": 0,
    "hideHardwareSpecs": false,
    "memoryGiB": 16,
    "name": "ml.c5.2xlarge",
    "vcpuNum": 8
   },
   {
    "_defaultOrder": 24,
    "_isFastLaunch": false,
    "category": "Compute optimized",
    "gpuNum": 0,
    "hideHardwareSpecs": false,
    "memoryGiB": 32,
    "name": "ml.c5.4xlarge",
    "vcpuNum": 16
   },
   {
    "_defaultOrder": 25,
    "_isFastLaunch": false,
    "category": "Compute optimized",
    "gpuNum": 0,
    "hideHardwareSpecs": false,
    "memoryGiB": 72,
    "name": "ml.c5.9xlarge",
    "vcpuNum": 36
   },
   {
    "_defaultOrder": 26,
    "_isFastLaunch": false,
    "category": "Compute optimized",
    "gpuNum": 0,
    "hideHardwareSpecs": false,
    "memoryGiB": 96,
    "name": "ml.c5.12xlarge",
    "vcpuNum": 48
   },
   {
    "_defaultOrder": 27,
    "_isFastLaunch": false,
    "category": "Compute optimized",
    "gpuNum": 0,
    "hideHardwareSpecs": false,
    "memoryGiB": 144,
    "name": "ml.c5.18xlarge",
    "vcpuNum": 72
   },
   {
    "_defaultOrder": 28,
    "_isFastLaunch": false,
    "category": "Compute optimized",
    "gpuNum": 0,
    "hideHardwareSpecs": false,
    "memoryGiB": 192,
    "name": "ml.c5.24xlarge",
    "vcpuNum": 96
   },
   {
    "_defaultOrder": 29,
    "_isFastLaunch": true,
    "category": "Accelerated computing",
    "gpuNum": 1,
    "hideHardwareSpecs": false,
    "memoryGiB": 16,
    "name": "ml.g4dn.xlarge",
    "vcpuNum": 4
   },
   {
    "_defaultOrder": 30,
    "_isFastLaunch": false,
    "category": "Accelerated computing",
    "gpuNum": 1,
    "hideHardwareSpecs": false,
    "memoryGiB": 32,
    "name": "ml.g4dn.2xlarge",
    "vcpuNum": 8
   },
   {
    "_defaultOrder": 31,
    "_isFastLaunch": false,
    "category": "Accelerated computing",
    "gpuNum": 1,
    "hideHardwareSpecs": false,
    "memoryGiB": 64,
    "name": "ml.g4dn.4xlarge",
    "vcpuNum": 16
   },
   {
    "_defaultOrder": 32,
    "_isFastLaunch": false,
    "category": "Accelerated computing",
    "gpuNum": 1,
    "hideHardwareSpecs": false,
    "memoryGiB": 128,
    "name": "ml.g4dn.8xlarge",
    "vcpuNum": 32
   },
   {
    "_defaultOrder": 33,
    "_isFastLaunch": false,
    "category": "Accelerated computing",
    "gpuNum": 4,
    "hideHardwareSpecs": false,
    "memoryGiB": 192,
    "name": "ml.g4dn.12xlarge",
    "vcpuNum": 48
   },
   {
    "_defaultOrder": 34,
    "_isFastLaunch": false,
    "category": "Accelerated computing",
    "gpuNum": 1,
    "hideHardwareSpecs": false,
    "memoryGiB": 256,
    "name": "ml.g4dn.16xlarge",
    "vcpuNum": 64
   },
   {
    "_defaultOrder": 35,
    "_isFastLaunch": false,
    "category": "Accelerated computing",
    "gpuNum": 1,
    "hideHardwareSpecs": false,
    "memoryGiB": 61,
    "name": "ml.p3.2xlarge",
    "vcpuNum": 8
   },
   {
    "_defaultOrder": 36,
    "_isFastLaunch": false,
    "category": "Accelerated computing",
    "gpuNum": 4,
    "hideHardwareSpecs": false,
    "memoryGiB": 244,
    "name": "ml.p3.8xlarge",
    "vcpuNum": 32
   },
   {
    "_defaultOrder": 37,
    "_isFastLaunch": false,
    "category": "Accelerated computing",
    "gpuNum": 8,
    "hideHardwareSpecs": false,
    "memoryGiB": 488,
    "name": "ml.p3.16xlarge",
    "vcpuNum": 64
   },
   {
    "_defaultOrder": 38,
    "_isFastLaunch": false,
    "category": "Accelerated computing",
    "gpuNum": 8,
    "hideHardwareSpecs": false,
    "memoryGiB": 768,
    "name": "ml.p3dn.24xlarge",
    "vcpuNum": 96
   },
   {
    "_defaultOrder": 39,
    "_isFastLaunch": false,
    "category": "Memory Optimized",
    "gpuNum": 0,
    "hideHardwareSpecs": false,
    "memoryGiB": 16,
    "name": "ml.r5.large",
    "vcpuNum": 2
   },
   {
    "_defaultOrder": 40,
    "_isFastLaunch": false,
    "category": "Memory Optimized",
    "gpuNum": 0,
    "hideHardwareSpecs": false,
    "memoryGiB": 32,
    "name": "ml.r5.xlarge",
    "vcpuNum": 4
   },
   {
    "_defaultOrder": 41,
    "_isFastLaunch": false,
    "category": "Memory Optimized",
    "gpuNum": 0,
    "hideHardwareSpecs": false,
    "memoryGiB": 64,
    "name": "ml.r5.2xlarge",
    "vcpuNum": 8
   },
   {
    "_defaultOrder": 42,
    "_isFastLaunch": false,
    "category": "Memory Optimized",
    "gpuNum": 0,
    "hideHardwareSpecs": false,
    "memoryGiB": 128,
    "name": "ml.r5.4xlarge",
    "vcpuNum": 16
   },
   {
    "_defaultOrder": 43,
    "_isFastLaunch": false,
    "category": "Memory Optimized",
    "gpuNum": 0,
    "hideHardwareSpecs": false,
    "memoryGiB": 256,
    "name": "ml.r5.8xlarge",
    "vcpuNum": 32
   },
   {
    "_defaultOrder": 44,
    "_isFastLaunch": false,
    "category": "Memory Optimized",
    "gpuNum": 0,
    "hideHardwareSpecs": false,
    "memoryGiB": 384,
    "name": "ml.r5.12xlarge",
    "vcpuNum": 48
   },
   {
    "_defaultOrder": 45,
    "_isFastLaunch": false,
    "category": "Memory Optimized",
    "gpuNum": 0,
    "hideHardwareSpecs": false,
    "memoryGiB": 512,
    "name": "ml.r5.16xlarge",
    "vcpuNum": 64
   },
   {
    "_defaultOrder": 46,
    "_isFastLaunch": false,
    "category": "Memory Optimized",
    "gpuNum": 0,
    "hideHardwareSpecs": false,
    "memoryGiB": 768,
    "name": "ml.r5.24xlarge",
    "vcpuNum": 96
   },
   {
    "_defaultOrder": 47,
    "_isFastLaunch": false,
    "category": "Accelerated computing",
    "gpuNum": 1,
    "hideHardwareSpecs": false,
    "memoryGiB": 16,
    "name": "ml.g5.xlarge",
    "vcpuNum": 4
   },
   {
    "_defaultOrder": 48,
    "_isFastLaunch": false,
    "category": "Accelerated computing",
    "gpuNum": 1,
    "hideHardwareSpecs": false,
    "memoryGiB": 32,
    "name": "ml.g5.2xlarge",
    "vcpuNum": 8
   },
   {
    "_defaultOrder": 49,
    "_isFastLaunch": false,
    "category": "Accelerated computing",
    "gpuNum": 1,
    "hideHardwareSpecs": false,
    "memoryGiB": 64,
    "name": "ml.g5.4xlarge",
    "vcpuNum": 16
   },
   {
    "_defaultOrder": 50,
    "_isFastLaunch": false,
    "category": "Accelerated computing",
    "gpuNum": 1,
    "hideHardwareSpecs": false,
    "memoryGiB": 128,
    "name": "ml.g5.8xlarge",
    "vcpuNum": 32
   },
   {
    "_defaultOrder": 51,
    "_isFastLaunch": false,
    "category": "Accelerated computing",
    "gpuNum": 1,
    "hideHardwareSpecs": false,
    "memoryGiB": 256,
    "name": "ml.g5.16xlarge",
    "vcpuNum": 64
   },
   {
    "_defaultOrder": 52,
    "_isFastLaunch": false,
    "category": "Accelerated computing",
    "gpuNum": 4,
    "hideHardwareSpecs": false,
    "memoryGiB": 192,
    "name": "ml.g5.12xlarge",
    "vcpuNum": 48
   },
   {
    "_defaultOrder": 53,
    "_isFastLaunch": false,
    "category": "Accelerated computing",
    "gpuNum": 4,
    "hideHardwareSpecs": false,
    "memoryGiB": 384,
    "name": "ml.g5.24xlarge",
    "vcpuNum": 96
   },
   {
    "_defaultOrder": 54,
    "_isFastLaunch": false,
    "category": "Accelerated computing",
    "gpuNum": 8,
    "hideHardwareSpecs": false,
    "memoryGiB": 768,
    "name": "ml.g5.48xlarge",
    "vcpuNum": 192
   },
   {
    "_defaultOrder": 55,
    "_isFastLaunch": false,
    "category": "Accelerated computing",
    "gpuNum": 8,
    "hideHardwareSpecs": false,
    "memoryGiB": 1152,
    "name": "ml.p4d.24xlarge",
    "vcpuNum": 96
   },
   {
    "_defaultOrder": 56,
    "_isFastLaunch": false,
    "category": "Accelerated computing",
    "gpuNum": 8,
    "hideHardwareSpecs": false,
    "memoryGiB": 1152,
    "name": "ml.p4de.24xlarge",
    "vcpuNum": 96
   },
   {
    "_defaultOrder": 57,
    "_isFastLaunch": false,
    "category": "Accelerated computing",
    "gpuNum": 0,
    "hideHardwareSpecs": false,
    "memoryGiB": 32,
    "name": "ml.trn1.2xlarge",
    "vcpuNum": 8
   },
   {
    "_defaultOrder": 58,
    "_isFastLaunch": false,
    "category": "Accelerated computing",
    "gpuNum": 0,
    "hideHardwareSpecs": false,
    "memoryGiB": 512,
    "name": "ml.trn1.32xlarge",
    "vcpuNum": 128
   },
   {
    "_defaultOrder": 59,
    "_isFastLaunch": false,
    "category": "Accelerated computing",
    "gpuNum": 0,
    "hideHardwareSpecs": false,
    "memoryGiB": 512,
    "name": "ml.trn1n.32xlarge",
    "vcpuNum": 128
   }
  ],
  "instance_type": "ml.t3.medium",
  "kernelspec": {
   "display_name": "Python 3 (Data Science 3.0)",
   "language": "python",
   "name": "python3__SAGEMAKER_INTERNAL__arn:aws:sagemaker:us-west-2:236514542706:image/sagemaker-data-science-310-v1"
  },
  "language_info": {
   "codemirror_mode": {
    "name": "ipython",
    "version": 3
   },
   "file_extension": ".py",
   "mimetype": "text/x-python",
   "name": "python",
   "nbconvert_exporter": "python",
   "pygments_lexer": "ipython3",
   "version": "3.10.6"
  },
  "lcc_arn": "arn:aws:sagemaker:us-west-2:871623330196:studio-lifecycle-config/sdocker-kg"
 },
 "nbformat": 4,
 "nbformat_minor": 5
}
